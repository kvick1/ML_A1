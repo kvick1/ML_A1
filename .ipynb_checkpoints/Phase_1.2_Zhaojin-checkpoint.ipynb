{
 "cells": [
  {
   "cell_type": "markdown",
   "id": "2ba73b09",
   "metadata": {},
   "source": [
    "# Predicting Employment of Students at an University Campus   "
   ]
  },
  {
   "cell_type": "markdown",
   "id": "32790a36",
   "metadata": {},
   "source": [
    "## Phase 1: Data Pre-processing, Exploration, and Visualisation "
   ]
  },
  {
   "cell_type": "markdown",
   "id": "ee3ee25b",
   "metadata": {},
   "source": [
    "### Group 46\n",
    "### Zhaojin Liu s3206722, Martin Thu s3494324, Klara Vickov s3873315"
   ]
  },
  {
   "cell_type": "markdown",
   "id": "13027db2",
   "metadata": {},
   "source": [
    "## Table of Contents\n",
    "- [Introduction](#intro)\n",
    "    - [Dataset Source](#ds)\n",
    "    - [Dataset Details](#dd)\n",
    "    - [Dataset Features](#df)\n",
    "    - [Target Feature](#tf)\n",
    "- [Goals and Objectives](#go)\n",
    "- [Data Cleaning and Preprocessing](#dcp)\n",
    "    - [Drop ID-like columns](#id)\n",
    "    - [Change feature names](#names)\n",
    "    - [Check for missing and incorrect numerical values](#numval)\n",
    "    - [Check for incorrect categorical values](#catval)\n",
    "    - [Random Sampling](#rs)\n",
    "- [Data Exploration and Visualisation](#dev)\n",
    "- [Literature Review](#lr)\n",
    "- [Summary and Conclusions](#sum)\n",
    "- [References](#ref)"
   ]
  },
  {
   "cell_type": "markdown",
   "id": "e0caeafd",
   "metadata": {},
   "source": [
    "## Introduction <a id='intro'></a>"
   ]
  },
  {
   "cell_type": "markdown",
   "id": "77516b72",
   "metadata": {},
   "source": [
    "### Dataset Source <a id='ds'></a>\n",
    "The dataset was sourced from Kaggle (Roshan, 2020). It was used at Jain University in India for coding practice for Master of Business Administration students. It contains various academic information about students at a university that determines whether they received a placement after university and, if they did, their starting salary."
   ]
  },
  {
   "cell_type": "markdown",
   "id": "882499b3",
   "metadata": {},
   "source": [
    "### Dataset Details <a id='dd'></a>\n",
    "The campus recruitment dataset is about students at a university in India who are looking to get a work placement out of university. If a student was placed, then their salary is also listed. Various features are stored for each student including secondary (10th grade) and higher secondary (12th grade) percentage grade, degree type and specialisation, work experience, and employability test scores.\n",
    "\n",
    "The dataset contains 215 observations and 15 features.\n",
    "\n",
    "Below, we read in the dataset from GitHub, import the modules necessary for this project, and print 10 random observations."
   ]
  },
  {
   "cell_type": "code",
   "execution_count": 2,
   "id": "8a621c47",
   "metadata": {},
   "outputs": [],
   "source": [
    "import pandas as pd \n",
    "import requests\n",
    "import numpy as np\n",
    "import io\n",
    "\n",
    "import warnings\n",
    "warnings.filterwarnings(\"ignore\")\n",
    "\n",
    "pd.set_option('display.max_columns', None) \n",
    "\n",
    "df_url = 'https://raw.githubusercontent.com/kvick1/ML_A1/main/Placement_Data_Full_Class.csv'\n",
    "url_content = requests.get(df_url, verify=False).content\n",
    "placement = pd.read_csv(io.StringIO(url_content.decode('utf-8')))"
   ]
  },
  {
   "cell_type": "code",
   "execution_count": 4,
   "id": "d5995014",
   "metadata": {
    "scrolled": false
   },
   "outputs": [
    {
     "data": {
      "text/html": [
       "<style type=\"text/css\">\n",
       "</style>\n",
       "<table id=\"T_74cc7_\">\n",
       "  <thead>\n",
       "    <tr>\n",
       "      <th class=\"blank level0\" >&nbsp;</th>\n",
       "      <th class=\"col_heading level0 col0\" >sl_no</th>\n",
       "      <th class=\"col_heading level0 col1\" >gender</th>\n",
       "      <th class=\"col_heading level0 col2\" >ssc_p</th>\n",
       "      <th class=\"col_heading level0 col3\" >ssc_b</th>\n",
       "      <th class=\"col_heading level0 col4\" >hsc_p</th>\n",
       "      <th class=\"col_heading level0 col5\" >hsc_b</th>\n",
       "      <th class=\"col_heading level0 col6\" >hsc_s</th>\n",
       "      <th class=\"col_heading level0 col7\" >degree_p</th>\n",
       "      <th class=\"col_heading level0 col8\" >degree_t</th>\n",
       "      <th class=\"col_heading level0 col9\" >workex</th>\n",
       "      <th class=\"col_heading level0 col10\" >etest_p</th>\n",
       "      <th class=\"col_heading level0 col11\" >specialisation</th>\n",
       "      <th class=\"col_heading level0 col12\" >mba_p</th>\n",
       "      <th class=\"col_heading level0 col13\" >status</th>\n",
       "      <th class=\"col_heading level0 col14\" >salary</th>\n",
       "    </tr>\n",
       "  </thead>\n",
       "  <tbody>\n",
       "    <tr>\n",
       "      <th id=\"T_74cc7_level0_row0\" class=\"row_heading level0 row0\" >148</th>\n",
       "      <td id=\"T_74cc7_row0_col0\" class=\"data row0 col0\" >149</td>\n",
       "      <td id=\"T_74cc7_row0_col1\" class=\"data row0 col1\" >F</td>\n",
       "      <td id=\"T_74cc7_row0_col2\" class=\"data row0 col2\" >77.000</td>\n",
       "      <td id=\"T_74cc7_row0_col3\" class=\"data row0 col3\" >Central</td>\n",
       "      <td id=\"T_74cc7_row0_col4\" class=\"data row0 col4\" >86.000</td>\n",
       "      <td id=\"T_74cc7_row0_col5\" class=\"data row0 col5\" >Central</td>\n",
       "      <td id=\"T_74cc7_row0_col6\" class=\"data row0 col6\" >Arts</td>\n",
       "      <td id=\"T_74cc7_row0_col7\" class=\"data row0 col7\" >56.000</td>\n",
       "      <td id=\"T_74cc7_row0_col8\" class=\"data row0 col8\" >Others</td>\n",
       "      <td id=\"T_74cc7_row0_col9\" class=\"data row0 col9\" >No</td>\n",
       "      <td id=\"T_74cc7_row0_col10\" class=\"data row0 col10\" >57.000</td>\n",
       "      <td id=\"T_74cc7_row0_col11\" class=\"data row0 col11\" >Mkt&Fin</td>\n",
       "      <td id=\"T_74cc7_row0_col12\" class=\"data row0 col12\" >64.080</td>\n",
       "      <td id=\"T_74cc7_row0_col13\" class=\"data row0 col13\" >Placed</td>\n",
       "      <td id=\"T_74cc7_row0_col14\" class=\"data row0 col14\" >240000.000</td>\n",
       "    </tr>\n",
       "    <tr>\n",
       "      <th id=\"T_74cc7_level0_row1\" class=\"row_heading level0 row1\" >191</th>\n",
       "      <td id=\"T_74cc7_row1_col0\" class=\"data row1 col0\" >192</td>\n",
       "      <td id=\"T_74cc7_row1_col1\" class=\"data row1 col1\" >M</td>\n",
       "      <td id=\"T_74cc7_row1_col2\" class=\"data row1 col2\" >67.000</td>\n",
       "      <td id=\"T_74cc7_row1_col3\" class=\"data row1 col3\" >Others</td>\n",
       "      <td id=\"T_74cc7_row1_col4\" class=\"data row1 col4\" >61.000</td>\n",
       "      <td id=\"T_74cc7_row1_col5\" class=\"data row1 col5\" >Central</td>\n",
       "      <td id=\"T_74cc7_row1_col6\" class=\"data row1 col6\" >Science</td>\n",
       "      <td id=\"T_74cc7_row1_col7\" class=\"data row1 col7\" >72.000</td>\n",
       "      <td id=\"T_74cc7_row1_col8\" class=\"data row1 col8\" >Comm&Mgmt</td>\n",
       "      <td id=\"T_74cc7_row1_col9\" class=\"data row1 col9\" >No</td>\n",
       "      <td id=\"T_74cc7_row1_col10\" class=\"data row1 col10\" >72.000</td>\n",
       "      <td id=\"T_74cc7_row1_col11\" class=\"data row1 col11\" >Mkt&Fin</td>\n",
       "      <td id=\"T_74cc7_row1_col12\" class=\"data row1 col12\" >61.010</td>\n",
       "      <td id=\"T_74cc7_row1_col13\" class=\"data row1 col13\" >Placed</td>\n",
       "      <td id=\"T_74cc7_row1_col14\" class=\"data row1 col14\" >264000.000</td>\n",
       "    </tr>\n",
       "    <tr>\n",
       "      <th id=\"T_74cc7_level0_row2\" class=\"row_heading level0 row2\" >125</th>\n",
       "      <td id=\"T_74cc7_row2_col0\" class=\"data row2 col0\" >126</td>\n",
       "      <td id=\"T_74cc7_row2_col1\" class=\"data row2 col1\" >F</td>\n",
       "      <td id=\"T_74cc7_row2_col2\" class=\"data row2 col2\" >84.000</td>\n",
       "      <td id=\"T_74cc7_row2_col3\" class=\"data row2 col3\" >Central</td>\n",
       "      <td id=\"T_74cc7_row2_col4\" class=\"data row2 col4\" >73.000</td>\n",
       "      <td id=\"T_74cc7_row2_col5\" class=\"data row2 col5\" >Central</td>\n",
       "      <td id=\"T_74cc7_row2_col6\" class=\"data row2 col6\" >Commerce</td>\n",
       "      <td id=\"T_74cc7_row2_col7\" class=\"data row2 col7\" >73.000</td>\n",
       "      <td id=\"T_74cc7_row2_col8\" class=\"data row2 col8\" >Comm&Mgmt</td>\n",
       "      <td id=\"T_74cc7_row2_col9\" class=\"data row2 col9\" >No</td>\n",
       "      <td id=\"T_74cc7_row2_col10\" class=\"data row2 col10\" >75.000</td>\n",
       "      <td id=\"T_74cc7_row2_col11\" class=\"data row2 col11\" >Mkt&Fin</td>\n",
       "      <td id=\"T_74cc7_row2_col12\" class=\"data row2 col12\" >73.330</td>\n",
       "      <td id=\"T_74cc7_row2_col13\" class=\"data row2 col13\" >Placed</td>\n",
       "      <td id=\"T_74cc7_row2_col14\" class=\"data row2 col14\" >350000.000</td>\n",
       "    </tr>\n",
       "    <tr>\n",
       "      <th id=\"T_74cc7_level0_row3\" class=\"row_heading level0 row3\" >68</th>\n",
       "      <td id=\"T_74cc7_row3_col0\" class=\"data row3 col0\" >69</td>\n",
       "      <td id=\"T_74cc7_row3_col1\" class=\"data row3 col1\" >F</td>\n",
       "      <td id=\"T_74cc7_row3_col2\" class=\"data row3 col2\" >69.700</td>\n",
       "      <td id=\"T_74cc7_row3_col3\" class=\"data row3 col3\" >Central</td>\n",
       "      <td id=\"T_74cc7_row3_col4\" class=\"data row3 col4\" >47.000</td>\n",
       "      <td id=\"T_74cc7_row3_col5\" class=\"data row3 col5\" >Central</td>\n",
       "      <td id=\"T_74cc7_row3_col6\" class=\"data row3 col6\" >Commerce</td>\n",
       "      <td id=\"T_74cc7_row3_col7\" class=\"data row3 col7\" >72.700</td>\n",
       "      <td id=\"T_74cc7_row3_col8\" class=\"data row3 col8\" >Sci&Tech</td>\n",
       "      <td id=\"T_74cc7_row3_col9\" class=\"data row3 col9\" >No</td>\n",
       "      <td id=\"T_74cc7_row3_col10\" class=\"data row3 col10\" >79.000</td>\n",
       "      <td id=\"T_74cc7_row3_col11\" class=\"data row3 col11\" >Mkt&HR</td>\n",
       "      <td id=\"T_74cc7_row3_col12\" class=\"data row3 col12\" >59.240</td>\n",
       "      <td id=\"T_74cc7_row3_col13\" class=\"data row3 col13\" >Not Placed</td>\n",
       "      <td id=\"T_74cc7_row3_col14\" class=\"data row3 col14\" >nan</td>\n",
       "    </tr>\n",
       "    <tr>\n",
       "      <th id=\"T_74cc7_level0_row4\" class=\"row_heading level0 row4\" >187</th>\n",
       "      <td id=\"T_74cc7_row4_col0\" class=\"data row4 col0\" >188</td>\n",
       "      <td id=\"T_74cc7_row4_col1\" class=\"data row4 col1\" >M</td>\n",
       "      <td id=\"T_74cc7_row4_col2\" class=\"data row4 col2\" >78.500</td>\n",
       "      <td id=\"T_74cc7_row4_col3\" class=\"data row4 col3\" >Central</td>\n",
       "      <td id=\"T_74cc7_row4_col4\" class=\"data row4 col4\" >65.500</td>\n",
       "      <td id=\"T_74cc7_row4_col5\" class=\"data row4 col5\" >Central</td>\n",
       "      <td id=\"T_74cc7_row4_col6\" class=\"data row4 col6\" >Science</td>\n",
       "      <td id=\"T_74cc7_row4_col7\" class=\"data row4 col7\" >67.000</td>\n",
       "      <td id=\"T_74cc7_row4_col8\" class=\"data row4 col8\" >Sci&Tech</td>\n",
       "      <td id=\"T_74cc7_row4_col9\" class=\"data row4 col9\" >Yes</td>\n",
       "      <td id=\"T_74cc7_row4_col10\" class=\"data row4 col10\" >95.000</td>\n",
       "      <td id=\"T_74cc7_row4_col11\" class=\"data row4 col11\" >Mkt&Fin</td>\n",
       "      <td id=\"T_74cc7_row4_col12\" class=\"data row4 col12\" >64.860</td>\n",
       "      <td id=\"T_74cc7_row4_col13\" class=\"data row4 col13\" >Placed</td>\n",
       "      <td id=\"T_74cc7_row4_col14\" class=\"data row4 col14\" >280000.000</td>\n",
       "    </tr>\n",
       "    <tr>\n",
       "      <th id=\"T_74cc7_level0_row5\" class=\"row_heading level0 row5\" >91</th>\n",
       "      <td id=\"T_74cc7_row5_col0\" class=\"data row5 col0\" >92</td>\n",
       "      <td id=\"T_74cc7_row5_col1\" class=\"data row5 col1\" >M</td>\n",
       "      <td id=\"T_74cc7_row5_col2\" class=\"data row5 col2\" >52.000</td>\n",
       "      <td id=\"T_74cc7_row5_col3\" class=\"data row5 col3\" >Central</td>\n",
       "      <td id=\"T_74cc7_row5_col4\" class=\"data row5 col4\" >57.000</td>\n",
       "      <td id=\"T_74cc7_row5_col5\" class=\"data row5 col5\" >Central</td>\n",
       "      <td id=\"T_74cc7_row5_col6\" class=\"data row5 col6\" >Commerce</td>\n",
       "      <td id=\"T_74cc7_row5_col7\" class=\"data row5 col7\" >50.800</td>\n",
       "      <td id=\"T_74cc7_row5_col8\" class=\"data row5 col8\" >Comm&Mgmt</td>\n",
       "      <td id=\"T_74cc7_row5_col9\" class=\"data row5 col9\" >No</td>\n",
       "      <td id=\"T_74cc7_row5_col10\" class=\"data row5 col10\" >67.000</td>\n",
       "      <td id=\"T_74cc7_row5_col11\" class=\"data row5 col11\" >Mkt&HR</td>\n",
       "      <td id=\"T_74cc7_row5_col12\" class=\"data row5 col12\" >62.790</td>\n",
       "      <td id=\"T_74cc7_row5_col13\" class=\"data row5 col13\" >Not Placed</td>\n",
       "      <td id=\"T_74cc7_row5_col14\" class=\"data row5 col14\" >nan</td>\n",
       "    </tr>\n",
       "    <tr>\n",
       "      <th id=\"T_74cc7_level0_row6\" class=\"row_heading level0 row6\" >174</th>\n",
       "      <td id=\"T_74cc7_row6_col0\" class=\"data row6 col0\" >175</td>\n",
       "      <td id=\"T_74cc7_row6_col1\" class=\"data row6 col1\" >M</td>\n",
       "      <td id=\"T_74cc7_row6_col2\" class=\"data row6 col2\" >73.240</td>\n",
       "      <td id=\"T_74cc7_row6_col3\" class=\"data row6 col3\" >Others</td>\n",
       "      <td id=\"T_74cc7_row6_col4\" class=\"data row6 col4\" >50.830</td>\n",
       "      <td id=\"T_74cc7_row6_col5\" class=\"data row6 col5\" >Others</td>\n",
       "      <td id=\"T_74cc7_row6_col6\" class=\"data row6 col6\" >Science</td>\n",
       "      <td id=\"T_74cc7_row6_col7\" class=\"data row6 col7\" >64.270</td>\n",
       "      <td id=\"T_74cc7_row6_col8\" class=\"data row6 col8\" >Sci&Tech</td>\n",
       "      <td id=\"T_74cc7_row6_col9\" class=\"data row6 col9\" >Yes</td>\n",
       "      <td id=\"T_74cc7_row6_col10\" class=\"data row6 col10\" >64.000</td>\n",
       "      <td id=\"T_74cc7_row6_col11\" class=\"data row6 col11\" >Mkt&Fin</td>\n",
       "      <td id=\"T_74cc7_row6_col12\" class=\"data row6 col12\" >66.230</td>\n",
       "      <td id=\"T_74cc7_row6_col13\" class=\"data row6 col13\" >Placed</td>\n",
       "      <td id=\"T_74cc7_row6_col14\" class=\"data row6 col14\" >500000.000</td>\n",
       "    </tr>\n",
       "    <tr>\n",
       "      <th id=\"T_74cc7_level0_row7\" class=\"row_heading level0 row7\" >7</th>\n",
       "      <td id=\"T_74cc7_row7_col0\" class=\"data row7 col0\" >8</td>\n",
       "      <td id=\"T_74cc7_row7_col1\" class=\"data row7 col1\" >M</td>\n",
       "      <td id=\"T_74cc7_row7_col2\" class=\"data row7 col2\" >82.000</td>\n",
       "      <td id=\"T_74cc7_row7_col3\" class=\"data row7 col3\" >Central</td>\n",
       "      <td id=\"T_74cc7_row7_col4\" class=\"data row7 col4\" >64.000</td>\n",
       "      <td id=\"T_74cc7_row7_col5\" class=\"data row7 col5\" >Central</td>\n",
       "      <td id=\"T_74cc7_row7_col6\" class=\"data row7 col6\" >Science</td>\n",
       "      <td id=\"T_74cc7_row7_col7\" class=\"data row7 col7\" >66.000</td>\n",
       "      <td id=\"T_74cc7_row7_col8\" class=\"data row7 col8\" >Sci&Tech</td>\n",
       "      <td id=\"T_74cc7_row7_col9\" class=\"data row7 col9\" >Yes</td>\n",
       "      <td id=\"T_74cc7_row7_col10\" class=\"data row7 col10\" >67.000</td>\n",
       "      <td id=\"T_74cc7_row7_col11\" class=\"data row7 col11\" >Mkt&Fin</td>\n",
       "      <td id=\"T_74cc7_row7_col12\" class=\"data row7 col12\" >62.140</td>\n",
       "      <td id=\"T_74cc7_row7_col13\" class=\"data row7 col13\" >Placed</td>\n",
       "      <td id=\"T_74cc7_row7_col14\" class=\"data row7 col14\" >252000.000</td>\n",
       "    </tr>\n",
       "    <tr>\n",
       "      <th id=\"T_74cc7_level0_row8\" class=\"row_heading level0 row8\" >122</th>\n",
       "      <td id=\"T_74cc7_row8_col0\" class=\"data row8 col0\" >123</td>\n",
       "      <td id=\"T_74cc7_row8_col1\" class=\"data row8 col1\" >F</td>\n",
       "      <td id=\"T_74cc7_row8_col2\" class=\"data row8 col2\" >66.500</td>\n",
       "      <td id=\"T_74cc7_row8_col3\" class=\"data row8 col3\" >Central</td>\n",
       "      <td id=\"T_74cc7_row8_col4\" class=\"data row8 col4\" >66.800</td>\n",
       "      <td id=\"T_74cc7_row8_col5\" class=\"data row8 col5\" >Central</td>\n",
       "      <td id=\"T_74cc7_row8_col6\" class=\"data row8 col6\" >Arts</td>\n",
       "      <td id=\"T_74cc7_row8_col7\" class=\"data row8 col7\" >69.300</td>\n",
       "      <td id=\"T_74cc7_row8_col8\" class=\"data row8 col8\" >Comm&Mgmt</td>\n",
       "      <td id=\"T_74cc7_row8_col9\" class=\"data row8 col9\" >Yes</td>\n",
       "      <td id=\"T_74cc7_row8_col10\" class=\"data row8 col10\" >80.400</td>\n",
       "      <td id=\"T_74cc7_row8_col11\" class=\"data row8 col11\" >Mkt&Fin</td>\n",
       "      <td id=\"T_74cc7_row8_col12\" class=\"data row8 col12\" >71.000</td>\n",
       "      <td id=\"T_74cc7_row8_col13\" class=\"data row8 col13\" >Placed</td>\n",
       "      <td id=\"T_74cc7_row8_col14\" class=\"data row8 col14\" >236000.000</td>\n",
       "    </tr>\n",
       "    <tr>\n",
       "      <th id=\"T_74cc7_level0_row9\" class=\"row_heading level0 row9\" >47</th>\n",
       "      <td id=\"T_74cc7_row9_col0\" class=\"data row9 col0\" >48</td>\n",
       "      <td id=\"T_74cc7_row9_col1\" class=\"data row9 col1\" >M</td>\n",
       "      <td id=\"T_74cc7_row9_col2\" class=\"data row9 col2\" >63.000</td>\n",
       "      <td id=\"T_74cc7_row9_col3\" class=\"data row9 col3\" >Central</td>\n",
       "      <td id=\"T_74cc7_row9_col4\" class=\"data row9 col4\" >60.000</td>\n",
       "      <td id=\"T_74cc7_row9_col5\" class=\"data row9 col5\" >Central</td>\n",
       "      <td id=\"T_74cc7_row9_col6\" class=\"data row9 col6\" >Commerce</td>\n",
       "      <td id=\"T_74cc7_row9_col7\" class=\"data row9 col7\" >57.000</td>\n",
       "      <td id=\"T_74cc7_row9_col8\" class=\"data row9 col8\" >Comm&Mgmt</td>\n",
       "      <td id=\"T_74cc7_row9_col9\" class=\"data row9 col9\" >Yes</td>\n",
       "      <td id=\"T_74cc7_row9_col10\" class=\"data row9 col10\" >78.000</td>\n",
       "      <td id=\"T_74cc7_row9_col11\" class=\"data row9 col11\" >Mkt&Fin</td>\n",
       "      <td id=\"T_74cc7_row9_col12\" class=\"data row9 col12\" >54.550</td>\n",
       "      <td id=\"T_74cc7_row9_col13\" class=\"data row9 col13\" >Placed</td>\n",
       "      <td id=\"T_74cc7_row9_col14\" class=\"data row9 col14\" >204000.000</td>\n",
       "    </tr>\n",
       "  </tbody>\n",
       "</table>\n"
      ],
      "text/plain": [
       "<pandas.io.formats.style.Styler at 0x15c422193d0>"
      ]
     },
     "execution_count": 4,
     "metadata": {},
     "output_type": "execute_result"
    }
   ],
   "source": [
    "placement.sample(n=10, random_state=999).style.set_precision(3)"
   ]
  },
  {
   "cell_type": "markdown",
   "id": "008f0ad9",
   "metadata": {},
   "source": [
    "We confirm the number of observations and features below."
   ]
  },
  {
   "cell_type": "code",
   "execution_count": 6,
   "id": "22d871c5",
   "metadata": {},
   "outputs": [
    {
     "data": {
      "text/plain": [
       "(215, 15)"
      ]
     },
     "execution_count": 6,
     "metadata": {},
     "output_type": "execute_result"
    }
   ],
   "source": [
    "placement.shape"
   ]
  },
  {
   "cell_type": "markdown",
   "id": "325153e3",
   "metadata": {},
   "source": [
    "### Dataset Features <a id='df'></a>\n",
    "For the project, 14 out of 15 features will be included. The salary feature will not be included in the project because it is only relevant for students who have received a placement. As the model will only be looking at status of placement as the target feature placement, the salary amount is irrelevant. \n",
    "\n",
    "First, we remove the salary feature from the data frame.\n",
    "Then, we create a table to explain all the included features."
   ]
  },
  {
   "cell_type": "code",
   "execution_count": 7,
   "id": "83337a40",
   "metadata": {},
   "outputs": [],
   "source": [
    "placement = placement.drop(columns=['salary'])"
   ]
  },
  {
   "cell_type": "code",
   "execution_count": 8,
   "id": "7e1eda7b",
   "metadata": {},
   "outputs": [
    {
     "data": {
      "text/html": [
       "<style type=\"text/css\">\n",
       "</style>\n",
       "<table id=\"T_f6bf3_\">\n",
       "  <thead>\n",
       "    <tr>\n",
       "      <th class=\"blank level0\" >&nbsp;</th>\n",
       "      <th class=\"col_heading level0 col0\" >sl_no</th>\n",
       "      <th class=\"col_heading level0 col1\" >gender</th>\n",
       "      <th class=\"col_heading level0 col2\" >ssc_p</th>\n",
       "      <th class=\"col_heading level0 col3\" >ssc_b</th>\n",
       "      <th class=\"col_heading level0 col4\" >hsc_p</th>\n",
       "      <th class=\"col_heading level0 col5\" >hsc_b</th>\n",
       "      <th class=\"col_heading level0 col6\" >hsc_s</th>\n",
       "      <th class=\"col_heading level0 col7\" >degree_p</th>\n",
       "      <th class=\"col_heading level0 col8\" >degree_t</th>\n",
       "      <th class=\"col_heading level0 col9\" >workex</th>\n",
       "      <th class=\"col_heading level0 col10\" >etest_p</th>\n",
       "      <th class=\"col_heading level0 col11\" >specialisation</th>\n",
       "      <th class=\"col_heading level0 col12\" >mba_p</th>\n",
       "      <th class=\"col_heading level0 col13\" >status</th>\n",
       "    </tr>\n",
       "  </thead>\n",
       "  <tbody>\n",
       "    <tr>\n",
       "      <th id=\"T_f6bf3_level0_row0\" class=\"row_heading level0 row0\" >0</th>\n",
       "      <td id=\"T_f6bf3_row0_col0\" class=\"data row0 col0\" >1</td>\n",
       "      <td id=\"T_f6bf3_row0_col1\" class=\"data row0 col1\" >M</td>\n",
       "      <td id=\"T_f6bf3_row0_col2\" class=\"data row0 col2\" >67.000</td>\n",
       "      <td id=\"T_f6bf3_row0_col3\" class=\"data row0 col3\" >Others</td>\n",
       "      <td id=\"T_f6bf3_row0_col4\" class=\"data row0 col4\" >91.000</td>\n",
       "      <td id=\"T_f6bf3_row0_col5\" class=\"data row0 col5\" >Others</td>\n",
       "      <td id=\"T_f6bf3_row0_col6\" class=\"data row0 col6\" >Commerce</td>\n",
       "      <td id=\"T_f6bf3_row0_col7\" class=\"data row0 col7\" >58.000</td>\n",
       "      <td id=\"T_f6bf3_row0_col8\" class=\"data row0 col8\" >Sci&Tech</td>\n",
       "      <td id=\"T_f6bf3_row0_col9\" class=\"data row0 col9\" >No</td>\n",
       "      <td id=\"T_f6bf3_row0_col10\" class=\"data row0 col10\" >55.000</td>\n",
       "      <td id=\"T_f6bf3_row0_col11\" class=\"data row0 col11\" >Mkt&HR</td>\n",
       "      <td id=\"T_f6bf3_row0_col12\" class=\"data row0 col12\" >58.800</td>\n",
       "      <td id=\"T_f6bf3_row0_col13\" class=\"data row0 col13\" >Placed</td>\n",
       "    </tr>\n",
       "    <tr>\n",
       "      <th id=\"T_f6bf3_level0_row1\" class=\"row_heading level0 row1\" >1</th>\n",
       "      <td id=\"T_f6bf3_row1_col0\" class=\"data row1 col0\" >2</td>\n",
       "      <td id=\"T_f6bf3_row1_col1\" class=\"data row1 col1\" >M</td>\n",
       "      <td id=\"T_f6bf3_row1_col2\" class=\"data row1 col2\" >79.330</td>\n",
       "      <td id=\"T_f6bf3_row1_col3\" class=\"data row1 col3\" >Central</td>\n",
       "      <td id=\"T_f6bf3_row1_col4\" class=\"data row1 col4\" >78.330</td>\n",
       "      <td id=\"T_f6bf3_row1_col5\" class=\"data row1 col5\" >Others</td>\n",
       "      <td id=\"T_f6bf3_row1_col6\" class=\"data row1 col6\" >Science</td>\n",
       "      <td id=\"T_f6bf3_row1_col7\" class=\"data row1 col7\" >77.480</td>\n",
       "      <td id=\"T_f6bf3_row1_col8\" class=\"data row1 col8\" >Sci&Tech</td>\n",
       "      <td id=\"T_f6bf3_row1_col9\" class=\"data row1 col9\" >Yes</td>\n",
       "      <td id=\"T_f6bf3_row1_col10\" class=\"data row1 col10\" >86.500</td>\n",
       "      <td id=\"T_f6bf3_row1_col11\" class=\"data row1 col11\" >Mkt&Fin</td>\n",
       "      <td id=\"T_f6bf3_row1_col12\" class=\"data row1 col12\" >66.280</td>\n",
       "      <td id=\"T_f6bf3_row1_col13\" class=\"data row1 col13\" >Placed</td>\n",
       "    </tr>\n",
       "    <tr>\n",
       "      <th id=\"T_f6bf3_level0_row2\" class=\"row_heading level0 row2\" >2</th>\n",
       "      <td id=\"T_f6bf3_row2_col0\" class=\"data row2 col0\" >3</td>\n",
       "      <td id=\"T_f6bf3_row2_col1\" class=\"data row2 col1\" >M</td>\n",
       "      <td id=\"T_f6bf3_row2_col2\" class=\"data row2 col2\" >65.000</td>\n",
       "      <td id=\"T_f6bf3_row2_col3\" class=\"data row2 col3\" >Central</td>\n",
       "      <td id=\"T_f6bf3_row2_col4\" class=\"data row2 col4\" >68.000</td>\n",
       "      <td id=\"T_f6bf3_row2_col5\" class=\"data row2 col5\" >Central</td>\n",
       "      <td id=\"T_f6bf3_row2_col6\" class=\"data row2 col6\" >Arts</td>\n",
       "      <td id=\"T_f6bf3_row2_col7\" class=\"data row2 col7\" >64.000</td>\n",
       "      <td id=\"T_f6bf3_row2_col8\" class=\"data row2 col8\" >Comm&Mgmt</td>\n",
       "      <td id=\"T_f6bf3_row2_col9\" class=\"data row2 col9\" >No</td>\n",
       "      <td id=\"T_f6bf3_row2_col10\" class=\"data row2 col10\" >75.000</td>\n",
       "      <td id=\"T_f6bf3_row2_col11\" class=\"data row2 col11\" >Mkt&Fin</td>\n",
       "      <td id=\"T_f6bf3_row2_col12\" class=\"data row2 col12\" >57.800</td>\n",
       "      <td id=\"T_f6bf3_row2_col13\" class=\"data row2 col13\" >Placed</td>\n",
       "    </tr>\n",
       "    <tr>\n",
       "      <th id=\"T_f6bf3_level0_row3\" class=\"row_heading level0 row3\" >3</th>\n",
       "      <td id=\"T_f6bf3_row3_col0\" class=\"data row3 col0\" >4</td>\n",
       "      <td id=\"T_f6bf3_row3_col1\" class=\"data row3 col1\" >M</td>\n",
       "      <td id=\"T_f6bf3_row3_col2\" class=\"data row3 col2\" >56.000</td>\n",
       "      <td id=\"T_f6bf3_row3_col3\" class=\"data row3 col3\" >Central</td>\n",
       "      <td id=\"T_f6bf3_row3_col4\" class=\"data row3 col4\" >52.000</td>\n",
       "      <td id=\"T_f6bf3_row3_col5\" class=\"data row3 col5\" >Central</td>\n",
       "      <td id=\"T_f6bf3_row3_col6\" class=\"data row3 col6\" >Science</td>\n",
       "      <td id=\"T_f6bf3_row3_col7\" class=\"data row3 col7\" >52.000</td>\n",
       "      <td id=\"T_f6bf3_row3_col8\" class=\"data row3 col8\" >Sci&Tech</td>\n",
       "      <td id=\"T_f6bf3_row3_col9\" class=\"data row3 col9\" >No</td>\n",
       "      <td id=\"T_f6bf3_row3_col10\" class=\"data row3 col10\" >66.000</td>\n",
       "      <td id=\"T_f6bf3_row3_col11\" class=\"data row3 col11\" >Mkt&HR</td>\n",
       "      <td id=\"T_f6bf3_row3_col12\" class=\"data row3 col12\" >59.430</td>\n",
       "      <td id=\"T_f6bf3_row3_col13\" class=\"data row3 col13\" >Not Placed</td>\n",
       "    </tr>\n",
       "    <tr>\n",
       "      <th id=\"T_f6bf3_level0_row4\" class=\"row_heading level0 row4\" >4</th>\n",
       "      <td id=\"T_f6bf3_row4_col0\" class=\"data row4 col0\" >5</td>\n",
       "      <td id=\"T_f6bf3_row4_col1\" class=\"data row4 col1\" >M</td>\n",
       "      <td id=\"T_f6bf3_row4_col2\" class=\"data row4 col2\" >85.800</td>\n",
       "      <td id=\"T_f6bf3_row4_col3\" class=\"data row4 col3\" >Central</td>\n",
       "      <td id=\"T_f6bf3_row4_col4\" class=\"data row4 col4\" >73.600</td>\n",
       "      <td id=\"T_f6bf3_row4_col5\" class=\"data row4 col5\" >Central</td>\n",
       "      <td id=\"T_f6bf3_row4_col6\" class=\"data row4 col6\" >Commerce</td>\n",
       "      <td id=\"T_f6bf3_row4_col7\" class=\"data row4 col7\" >73.300</td>\n",
       "      <td id=\"T_f6bf3_row4_col8\" class=\"data row4 col8\" >Comm&Mgmt</td>\n",
       "      <td id=\"T_f6bf3_row4_col9\" class=\"data row4 col9\" >No</td>\n",
       "      <td id=\"T_f6bf3_row4_col10\" class=\"data row4 col10\" >96.800</td>\n",
       "      <td id=\"T_f6bf3_row4_col11\" class=\"data row4 col11\" >Mkt&Fin</td>\n",
       "      <td id=\"T_f6bf3_row4_col12\" class=\"data row4 col12\" >55.500</td>\n",
       "      <td id=\"T_f6bf3_row4_col13\" class=\"data row4 col13\" >Placed</td>\n",
       "    </tr>\n",
       "  </tbody>\n",
       "</table>\n"
      ],
      "text/plain": [
       "<pandas.io.formats.style.Styler at 0x15c42219b50>"
      ]
     },
     "execution_count": 8,
     "metadata": {},
     "output_type": "execute_result"
    }
   ],
   "source": [
    "placement.head().style.set_precision(3)"
   ]
  },
  {
   "cell_type": "code",
   "execution_count": 9,
   "id": "75df2de4",
   "metadata": {
    "scrolled": true
   },
   "outputs": [
    {
     "data": {
      "text/plain": [
       "array(['sl_no', 'gender', 'ssc_p', 'ssc_b', 'hsc_p', 'hsc_b', 'hsc_s',\n",
       "       'degree_p', 'degree_t', 'workex', 'etest_p', 'specialisation',\n",
       "       'mba_p', 'status'], dtype=object)"
      ]
     },
     "execution_count": 9,
     "metadata": {},
     "output_type": "execute_result"
    }
   ],
   "source": [
    "feature_name = placement.columns.values\n",
    "feature_name"
   ]
  },
  {
   "cell_type": "code",
   "execution_count": 10,
   "id": "d96cb9ed",
   "metadata": {},
   "outputs": [
    {
     "data": {
      "text/plain": [
       "sl_no               int64\n",
       "gender             object\n",
       "ssc_p             float64\n",
       "ssc_b              object\n",
       "hsc_p             float64\n",
       "hsc_b              object\n",
       "hsc_s              object\n",
       "degree_p          float64\n",
       "degree_t           object\n",
       "workex             object\n",
       "etest_p           float64\n",
       "specialisation     object\n",
       "mba_p             float64\n",
       "status             object\n",
       "dtype: object"
      ]
     },
     "execution_count": 10,
     "metadata": {},
     "output_type": "execute_result"
    }
   ],
   "source": [
    "placement.dtypes"
   ]
  },
  {
   "cell_type": "code",
   "execution_count": 11,
   "id": "95ea99d2",
   "metadata": {},
   "outputs": [
    {
     "data": {
      "text/plain": [
       "['numeric',\n",
       " 'nominal categorical',\n",
       " 'numeric',\n",
       " 'nominal categorical',\n",
       " 'numeric',\n",
       " 'nominal categorical',\n",
       " 'nominal categorical',\n",
       " 'numeric',\n",
       " 'nominal categorical',\n",
       " 'nominal categorical',\n",
       " 'numeric',\n",
       " 'nominal categorical',\n",
       " 'numeric',\n",
       " 'nominal categorical']"
      ]
     },
     "execution_count": 11,
     "metadata": {},
     "output_type": "execute_result"
    }
   ],
   "source": [
    "data_types = []\n",
    "\n",
    "for i in placement.dtypes:\n",
    "    if i == \"int64\" or i == \"float64\":\n",
    "        data_types.append(\"numeric\")\n",
    "    if i == \"object\":\n",
    "        data_types.append(\"nominal categorical\")\n",
    "data_types"
   ]
  },
  {
   "cell_type": "code",
   "execution_count": 12,
   "id": "8ce91d93",
   "metadata": {},
   "outputs": [
    {
     "data": {
      "text/plain": [
       "['NA', 'NA', '%', 'NA', '%', 'NA', 'NA', '%', 'NA', 'NA', '%', 'NA', '%', 'NA']"
      ]
     },
     "execution_count": 12,
     "metadata": {},
     "output_type": "execute_result"
    }
   ],
   "source": [
    "units = []\n",
    "for i in placement.dtypes:\n",
    "    if i == 'object':\n",
    "        units.append('NA')\n",
    "    elif i == 'int64':\n",
    "        units.append('NA')\n",
    "    else:\n",
    "        units.append('%')      \n",
    "units"
   ]
  },
  {
   "cell_type": "code",
   "execution_count": 13,
   "id": "00240477",
   "metadata": {},
   "outputs": [
    {
     "data": {
      "text/plain": [
       "['Serial number',\n",
       " 'M - male; F - female',\n",
       " 'Secondary education percentage in 10th grade',\n",
       " 'Board of Education in 10th grade - central/others',\n",
       " 'Higher secondary education percentage in 12th grade',\n",
       " 'Board of education in 12th grade - central/others',\n",
       " 'Specialisation in higher secondary education (Commerce, Science, Other)',\n",
       " 'Undergraduate degree grade percentage',\n",
       " 'Undergraduate degree type - field of degree education',\n",
       " 'Yes - work experience completed; No - work experience not completed',\n",
       " 'Employability test percentage, conducted by college',\n",
       " 'Post-graduate (MBA) specialisation. Mkt&Fin - marketing and finance; Mkt&HR - markerting and human resources',\n",
       " 'Post-graduate (MBA) grade percentage',\n",
       " 'Placed - received placement; Not Placed - not received placement']"
      ]
     },
     "execution_count": 13,
     "metadata": {},
     "output_type": "execute_result"
    }
   ],
   "source": [
    "description = ['Serial number', 'M - male; F - female', 'Secondary education percentage in 10th grade', 'Board of Education in 10th grade - central/others', 'Higher secondary education percentage in 12th grade', \n",
    "              'Board of education in 12th grade - central/others', 'Specialisation in higher secondary education (Commerce, Science, Other)', 'Undergraduate degree grade percentage',\n",
    "              'Undergraduate degree type - field of degree education', 'Yes - work experience completed; No - work experience not completed',\n",
    "              'Employability test percentage, conducted by college', 'Post-graduate (MBA) specialisation. Mkt&Fin - marketing and finance; Mkt&HR - markerting and human resources',\n",
    "              'Post-graduate (MBA) grade percentage', 'Placed - received placement; Not Placed - not received placement']\n",
    "description"
   ]
  },
  {
   "cell_type": "code",
   "execution_count": 14,
   "id": "614b57a7",
   "metadata": {},
   "outputs": [
    {
     "data": {
      "text/html": [
       "<style type=\"text/css\">\n",
       "</style>\n",
       "<table id=\"T_e4cc5_\">\n",
       "  <thead>\n",
       "    <tr>\n",
       "      <th class=\"col_heading level0 col0\" >Name</th>\n",
       "      <th class=\"col_heading level0 col1\" >Data type</th>\n",
       "      <th class=\"col_heading level0 col2\" >Units</th>\n",
       "      <th class=\"col_heading level0 col3\" >Description</th>\n",
       "    </tr>\n",
       "  </thead>\n",
       "  <tbody>\n",
       "    <tr>\n",
       "      <td id=\"T_e4cc5_row0_col0\" class=\"data row0 col0\" >sl_no</td>\n",
       "      <td id=\"T_e4cc5_row0_col1\" class=\"data row0 col1\" >numeric</td>\n",
       "      <td id=\"T_e4cc5_row0_col2\" class=\"data row0 col2\" >NA</td>\n",
       "      <td id=\"T_e4cc5_row0_col3\" class=\"data row0 col3\" >Serial number</td>\n",
       "    </tr>\n",
       "    <tr>\n",
       "      <td id=\"T_e4cc5_row1_col0\" class=\"data row1 col0\" >gender</td>\n",
       "      <td id=\"T_e4cc5_row1_col1\" class=\"data row1 col1\" >nominal categorical</td>\n",
       "      <td id=\"T_e4cc5_row1_col2\" class=\"data row1 col2\" >NA</td>\n",
       "      <td id=\"T_e4cc5_row1_col3\" class=\"data row1 col3\" >M - male; F - female</td>\n",
       "    </tr>\n",
       "    <tr>\n",
       "      <td id=\"T_e4cc5_row2_col0\" class=\"data row2 col0\" >ssc_p</td>\n",
       "      <td id=\"T_e4cc5_row2_col1\" class=\"data row2 col1\" >numeric</td>\n",
       "      <td id=\"T_e4cc5_row2_col2\" class=\"data row2 col2\" >%</td>\n",
       "      <td id=\"T_e4cc5_row2_col3\" class=\"data row2 col3\" >Secondary education percentage in 10th grade</td>\n",
       "    </tr>\n",
       "    <tr>\n",
       "      <td id=\"T_e4cc5_row3_col0\" class=\"data row3 col0\" >ssc_b</td>\n",
       "      <td id=\"T_e4cc5_row3_col1\" class=\"data row3 col1\" >nominal categorical</td>\n",
       "      <td id=\"T_e4cc5_row3_col2\" class=\"data row3 col2\" >NA</td>\n",
       "      <td id=\"T_e4cc5_row3_col3\" class=\"data row3 col3\" >Board of Education in 10th grade - central/others</td>\n",
       "    </tr>\n",
       "    <tr>\n",
       "      <td id=\"T_e4cc5_row4_col0\" class=\"data row4 col0\" >hsc_p</td>\n",
       "      <td id=\"T_e4cc5_row4_col1\" class=\"data row4 col1\" >numeric</td>\n",
       "      <td id=\"T_e4cc5_row4_col2\" class=\"data row4 col2\" >%</td>\n",
       "      <td id=\"T_e4cc5_row4_col3\" class=\"data row4 col3\" >Higher secondary education percentage in 12th grade</td>\n",
       "    </tr>\n",
       "    <tr>\n",
       "      <td id=\"T_e4cc5_row5_col0\" class=\"data row5 col0\" >hsc_b</td>\n",
       "      <td id=\"T_e4cc5_row5_col1\" class=\"data row5 col1\" >nominal categorical</td>\n",
       "      <td id=\"T_e4cc5_row5_col2\" class=\"data row5 col2\" >NA</td>\n",
       "      <td id=\"T_e4cc5_row5_col3\" class=\"data row5 col3\" >Board of education in 12th grade - central/others</td>\n",
       "    </tr>\n",
       "    <tr>\n",
       "      <td id=\"T_e4cc5_row6_col0\" class=\"data row6 col0\" >hsc_s</td>\n",
       "      <td id=\"T_e4cc5_row6_col1\" class=\"data row6 col1\" >nominal categorical</td>\n",
       "      <td id=\"T_e4cc5_row6_col2\" class=\"data row6 col2\" >NA</td>\n",
       "      <td id=\"T_e4cc5_row6_col3\" class=\"data row6 col3\" >Specialisation in higher secondary education (Commerce, Science, Other)</td>\n",
       "    </tr>\n",
       "    <tr>\n",
       "      <td id=\"T_e4cc5_row7_col0\" class=\"data row7 col0\" >degree_p</td>\n",
       "      <td id=\"T_e4cc5_row7_col1\" class=\"data row7 col1\" >numeric</td>\n",
       "      <td id=\"T_e4cc5_row7_col2\" class=\"data row7 col2\" >%</td>\n",
       "      <td id=\"T_e4cc5_row7_col3\" class=\"data row7 col3\" >Undergraduate degree grade percentage</td>\n",
       "    </tr>\n",
       "    <tr>\n",
       "      <td id=\"T_e4cc5_row8_col0\" class=\"data row8 col0\" >degree_t</td>\n",
       "      <td id=\"T_e4cc5_row8_col1\" class=\"data row8 col1\" >nominal categorical</td>\n",
       "      <td id=\"T_e4cc5_row8_col2\" class=\"data row8 col2\" >NA</td>\n",
       "      <td id=\"T_e4cc5_row8_col3\" class=\"data row8 col3\" >Undergraduate degree type - field of degree education</td>\n",
       "    </tr>\n",
       "    <tr>\n",
       "      <td id=\"T_e4cc5_row9_col0\" class=\"data row9 col0\" >workex</td>\n",
       "      <td id=\"T_e4cc5_row9_col1\" class=\"data row9 col1\" >nominal categorical</td>\n",
       "      <td id=\"T_e4cc5_row9_col2\" class=\"data row9 col2\" >NA</td>\n",
       "      <td id=\"T_e4cc5_row9_col3\" class=\"data row9 col3\" >Yes - work experience completed; No - work experience not completed</td>\n",
       "    </tr>\n",
       "    <tr>\n",
       "      <td id=\"T_e4cc5_row10_col0\" class=\"data row10 col0\" >etest_p</td>\n",
       "      <td id=\"T_e4cc5_row10_col1\" class=\"data row10 col1\" >numeric</td>\n",
       "      <td id=\"T_e4cc5_row10_col2\" class=\"data row10 col2\" >%</td>\n",
       "      <td id=\"T_e4cc5_row10_col3\" class=\"data row10 col3\" >Employability test percentage, conducted by college</td>\n",
       "    </tr>\n",
       "    <tr>\n",
       "      <td id=\"T_e4cc5_row11_col0\" class=\"data row11 col0\" >specialisation</td>\n",
       "      <td id=\"T_e4cc5_row11_col1\" class=\"data row11 col1\" >nominal categorical</td>\n",
       "      <td id=\"T_e4cc5_row11_col2\" class=\"data row11 col2\" >NA</td>\n",
       "      <td id=\"T_e4cc5_row11_col3\" class=\"data row11 col3\" >Post-graduate (MBA) specialisation. Mkt&Fin - marketing and finance; Mkt&HR - markerting and human resources</td>\n",
       "    </tr>\n",
       "    <tr>\n",
       "      <td id=\"T_e4cc5_row12_col0\" class=\"data row12 col0\" >mba_p</td>\n",
       "      <td id=\"T_e4cc5_row12_col1\" class=\"data row12 col1\" >numeric</td>\n",
       "      <td id=\"T_e4cc5_row12_col2\" class=\"data row12 col2\" >%</td>\n",
       "      <td id=\"T_e4cc5_row12_col3\" class=\"data row12 col3\" >Post-graduate (MBA) grade percentage</td>\n",
       "    </tr>\n",
       "    <tr>\n",
       "      <td id=\"T_e4cc5_row13_col0\" class=\"data row13 col0\" >status</td>\n",
       "      <td id=\"T_e4cc5_row13_col1\" class=\"data row13 col1\" >nominal categorical</td>\n",
       "      <td id=\"T_e4cc5_row13_col2\" class=\"data row13 col2\" >NA</td>\n",
       "      <td id=\"T_e4cc5_row13_col3\" class=\"data row13 col3\" >Placed - received placement; Not Placed - not received placement</td>\n",
       "    </tr>\n",
       "  </tbody>\n",
       "</table>\n"
      ],
      "text/plain": [
       "<pandas.io.formats.style.Styler at 0x15c413d6ac0>"
      ]
     },
     "execution_count": 14,
     "metadata": {},
     "output_type": "execute_result"
    }
   ],
   "source": [
    "table = pd.DataFrame({\"Name\": feature_name,\n",
    "                             \"Data type\":  data_types,\n",
    "                             \"Units\": units,\n",
    "                             \"Description\": description})\n",
    "table.style.hide_index()"
   ]
  },
  {
   "cell_type": "markdown",
   "id": "cb283726",
   "metadata": {},
   "source": [
    "### Target Feature <a id='tf'></a>\n",
    "The feature chosen to be the target feature is 'status'. This feature states whether a student did or did not receive a placement. It is a categorical feature and will be predicted in Phase 2 of the project based off all the other features in the dataset."
   ]
  },
  {
   "cell_type": "markdown",
   "id": "99f60e58",
   "metadata": {},
   "source": [
    "## Goals and Objectives <a id='go'></a>\n",
    "The overall goal of is to be able to predict which students will get placed in a job after graduating from the university in India. Through our modeling, we hope to find which features are most indicative of whether a student will get placed. \n",
    "\n",
    "Knowing this information will help both students and the university. For students, it will mean they know what aspects of their education to focus on in order to increase their chances of getting placed after university. For universities, this will be helpful in determining where to direct their time and money. It could mean advertising for more work experience, placing more funding in certain degree specialisations, or even working with a different Board of Education."
   ]
  },
  {
   "cell_type": "markdown",
   "id": "9865029a",
   "metadata": {},
   "source": [
    "## Data Cleaning and Preprocessing <a id='dcp'></a>\n",
    "We will undertake several data cleaning and preprocessing steps to prepare the data for modeling in Phase 2 of the project.\n",
    "Looking through the dataset features, it is clear that the column, sl_no, is just an identification number for each student. As such, we will not be using it for our modeling. Rather than completely removing it, we will simply turn it into the index column and remove its name."
   ]
  },
  {
   "cell_type": "markdown",
   "id": "2ee40fdf",
   "metadata": {},
   "source": [
    "### Drop ID-like columns <a id='id'></a>"
   ]
  },
  {
   "cell_type": "code",
   "execution_count": 15,
   "id": "8246ea42",
   "metadata": {},
   "outputs": [
    {
     "data": {
      "text/plain": [
       "Index(['sl_no', 'gender', 'ssc_p', 'ssc_b', 'hsc_p', 'hsc_b', 'hsc_s',\n",
       "       'degree_p', 'degree_t', 'workex', 'etest_p', 'specialisation', 'mba_p',\n",
       "       'status'],\n",
       "      dtype='object')"
      ]
     },
     "execution_count": 15,
     "metadata": {},
     "output_type": "execute_result"
    }
   ],
   "source": [
    "placement.columns"
   ]
  },
  {
   "cell_type": "code",
   "execution_count": 16,
   "id": "fdf5f4f0",
   "metadata": {
    "scrolled": true
   },
   "outputs": [],
   "source": [
    "placement.rename(columns = {'sl_no': ''},inplace = True)\n",
    "placement.set_index('', inplace = True)"
   ]
  },
  {
   "cell_type": "markdown",
   "id": "8c2f7d75",
   "metadata": {},
   "source": [
    "### Change feature names <a id='names'></a>"
   ]
  },
  {
   "cell_type": "markdown",
   "id": "3212df75",
   "metadata": {},
   "source": [
    "All other features will be used in the project, so we do not remove them. The feature names are not very descriptive, so we will change the names of some features to ensure they provide us with an overview of what each column represents."
   ]
  },
  {
   "cell_type": "code",
   "execution_count": 17,
   "id": "722c1a0b",
   "metadata": {},
   "outputs": [
    {
     "data": {
      "text/html": [
       "<style type=\"text/css\">\n",
       "</style>\n",
       "<table id=\"T_3aed4_\">\n",
       "  <thead>\n",
       "    <tr>\n",
       "      <th class=\"blank level0\" >&nbsp;</th>\n",
       "      <th class=\"col_heading level0 col0\" >Gender</th>\n",
       "      <th class=\"col_heading level0 col1\" >Secondary Education Percentage</th>\n",
       "      <th class=\"col_heading level0 col2\" >Secondary Board of Education</th>\n",
       "      <th class=\"col_heading level0 col3\" >Higher Secondary Education Percentage</th>\n",
       "      <th class=\"col_heading level0 col4\" >Higher Secondary Board of Education</th>\n",
       "      <th class=\"col_heading level0 col5\" >Higher Secondary Specialisation</th>\n",
       "      <th class=\"col_heading level0 col6\" >Undergraduate Degree Percentage</th>\n",
       "      <th class=\"col_heading level0 col7\" >Undergraduate Degree Type</th>\n",
       "      <th class=\"col_heading level0 col8\" >Work Experience</th>\n",
       "      <th class=\"col_heading level0 col9\" >Employability Test Percentage</th>\n",
       "      <th class=\"col_heading level0 col10\" >Post Graduate Specialisation</th>\n",
       "      <th class=\"col_heading level0 col11\" >MBA Grade Percentage</th>\n",
       "      <th class=\"col_heading level0 col12\" >Status</th>\n",
       "    </tr>\n",
       "    <tr>\n",
       "      <th class=\"index_name level0\" ></th>\n",
       "      <th class=\"blank col0\" >&nbsp;</th>\n",
       "      <th class=\"blank col1\" >&nbsp;</th>\n",
       "      <th class=\"blank col2\" >&nbsp;</th>\n",
       "      <th class=\"blank col3\" >&nbsp;</th>\n",
       "      <th class=\"blank col4\" >&nbsp;</th>\n",
       "      <th class=\"blank col5\" >&nbsp;</th>\n",
       "      <th class=\"blank col6\" >&nbsp;</th>\n",
       "      <th class=\"blank col7\" >&nbsp;</th>\n",
       "      <th class=\"blank col8\" >&nbsp;</th>\n",
       "      <th class=\"blank col9\" >&nbsp;</th>\n",
       "      <th class=\"blank col10\" >&nbsp;</th>\n",
       "      <th class=\"blank col11\" >&nbsp;</th>\n",
       "      <th class=\"blank col12\" >&nbsp;</th>\n",
       "    </tr>\n",
       "  </thead>\n",
       "  <tbody>\n",
       "    <tr>\n",
       "      <th id=\"T_3aed4_level0_row0\" class=\"row_heading level0 row0\" >149</th>\n",
       "      <td id=\"T_3aed4_row0_col0\" class=\"data row0 col0\" >F</td>\n",
       "      <td id=\"T_3aed4_row0_col1\" class=\"data row0 col1\" >77.000</td>\n",
       "      <td id=\"T_3aed4_row0_col2\" class=\"data row0 col2\" >Central</td>\n",
       "      <td id=\"T_3aed4_row0_col3\" class=\"data row0 col3\" >86.000</td>\n",
       "      <td id=\"T_3aed4_row0_col4\" class=\"data row0 col4\" >Central</td>\n",
       "      <td id=\"T_3aed4_row0_col5\" class=\"data row0 col5\" >Arts</td>\n",
       "      <td id=\"T_3aed4_row0_col6\" class=\"data row0 col6\" >56.000</td>\n",
       "      <td id=\"T_3aed4_row0_col7\" class=\"data row0 col7\" >Others</td>\n",
       "      <td id=\"T_3aed4_row0_col8\" class=\"data row0 col8\" >No</td>\n",
       "      <td id=\"T_3aed4_row0_col9\" class=\"data row0 col9\" >57.000</td>\n",
       "      <td id=\"T_3aed4_row0_col10\" class=\"data row0 col10\" >Mkt&Fin</td>\n",
       "      <td id=\"T_3aed4_row0_col11\" class=\"data row0 col11\" >64.080</td>\n",
       "      <td id=\"T_3aed4_row0_col12\" class=\"data row0 col12\" >Placed</td>\n",
       "    </tr>\n",
       "    <tr>\n",
       "      <th id=\"T_3aed4_level0_row1\" class=\"row_heading level0 row1\" >192</th>\n",
       "      <td id=\"T_3aed4_row1_col0\" class=\"data row1 col0\" >M</td>\n",
       "      <td id=\"T_3aed4_row1_col1\" class=\"data row1 col1\" >67.000</td>\n",
       "      <td id=\"T_3aed4_row1_col2\" class=\"data row1 col2\" >Others</td>\n",
       "      <td id=\"T_3aed4_row1_col3\" class=\"data row1 col3\" >61.000</td>\n",
       "      <td id=\"T_3aed4_row1_col4\" class=\"data row1 col4\" >Central</td>\n",
       "      <td id=\"T_3aed4_row1_col5\" class=\"data row1 col5\" >Science</td>\n",
       "      <td id=\"T_3aed4_row1_col6\" class=\"data row1 col6\" >72.000</td>\n",
       "      <td id=\"T_3aed4_row1_col7\" class=\"data row1 col7\" >Comm&Mgmt</td>\n",
       "      <td id=\"T_3aed4_row1_col8\" class=\"data row1 col8\" >No</td>\n",
       "      <td id=\"T_3aed4_row1_col9\" class=\"data row1 col9\" >72.000</td>\n",
       "      <td id=\"T_3aed4_row1_col10\" class=\"data row1 col10\" >Mkt&Fin</td>\n",
       "      <td id=\"T_3aed4_row1_col11\" class=\"data row1 col11\" >61.010</td>\n",
       "      <td id=\"T_3aed4_row1_col12\" class=\"data row1 col12\" >Placed</td>\n",
       "    </tr>\n",
       "    <tr>\n",
       "      <th id=\"T_3aed4_level0_row2\" class=\"row_heading level0 row2\" >126</th>\n",
       "      <td id=\"T_3aed4_row2_col0\" class=\"data row2 col0\" >F</td>\n",
       "      <td id=\"T_3aed4_row2_col1\" class=\"data row2 col1\" >84.000</td>\n",
       "      <td id=\"T_3aed4_row2_col2\" class=\"data row2 col2\" >Central</td>\n",
       "      <td id=\"T_3aed4_row2_col3\" class=\"data row2 col3\" >73.000</td>\n",
       "      <td id=\"T_3aed4_row2_col4\" class=\"data row2 col4\" >Central</td>\n",
       "      <td id=\"T_3aed4_row2_col5\" class=\"data row2 col5\" >Commerce</td>\n",
       "      <td id=\"T_3aed4_row2_col6\" class=\"data row2 col6\" >73.000</td>\n",
       "      <td id=\"T_3aed4_row2_col7\" class=\"data row2 col7\" >Comm&Mgmt</td>\n",
       "      <td id=\"T_3aed4_row2_col8\" class=\"data row2 col8\" >No</td>\n",
       "      <td id=\"T_3aed4_row2_col9\" class=\"data row2 col9\" >75.000</td>\n",
       "      <td id=\"T_3aed4_row2_col10\" class=\"data row2 col10\" >Mkt&Fin</td>\n",
       "      <td id=\"T_3aed4_row2_col11\" class=\"data row2 col11\" >73.330</td>\n",
       "      <td id=\"T_3aed4_row2_col12\" class=\"data row2 col12\" >Placed</td>\n",
       "    </tr>\n",
       "    <tr>\n",
       "      <th id=\"T_3aed4_level0_row3\" class=\"row_heading level0 row3\" >69</th>\n",
       "      <td id=\"T_3aed4_row3_col0\" class=\"data row3 col0\" >F</td>\n",
       "      <td id=\"T_3aed4_row3_col1\" class=\"data row3 col1\" >69.700</td>\n",
       "      <td id=\"T_3aed4_row3_col2\" class=\"data row3 col2\" >Central</td>\n",
       "      <td id=\"T_3aed4_row3_col3\" class=\"data row3 col3\" >47.000</td>\n",
       "      <td id=\"T_3aed4_row3_col4\" class=\"data row3 col4\" >Central</td>\n",
       "      <td id=\"T_3aed4_row3_col5\" class=\"data row3 col5\" >Commerce</td>\n",
       "      <td id=\"T_3aed4_row3_col6\" class=\"data row3 col6\" >72.700</td>\n",
       "      <td id=\"T_3aed4_row3_col7\" class=\"data row3 col7\" >Sci&Tech</td>\n",
       "      <td id=\"T_3aed4_row3_col8\" class=\"data row3 col8\" >No</td>\n",
       "      <td id=\"T_3aed4_row3_col9\" class=\"data row3 col9\" >79.000</td>\n",
       "      <td id=\"T_3aed4_row3_col10\" class=\"data row3 col10\" >Mkt&HR</td>\n",
       "      <td id=\"T_3aed4_row3_col11\" class=\"data row3 col11\" >59.240</td>\n",
       "      <td id=\"T_3aed4_row3_col12\" class=\"data row3 col12\" >Not Placed</td>\n",
       "    </tr>\n",
       "    <tr>\n",
       "      <th id=\"T_3aed4_level0_row4\" class=\"row_heading level0 row4\" >188</th>\n",
       "      <td id=\"T_3aed4_row4_col0\" class=\"data row4 col0\" >M</td>\n",
       "      <td id=\"T_3aed4_row4_col1\" class=\"data row4 col1\" >78.500</td>\n",
       "      <td id=\"T_3aed4_row4_col2\" class=\"data row4 col2\" >Central</td>\n",
       "      <td id=\"T_3aed4_row4_col3\" class=\"data row4 col3\" >65.500</td>\n",
       "      <td id=\"T_3aed4_row4_col4\" class=\"data row4 col4\" >Central</td>\n",
       "      <td id=\"T_3aed4_row4_col5\" class=\"data row4 col5\" >Science</td>\n",
       "      <td id=\"T_3aed4_row4_col6\" class=\"data row4 col6\" >67.000</td>\n",
       "      <td id=\"T_3aed4_row4_col7\" class=\"data row4 col7\" >Sci&Tech</td>\n",
       "      <td id=\"T_3aed4_row4_col8\" class=\"data row4 col8\" >Yes</td>\n",
       "      <td id=\"T_3aed4_row4_col9\" class=\"data row4 col9\" >95.000</td>\n",
       "      <td id=\"T_3aed4_row4_col10\" class=\"data row4 col10\" >Mkt&Fin</td>\n",
       "      <td id=\"T_3aed4_row4_col11\" class=\"data row4 col11\" >64.860</td>\n",
       "      <td id=\"T_3aed4_row4_col12\" class=\"data row4 col12\" >Placed</td>\n",
       "    </tr>\n",
       "  </tbody>\n",
       "</table>\n"
      ],
      "text/plain": [
       "<pandas.io.formats.style.Styler at 0x15c413ccb80>"
      ]
     },
     "execution_count": 17,
     "metadata": {},
     "output_type": "execute_result"
    }
   ],
   "source": [
    "placement.rename(columns = {'gender': 'Gender'},inplace = True)\n",
    "placement.rename(columns = {'ssc_p': 'Secondary Education Percentage'},inplace = True)\n",
    "placement.rename(columns = {'ssc_b': 'Secondary Board of Education'},inplace = True)\n",
    "placement.rename(columns = {'hsc_p': 'Higher Secondary Education Percentage'},inplace = True)\n",
    "placement.rename(columns = {'hsc_b': 'Higher Secondary Board of Education'},inplace = True)\n",
    "placement.rename(columns = {'hsc_s': 'Higher Secondary Specialisation'},inplace = True)\n",
    "placement.rename(columns = {'degree_p': 'Undergraduate Degree Percentage'},inplace = True)\n",
    "placement.rename(columns = {'degree_t': 'Undergraduate Degree Type'},inplace = True)\n",
    "placement.rename(columns = {'workex': 'Work Experience'},inplace = True)\n",
    "placement.rename(columns = {'etest_p': 'Employability Test Percentage'},inplace = True)\n",
    "placement.rename(columns = {'specialisation': 'Post Graduate Specialisation'},inplace = True)\n",
    "placement.rename(columns = {'mba_p': 'MBA Grade Percentage'},inplace = True)\n",
    "placement.rename(columns = {'status': 'Status'},inplace = True)\n",
    "\n",
    "placement.sample(5, random_state=999).style.set_precision(3)"
   ]
  },
  {
   "cell_type": "markdown",
   "id": "9a4db03d",
   "metadata": {},
   "source": [
    "### Check for missing and incorrect numerical values <a id='numval'></a>"
   ]
  },
  {
   "cell_type": "markdown",
   "id": "27958c55",
   "metadata": {},
   "source": [
    "Next, we check for missing values. There are no missing values, so no cleaning needs to be done here."
   ]
  },
  {
   "cell_type": "code",
   "execution_count": 18,
   "id": "56cd5c0e",
   "metadata": {},
   "outputs": [
    {
     "data": {
      "text/plain": [
       "Gender                                   0\n",
       "Secondary Education Percentage           0\n",
       "Secondary Board of Education             0\n",
       "Higher Secondary Education Percentage    0\n",
       "Higher Secondary Board of Education      0\n",
       "Higher Secondary Specialisation          0\n",
       "Undergraduate Degree Percentage          0\n",
       "Undergraduate Degree Type                0\n",
       "Work Experience                          0\n",
       "Employability Test Percentage            0\n",
       "Post Graduate Specialisation             0\n",
       "MBA Grade Percentage                     0\n",
       "Status                                   0\n",
       "dtype: int64"
      ]
     },
     "execution_count": 18,
     "metadata": {},
     "output_type": "execute_result"
    }
   ],
   "source": [
    "placement.isnull().sum()"
   ]
  },
  {
   "cell_type": "markdown",
   "id": "10c97fc4",
   "metadata": {},
   "source": [
    "Next, we have a look at all the numerical features to check for any incorrect values. As all these features are percentages, we expect values to be within 0 and 100, which they all are."
   ]
  },
  {
   "cell_type": "code",
   "execution_count": 19,
   "id": "57337b01",
   "metadata": {
    "scrolled": true
   },
   "outputs": [
    {
     "data": {
      "text/html": [
       "<div>\n",
       "<style scoped>\n",
       "    .dataframe tbody tr th:only-of-type {\n",
       "        vertical-align: middle;\n",
       "    }\n",
       "\n",
       "    .dataframe tbody tr th {\n",
       "        vertical-align: top;\n",
       "    }\n",
       "\n",
       "    .dataframe thead th {\n",
       "        text-align: right;\n",
       "    }\n",
       "</style>\n",
       "<table border=\"1\" class=\"dataframe\">\n",
       "  <thead>\n",
       "    <tr style=\"text-align: right;\">\n",
       "      <th></th>\n",
       "      <th>Secondary Education Percentage</th>\n",
       "      <th>Higher Secondary Education Percentage</th>\n",
       "      <th>Undergraduate Degree Percentage</th>\n",
       "      <th>Employability Test Percentage</th>\n",
       "      <th>MBA Grade Percentage</th>\n",
       "    </tr>\n",
       "  </thead>\n",
       "  <tbody>\n",
       "    <tr>\n",
       "      <th>count</th>\n",
       "      <td>215.000</td>\n",
       "      <td>215.000</td>\n",
       "      <td>215.000</td>\n",
       "      <td>215.000</td>\n",
       "      <td>215.000</td>\n",
       "    </tr>\n",
       "    <tr>\n",
       "      <th>mean</th>\n",
       "      <td>67.303</td>\n",
       "      <td>66.333</td>\n",
       "      <td>66.370</td>\n",
       "      <td>72.101</td>\n",
       "      <td>62.278</td>\n",
       "    </tr>\n",
       "    <tr>\n",
       "      <th>std</th>\n",
       "      <td>10.827</td>\n",
       "      <td>10.898</td>\n",
       "      <td>7.359</td>\n",
       "      <td>13.276</td>\n",
       "      <td>5.833</td>\n",
       "    </tr>\n",
       "    <tr>\n",
       "      <th>min</th>\n",
       "      <td>40.890</td>\n",
       "      <td>37.000</td>\n",
       "      <td>50.000</td>\n",
       "      <td>50.000</td>\n",
       "      <td>51.210</td>\n",
       "    </tr>\n",
       "    <tr>\n",
       "      <th>25%</th>\n",
       "      <td>60.600</td>\n",
       "      <td>60.900</td>\n",
       "      <td>61.000</td>\n",
       "      <td>60.000</td>\n",
       "      <td>57.945</td>\n",
       "    </tr>\n",
       "    <tr>\n",
       "      <th>50%</th>\n",
       "      <td>67.000</td>\n",
       "      <td>65.000</td>\n",
       "      <td>66.000</td>\n",
       "      <td>71.000</td>\n",
       "      <td>62.000</td>\n",
       "    </tr>\n",
       "    <tr>\n",
       "      <th>75%</th>\n",
       "      <td>75.700</td>\n",
       "      <td>73.000</td>\n",
       "      <td>72.000</td>\n",
       "      <td>83.500</td>\n",
       "      <td>66.255</td>\n",
       "    </tr>\n",
       "    <tr>\n",
       "      <th>max</th>\n",
       "      <td>89.400</td>\n",
       "      <td>97.700</td>\n",
       "      <td>91.000</td>\n",
       "      <td>98.000</td>\n",
       "      <td>77.890</td>\n",
       "    </tr>\n",
       "  </tbody>\n",
       "</table>\n",
       "</div>"
      ],
      "text/plain": [
       "       Secondary Education Percentage  Higher Secondary Education Percentage  \\\n",
       "count                         215.000                                215.000   \n",
       "mean                           67.303                                 66.333   \n",
       "std                            10.827                                 10.898   \n",
       "min                            40.890                                 37.000   \n",
       "25%                            60.600                                 60.900   \n",
       "50%                            67.000                                 65.000   \n",
       "75%                            75.700                                 73.000   \n",
       "max                            89.400                                 97.700   \n",
       "\n",
       "       Undergraduate Degree Percentage  Employability Test Percentage  \\\n",
       "count                          215.000                        215.000   \n",
       "mean                            66.370                         72.101   \n",
       "std                              7.359                         13.276   \n",
       "min                             50.000                         50.000   \n",
       "25%                             61.000                         60.000   \n",
       "50%                             66.000                         71.000   \n",
       "75%                             72.000                         83.500   \n",
       "max                             91.000                         98.000   \n",
       "\n",
       "       MBA Grade Percentage  \n",
       "count               215.000  \n",
       "mean                 62.278  \n",
       "std                   5.833  \n",
       "min                  51.210  \n",
       "25%                  57.945  \n",
       "50%                  62.000  \n",
       "75%                  66.255  \n",
       "max                  77.890  "
      ]
     },
     "execution_count": 19,
     "metadata": {},
     "output_type": "execute_result"
    }
   ],
   "source": [
    "placement.describe(include=np.number).round(3)"
   ]
  },
  {
   "cell_type": "markdown",
   "id": "97ddc0e6",
   "metadata": {},
   "source": [
    "### Check for incorrect categorical values <a id='catval'></a>\n",
    "Then, we check all of the categorical features in the dataset. We are looking for any duplicate or unexpected values in each feature. As seen below, all feature values are unique and we we do not need to modify anything."
   ]
  },
  {
   "cell_type": "code",
   "execution_count": 20,
   "id": "7d6a6bb8",
   "metadata": {},
   "outputs": [
    {
     "name": "stdout",
     "output_type": "stream",
     "text": [
      "Gender\n",
      "['M' 'F']\n",
      "\n",
      "Secondary Board of Education\n",
      "['Others' 'Central']\n",
      "\n",
      "Higher Secondary Board of Education\n",
      "['Others' 'Central']\n",
      "\n",
      "Higher Secondary Specialisation\n",
      "['Commerce' 'Science' 'Arts']\n",
      "\n",
      "Undergraduate Degree Type\n",
      "['Sci&Tech' 'Comm&Mgmt' 'Others']\n",
      "\n",
      "Work Experience\n",
      "['No' 'Yes']\n",
      "\n",
      "Post Graduate Specialisation\n",
      "['Mkt&HR' 'Mkt&Fin']\n",
      "\n",
      "Status\n",
      "['Placed' 'Not Placed']\n",
      "\n"
     ]
    }
   ],
   "source": [
    "cat_features = placement.columns[placement.dtypes==object].tolist()\n",
    "\n",
    "for feature in cat_features:\n",
    "    print(feature)\n",
    "    print(placement[feature].unique())\n",
    "    print(\"\")"
   ]
  },
  {
   "cell_type": "markdown",
   "id": "54edbcbd",
   "metadata": {},
   "source": [
    "### Random Sampling <a id='rs'></a>\n",
    "Our dataset contains only 215 values, which will not be a huge burden on the computer when we undertake further exploration and modeling. Therefore, we will not need to do any random sampling."
   ]
  },
  {
   "cell_type": "markdown",
   "id": "c9587533",
   "metadata": {},
   "source": [
    "## Data Exploration and Visualisation <a id='dev'></a>\n",
    "*charts and graphs as appropriate with proper labels and explanation*\n",
    "\n",
    "*4 plots each of : 1-variable, 2-variable, 3-variable (12 in total)*"
   ]
  },
  {
   "cell_type": "markdown",
   "id": "1660921c",
   "metadata": {},
   "source": [
    "## Literature Review <a id='lr'></a>\n",
    "*Advanced submission - 600+ words*\n",
    "\n",
    "*minimum 10 journal articles and 4 conference papers in a dedicated references section*"
   ]
  },
  {
   "cell_type": "markdown",
   "id": "44f0e9de",
   "metadata": {},
   "source": [
    "## Summary and Conclusions <a id='sum'></a>\n",
    "*Summarise phase 1 state insights gained*"
   ]
  },
  {
   "cell_type": "markdown",
   "id": "881c07d9",
   "metadata": {},
   "source": [
    "## References <a id='ref'></a>\n",
    "Roshan, B. (2020). Campus Recruitment. Retrieved April 3, 2022 from https://www.kaggle.com/datasets/benroshan/factors-affecting-campus-placement.\n",
    "\n",
    "*References from advanced submission and report in general*"
   ]
  }
 ],
 "metadata": {
  "kernelspec": {
   "display_name": "Python 3 (ipykernel)",
   "language": "python",
   "name": "python3"
  },
  "language_info": {
   "codemirror_mode": {
    "name": "ipython",
    "version": 3
   },
   "file_extension": ".py",
   "mimetype": "text/x-python",
   "name": "python",
   "nbconvert_exporter": "python",
   "pygments_lexer": "ipython3",
   "version": "3.9.7"
  }
 },
 "nbformat": 4,
 "nbformat_minor": 5
}
