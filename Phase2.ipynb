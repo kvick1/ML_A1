{
 "cells": [
  {
   "cell_type": "markdown",
   "id": "6b7e4fc6",
   "metadata": {},
   "source": [
    "# Predicting Employment of Students at an University Campus \n",
    "## Phase 2: Predictive Modeling\n",
    "### Group 46\n",
    "### Zhaojin Liu s3206722, Martin Thu s3494324, Klara Vickov s3873315"
   ]
  },
  {
   "cell_type": "markdown",
   "id": "0fd6b893",
   "metadata": {},
   "source": [
    "## Table of Contents\n",
    "- [Introduction](#intro)\n",
    "    - [Phase 1 Summary](#sum)\n",
    "    - [Report Overview](#ro)\n",
    "    - [Overview of Methodology](#om)\n",
    "- [Predictive Modeling](#model)\n",
    "    - [One-Hot Encoding and Scaling](#ohe)\n",
    "    - [Feature Selection](#fs)\n",
    "    - [Logistic Regression](#lr)\n",
    "    - [K Nearest Neighbors](#knn)\n",
    "    - [Decision Tree](#dt)\n",
    "    - [Random Forest](#rf)\n",
    "    - [Naive Bayes](#nb)\n",
    "    - [Model Comparison](#mc)\n",
    "- [Critique and Limitations](#cl)\n",
    "- [Summary and Conclusions](#sc)\n",
    "    - [Project Summary](#ps)\n",
    "    - [Summary of Findings](#sf)\n",
    "    - [Conclusions](#con)\n",
    "- [References](#ref)"
   ]
  },
  {
   "cell_type": "markdown",
   "id": "93014694",
   "metadata": {},
   "source": [
    "## Introduction <a id='intro'></a>"
   ]
  },
  {
   "cell_type": "markdown",
   "id": "8f530caa",
   "metadata": {},
   "source": [
    "### Phase 1 Summary <a id='sum'></a>\n",
    "During phase 1 of the project, we pre-processed, explored, and visualized our chosen dataset that looks at academic information of students at Jain University in India and determines whether they received placement after university or not. \n",
    "\n",
    "The pre-processing involved checking for missing/incorrect values, outliers, changing feature names, and dropping ID-like columns. Then, we separated our target feature, status, from the descriptive features.\n",
    "\n",
    "For exploring and visualizing, we looked at various one-variable, two-variable, and three-variable graphs and plots to determine what kind of relationships exist between features. Some interesting takeaways from our explorations were that male students have a higher chance of received placement, students with higher undergraduate and postgraduate GPAs are more likely to be placed, and a higher employability test percentage leads to higher chances of getting placed. A literature review backed up some of this data by showing that GPA, gender, and previous work experience contribute to higher employability for graduates.\n",
    "\n",
    "We will load the dataset that was used in phase 1 of the project."
   ]
  },
  {
   "cell_type": "code",
   "execution_count": 5,
   "id": "9625a85b",
   "metadata": {},
   "outputs": [],
   "source": [
    "import pandas as pd\n",
    "import numpy as np\n",
    "import warnings\n",
    "warnings.filterwarnings(\"ignore\")\n",
    "\n",
    "pd.set_option('display.max_columns', None) "
   ]
  },
  {
   "cell_type": "code",
   "execution_count": 6,
   "id": "64735cd5",
   "metadata": {},
   "outputs": [
    {
     "data": {
      "text/html": [
       "<style type=\"text/css\">\n",
       "</style>\n",
       "<table id=\"T_beaeb_\">\n",
       "  <thead>\n",
       "    <tr>\n",
       "      <th class=\"blank level0\" >&nbsp;</th>\n",
       "      <th class=\"col_heading level0 col0\" >Gender</th>\n",
       "      <th class=\"col_heading level0 col1\" >Secondary Education Percentage</th>\n",
       "      <th class=\"col_heading level0 col2\" >Secondary Board of Education</th>\n",
       "      <th class=\"col_heading level0 col3\" >Higher Secondary Education Percentage</th>\n",
       "      <th class=\"col_heading level0 col4\" >Higher Secondary Board of Education</th>\n",
       "      <th class=\"col_heading level0 col5\" >Higher Secondary Specialisation</th>\n",
       "      <th class=\"col_heading level0 col6\" >Undergraduate Degree Percentage</th>\n",
       "      <th class=\"col_heading level0 col7\" >Undergraduate Degree Type</th>\n",
       "      <th class=\"col_heading level0 col8\" >Work Experience</th>\n",
       "      <th class=\"col_heading level0 col9\" >Employability Test Percentage</th>\n",
       "      <th class=\"col_heading level0 col10\" >Post Graduate Specialisation</th>\n",
       "      <th class=\"col_heading level0 col11\" >MBA Grade Percentage</th>\n",
       "      <th class=\"col_heading level0 col12\" >Status</th>\n",
       "    </tr>\n",
       "  </thead>\n",
       "  <tbody>\n",
       "    <tr>\n",
       "      <th id=\"T_beaeb_level0_row0\" class=\"row_heading level0 row0\" >1</th>\n",
       "      <td id=\"T_beaeb_row0_col0\" class=\"data row0 col0\" >M</td>\n",
       "      <td id=\"T_beaeb_row0_col1\" class=\"data row0 col1\" >67.000</td>\n",
       "      <td id=\"T_beaeb_row0_col2\" class=\"data row0 col2\" >Others</td>\n",
       "      <td id=\"T_beaeb_row0_col3\" class=\"data row0 col3\" >91.000</td>\n",
       "      <td id=\"T_beaeb_row0_col4\" class=\"data row0 col4\" >Others</td>\n",
       "      <td id=\"T_beaeb_row0_col5\" class=\"data row0 col5\" >Commerce</td>\n",
       "      <td id=\"T_beaeb_row0_col6\" class=\"data row0 col6\" >58.000</td>\n",
       "      <td id=\"T_beaeb_row0_col7\" class=\"data row0 col7\" >Sci&Tech</td>\n",
       "      <td id=\"T_beaeb_row0_col8\" class=\"data row0 col8\" >No</td>\n",
       "      <td id=\"T_beaeb_row0_col9\" class=\"data row0 col9\" >55.000</td>\n",
       "      <td id=\"T_beaeb_row0_col10\" class=\"data row0 col10\" >Mkt&HR</td>\n",
       "      <td id=\"T_beaeb_row0_col11\" class=\"data row0 col11\" >58.800</td>\n",
       "      <td id=\"T_beaeb_row0_col12\" class=\"data row0 col12\" >Placed</td>\n",
       "    </tr>\n",
       "    <tr>\n",
       "      <th id=\"T_beaeb_level0_row1\" class=\"row_heading level0 row1\" >2</th>\n",
       "      <td id=\"T_beaeb_row1_col0\" class=\"data row1 col0\" >M</td>\n",
       "      <td id=\"T_beaeb_row1_col1\" class=\"data row1 col1\" >79.330</td>\n",
       "      <td id=\"T_beaeb_row1_col2\" class=\"data row1 col2\" >Central</td>\n",
       "      <td id=\"T_beaeb_row1_col3\" class=\"data row1 col3\" >78.330</td>\n",
       "      <td id=\"T_beaeb_row1_col4\" class=\"data row1 col4\" >Others</td>\n",
       "      <td id=\"T_beaeb_row1_col5\" class=\"data row1 col5\" >Science</td>\n",
       "      <td id=\"T_beaeb_row1_col6\" class=\"data row1 col6\" >77.480</td>\n",
       "      <td id=\"T_beaeb_row1_col7\" class=\"data row1 col7\" >Sci&Tech</td>\n",
       "      <td id=\"T_beaeb_row1_col8\" class=\"data row1 col8\" >Yes</td>\n",
       "      <td id=\"T_beaeb_row1_col9\" class=\"data row1 col9\" >86.500</td>\n",
       "      <td id=\"T_beaeb_row1_col10\" class=\"data row1 col10\" >Mkt&Fin</td>\n",
       "      <td id=\"T_beaeb_row1_col11\" class=\"data row1 col11\" >66.280</td>\n",
       "      <td id=\"T_beaeb_row1_col12\" class=\"data row1 col12\" >Placed</td>\n",
       "    </tr>\n",
       "    <tr>\n",
       "      <th id=\"T_beaeb_level0_row2\" class=\"row_heading level0 row2\" >3</th>\n",
       "      <td id=\"T_beaeb_row2_col0\" class=\"data row2 col0\" >M</td>\n",
       "      <td id=\"T_beaeb_row2_col1\" class=\"data row2 col1\" >65.000</td>\n",
       "      <td id=\"T_beaeb_row2_col2\" class=\"data row2 col2\" >Central</td>\n",
       "      <td id=\"T_beaeb_row2_col3\" class=\"data row2 col3\" >68.000</td>\n",
       "      <td id=\"T_beaeb_row2_col4\" class=\"data row2 col4\" >Central</td>\n",
       "      <td id=\"T_beaeb_row2_col5\" class=\"data row2 col5\" >Arts</td>\n",
       "      <td id=\"T_beaeb_row2_col6\" class=\"data row2 col6\" >64.000</td>\n",
       "      <td id=\"T_beaeb_row2_col7\" class=\"data row2 col7\" >Comm&Mgmt</td>\n",
       "      <td id=\"T_beaeb_row2_col8\" class=\"data row2 col8\" >No</td>\n",
       "      <td id=\"T_beaeb_row2_col9\" class=\"data row2 col9\" >75.000</td>\n",
       "      <td id=\"T_beaeb_row2_col10\" class=\"data row2 col10\" >Mkt&Fin</td>\n",
       "      <td id=\"T_beaeb_row2_col11\" class=\"data row2 col11\" >57.800</td>\n",
       "      <td id=\"T_beaeb_row2_col12\" class=\"data row2 col12\" >Placed</td>\n",
       "    </tr>\n",
       "    <tr>\n",
       "      <th id=\"T_beaeb_level0_row3\" class=\"row_heading level0 row3\" >4</th>\n",
       "      <td id=\"T_beaeb_row3_col0\" class=\"data row3 col0\" >M</td>\n",
       "      <td id=\"T_beaeb_row3_col1\" class=\"data row3 col1\" >56.000</td>\n",
       "      <td id=\"T_beaeb_row3_col2\" class=\"data row3 col2\" >Central</td>\n",
       "      <td id=\"T_beaeb_row3_col3\" class=\"data row3 col3\" >52.000</td>\n",
       "      <td id=\"T_beaeb_row3_col4\" class=\"data row3 col4\" >Central</td>\n",
       "      <td id=\"T_beaeb_row3_col5\" class=\"data row3 col5\" >Science</td>\n",
       "      <td id=\"T_beaeb_row3_col6\" class=\"data row3 col6\" >52.000</td>\n",
       "      <td id=\"T_beaeb_row3_col7\" class=\"data row3 col7\" >Sci&Tech</td>\n",
       "      <td id=\"T_beaeb_row3_col8\" class=\"data row3 col8\" >No</td>\n",
       "      <td id=\"T_beaeb_row3_col9\" class=\"data row3 col9\" >66.000</td>\n",
       "      <td id=\"T_beaeb_row3_col10\" class=\"data row3 col10\" >Mkt&HR</td>\n",
       "      <td id=\"T_beaeb_row3_col11\" class=\"data row3 col11\" >59.430</td>\n",
       "      <td id=\"T_beaeb_row3_col12\" class=\"data row3 col12\" >Not Placed</td>\n",
       "    </tr>\n",
       "    <tr>\n",
       "      <th id=\"T_beaeb_level0_row4\" class=\"row_heading level0 row4\" >5</th>\n",
       "      <td id=\"T_beaeb_row4_col0\" class=\"data row4 col0\" >M</td>\n",
       "      <td id=\"T_beaeb_row4_col1\" class=\"data row4 col1\" >85.800</td>\n",
       "      <td id=\"T_beaeb_row4_col2\" class=\"data row4 col2\" >Central</td>\n",
       "      <td id=\"T_beaeb_row4_col3\" class=\"data row4 col3\" >73.600</td>\n",
       "      <td id=\"T_beaeb_row4_col4\" class=\"data row4 col4\" >Central</td>\n",
       "      <td id=\"T_beaeb_row4_col5\" class=\"data row4 col5\" >Commerce</td>\n",
       "      <td id=\"T_beaeb_row4_col6\" class=\"data row4 col6\" >73.300</td>\n",
       "      <td id=\"T_beaeb_row4_col7\" class=\"data row4 col7\" >Comm&Mgmt</td>\n",
       "      <td id=\"T_beaeb_row4_col8\" class=\"data row4 col8\" >No</td>\n",
       "      <td id=\"T_beaeb_row4_col9\" class=\"data row4 col9\" >96.800</td>\n",
       "      <td id=\"T_beaeb_row4_col10\" class=\"data row4 col10\" >Mkt&Fin</td>\n",
       "      <td id=\"T_beaeb_row4_col11\" class=\"data row4 col11\" >55.500</td>\n",
       "      <td id=\"T_beaeb_row4_col12\" class=\"data row4 col12\" >Placed</td>\n",
       "    </tr>\n",
       "  </tbody>\n",
       "</table>\n"
      ],
      "text/plain": [
       "<pandas.io.formats.style.Styler at 0x28cb97dee50>"
      ]
     },
     "execution_count": 6,
     "metadata": {},
     "output_type": "execute_result"
    }
   ],
   "source": [
    "placement = pd.read_csv(\"placement_phase2.csv\", sep = \"\\t\", index_col = [0])\n",
    "placement.head().style.set_precision(3)"
   ]
  },
  {
   "cell_type": "markdown",
   "id": "0242b13c",
   "metadata": {},
   "source": [
    "### Report Overview <a id='ro'></a>\n",
    "For phase 2, we will begin by encoding categorical features, including the target feature, and scaling the necessary descriptive features. Then we will use feature selection to select the best descriptive features of the dataset. Next, we will fit K-Nearest Neighbors, Decision Tree, Random Forest, Linear Regression, and Naive Bayes models to our data, and compare the models to see which one is of best fit. Then we will critique our results before summarizing the whole project and drawing relevant conclusions."
   ]
  },
  {
   "cell_type": "markdown",
   "id": "cfbc143e",
   "metadata": {},
   "source": [
    "### Overview of Methodology <a id='om'></a>"
   ]
  },
  {
   "cell_type": "markdown",
   "id": "2580f30b",
   "metadata": {},
   "source": [
    "## Predictive Modeling <a id='model'></a>"
   ]
  },
  {
   "cell_type": "markdown",
   "id": "cc12face",
   "metadata": {},
   "source": [
    "### One-Hot Encoding and Scaling <a id='ohe'></a>\n",
    "Before doing any modeling or feature selection, we must encoded all categorical features into numerical features so they can be modeled.\n",
    "\n",
    "First, we will separate the target feature, status, from the rest of the descriptive features."
   ]
  },
  {
   "cell_type": "code",
   "execution_count": 7,
   "id": "bd54d38f",
   "metadata": {},
   "outputs": [],
   "source": [
    "Data = placement.drop(columns='Status')\n",
    "target = placement['Status']"
   ]
  },
  {
   "cell_type": "markdown",
   "id": "ab264a43",
   "metadata": {},
   "source": [
    "We will encode the target feature first. Those that are placed will be encoded as 1 and those that are not placed will be encoded as 0. One thing to keep in mind here is that the two target classes are not balanced, with twice as many placed ('1') values as not placed ('0') values."
   ]
  },
  {
   "cell_type": "code",
   "execution_count": 8,
   "id": "c8baaae5",
   "metadata": {},
   "outputs": [
    {
     "data": {
      "text/plain": [
       "Placed\n",
       "1         148\n",
       "0          67\n",
       "dtype: int64"
      ]
     },
     "execution_count": 8,
     "metadata": {},
     "output_type": "execute_result"
    }
   ],
   "source": [
    "target = pd.get_dummies(target, drop_first = True)\n",
    "target.value_counts()"
   ]
  },
  {
   "cell_type": "markdown",
   "id": "64b8a5d9",
   "metadata": {},
   "source": [
    "Next we will encode all the categorical features."
   ]
  },
  {
   "cell_type": "markdown",
   "id": "d3153b78",
   "metadata": {},
   "source": [
    "Here we print the levels of each categorical variable. Gender, Secondary Board of Education, Higher Secondary Board of Education, Work Experience, Post Graduate Specialisation are two-level variables and will be encoded as 1 or 0 in one variable. On the other hand, Higher Secondary Specialisation and Undergraduate Degree Type are three-level variables and will be encoded into three separate variables."
   ]
  },
  {
   "cell_type": "code",
   "execution_count": 9,
   "id": "20da2a7d",
   "metadata": {},
   "outputs": [
    {
     "name": "stdout",
     "output_type": "stream",
     "text": [
      "Gender\n",
      "M    139\n",
      "F     76\n",
      "Name: Gender, dtype: int64 \n",
      "\n",
      "Secondary Board of Education\n",
      "Central    116\n",
      "Others      99\n",
      "Name: Secondary Board of Education, dtype: int64 \n",
      "\n",
      "Higher Secondary Board of Education\n",
      "Others     131\n",
      "Central     84\n",
      "Name: Higher Secondary Board of Education, dtype: int64 \n",
      "\n",
      "Higher Secondary Specialisation\n",
      "Commerce    113\n",
      "Science      91\n",
      "Arts         11\n",
      "Name: Higher Secondary Specialisation, dtype: int64 \n",
      "\n",
      "Undergraduate Degree Type\n",
      "Comm&Mgmt    145\n",
      "Sci&Tech      59\n",
      "Others        11\n",
      "Name: Undergraduate Degree Type, dtype: int64 \n",
      "\n",
      "Work Experience\n",
      "No     141\n",
      "Yes     74\n",
      "Name: Work Experience, dtype: int64 \n",
      "\n",
      "Post Graduate Specialisation\n",
      "Mkt&Fin    120\n",
      "Mkt&HR      95\n",
      "Name: Post Graduate Specialisation, dtype: int64 \n",
      "\n"
     ]
    }
   ],
   "source": [
    "for col in Data.columns[Data.dtypes==object]:\n",
    "    print(col)\n",
    "    print(Data[col].value_counts(), \"\\n\")"
   ]
  },
  {
   "cell_type": "code",
   "execution_count": 10,
   "id": "4dcce152",
   "metadata": {},
   "outputs": [],
   "source": [
    "cat_cols = Data.columns[Data.dtypes==object].to_list()"
   ]
  },
  {
   "cell_type": "code",
   "execution_count": 11,
   "id": "dc43bb49",
   "metadata": {},
   "outputs": [],
   "source": [
    "for col in cat_cols:\n",
    "    if (Data[col].nunique() == 2):\n",
    "        Data[col] = pd.get_dummies(Data[col], drop_first=True)\n",
    "\n",
    "Data = pd.get_dummies(Data)"
   ]
  },
  {
   "cell_type": "markdown",
   "id": "3f4f5973",
   "metadata": {},
   "source": [
    "Below we can see that all the value have been properly encoded into 1 and 0. For Gender, Male is 1 and Female is 0. For Secondary Board of Education, Central is 1 and Others is 0. For Higher Secondary Board of Education, Others is 1 and Central is 0. For Work Experience, Yes is 1 and No is 0. For Post Graduate Specialisation, Mkt&Fin is 1 and Mkt&HR is 0."
   ]
  },
  {
   "cell_type": "code",
   "execution_count": 12,
   "id": "dc811324",
   "metadata": {},
   "outputs": [
    {
     "name": "stdout",
     "output_type": "stream",
     "text": [
      "Gender\n",
      "1    139\n",
      "0     76\n",
      "Name: Gender, dtype: int64 \n",
      "\n",
      "Secondary Board of Education\n",
      "0    116\n",
      "1     99\n",
      "Name: Secondary Board of Education, dtype: int64 \n",
      "\n",
      "Higher Secondary Board of Education\n",
      "1    131\n",
      "0     84\n",
      "Name: Higher Secondary Board of Education, dtype: int64 \n",
      "\n",
      "Work Experience\n",
      "0    141\n",
      "1     74\n",
      "Name: Work Experience, dtype: int64 \n",
      "\n",
      "Post Graduate Specialisation\n",
      "0    120\n",
      "1     95\n",
      "Name: Post Graduate Specialisation, dtype: int64 \n",
      "\n",
      "Higher Secondary Specialisation_Arts\n",
      "0    204\n",
      "1     11\n",
      "Name: Higher Secondary Specialisation_Arts, dtype: int64 \n",
      "\n",
      "Higher Secondary Specialisation_Commerce\n",
      "1    113\n",
      "0    102\n",
      "Name: Higher Secondary Specialisation_Commerce, dtype: int64 \n",
      "\n",
      "Higher Secondary Specialisation_Science\n",
      "0    124\n",
      "1     91\n",
      "Name: Higher Secondary Specialisation_Science, dtype: int64 \n",
      "\n",
      "Undergraduate Degree Type_Comm&Mgmt\n",
      "1    145\n",
      "0     70\n",
      "Name: Undergraduate Degree Type_Comm&Mgmt, dtype: int64 \n",
      "\n",
      "Undergraduate Degree Type_Others\n",
      "0    204\n",
      "1     11\n",
      "Name: Undergraduate Degree Type_Others, dtype: int64 \n",
      "\n",
      "Undergraduate Degree Type_Sci&Tech\n",
      "0    156\n",
      "1     59\n",
      "Name: Undergraduate Degree Type_Sci&Tech, dtype: int64 \n",
      "\n"
     ]
    }
   ],
   "source": [
    "for col in Data.columns:\n",
    "    if Data[col].nunique() == 2 or Data[col].nunique() == 3:\n",
    "        print(col)\n",
    "        print(Data[col].value_counts(), \"\\n\")"
   ]
  },
  {
   "cell_type": "code",
   "execution_count": 13,
   "id": "40f0cd6a",
   "metadata": {},
   "outputs": [
    {
     "data": {
      "text/html": [
       "<style type=\"text/css\">\n",
       "</style>\n",
       "<table id=\"T_42f5f_\">\n",
       "  <thead>\n",
       "    <tr>\n",
       "      <th class=\"blank level0\" >&nbsp;</th>\n",
       "      <th class=\"col_heading level0 col0\" >Gender</th>\n",
       "      <th class=\"col_heading level0 col1\" >Secondary Education Percentage</th>\n",
       "      <th class=\"col_heading level0 col2\" >Secondary Board of Education</th>\n",
       "      <th class=\"col_heading level0 col3\" >Higher Secondary Education Percentage</th>\n",
       "      <th class=\"col_heading level0 col4\" >Higher Secondary Board of Education</th>\n",
       "      <th class=\"col_heading level0 col5\" >Undergraduate Degree Percentage</th>\n",
       "      <th class=\"col_heading level0 col6\" >Work Experience</th>\n",
       "      <th class=\"col_heading level0 col7\" >Employability Test Percentage</th>\n",
       "      <th class=\"col_heading level0 col8\" >Post Graduate Specialisation</th>\n",
       "      <th class=\"col_heading level0 col9\" >MBA Grade Percentage</th>\n",
       "      <th class=\"col_heading level0 col10\" >Higher Secondary Specialisation_Arts</th>\n",
       "      <th class=\"col_heading level0 col11\" >Higher Secondary Specialisation_Commerce</th>\n",
       "      <th class=\"col_heading level0 col12\" >Higher Secondary Specialisation_Science</th>\n",
       "      <th class=\"col_heading level0 col13\" >Undergraduate Degree Type_Comm&Mgmt</th>\n",
       "      <th class=\"col_heading level0 col14\" >Undergraduate Degree Type_Others</th>\n",
       "      <th class=\"col_heading level0 col15\" >Undergraduate Degree Type_Sci&Tech</th>\n",
       "    </tr>\n",
       "  </thead>\n",
       "  <tbody>\n",
       "    <tr>\n",
       "      <th id=\"T_42f5f_level0_row0\" class=\"row_heading level0 row0\" >149</th>\n",
       "      <td id=\"T_42f5f_row0_col0\" class=\"data row0 col0\" >0</td>\n",
       "      <td id=\"T_42f5f_row0_col1\" class=\"data row0 col1\" >77.000</td>\n",
       "      <td id=\"T_42f5f_row0_col2\" class=\"data row0 col2\" >0</td>\n",
       "      <td id=\"T_42f5f_row0_col3\" class=\"data row0 col3\" >86.000</td>\n",
       "      <td id=\"T_42f5f_row0_col4\" class=\"data row0 col4\" >0</td>\n",
       "      <td id=\"T_42f5f_row0_col5\" class=\"data row0 col5\" >56.000</td>\n",
       "      <td id=\"T_42f5f_row0_col6\" class=\"data row0 col6\" >0</td>\n",
       "      <td id=\"T_42f5f_row0_col7\" class=\"data row0 col7\" >57.000</td>\n",
       "      <td id=\"T_42f5f_row0_col8\" class=\"data row0 col8\" >0</td>\n",
       "      <td id=\"T_42f5f_row0_col9\" class=\"data row0 col9\" >64.080</td>\n",
       "      <td id=\"T_42f5f_row0_col10\" class=\"data row0 col10\" >1</td>\n",
       "      <td id=\"T_42f5f_row0_col11\" class=\"data row0 col11\" >0</td>\n",
       "      <td id=\"T_42f5f_row0_col12\" class=\"data row0 col12\" >0</td>\n",
       "      <td id=\"T_42f5f_row0_col13\" class=\"data row0 col13\" >0</td>\n",
       "      <td id=\"T_42f5f_row0_col14\" class=\"data row0 col14\" >1</td>\n",
       "      <td id=\"T_42f5f_row0_col15\" class=\"data row0 col15\" >0</td>\n",
       "    </tr>\n",
       "    <tr>\n",
       "      <th id=\"T_42f5f_level0_row1\" class=\"row_heading level0 row1\" >192</th>\n",
       "      <td id=\"T_42f5f_row1_col0\" class=\"data row1 col0\" >1</td>\n",
       "      <td id=\"T_42f5f_row1_col1\" class=\"data row1 col1\" >67.000</td>\n",
       "      <td id=\"T_42f5f_row1_col2\" class=\"data row1 col2\" >1</td>\n",
       "      <td id=\"T_42f5f_row1_col3\" class=\"data row1 col3\" >61.000</td>\n",
       "      <td id=\"T_42f5f_row1_col4\" class=\"data row1 col4\" >0</td>\n",
       "      <td id=\"T_42f5f_row1_col5\" class=\"data row1 col5\" >72.000</td>\n",
       "      <td id=\"T_42f5f_row1_col6\" class=\"data row1 col6\" >0</td>\n",
       "      <td id=\"T_42f5f_row1_col7\" class=\"data row1 col7\" >72.000</td>\n",
       "      <td id=\"T_42f5f_row1_col8\" class=\"data row1 col8\" >0</td>\n",
       "      <td id=\"T_42f5f_row1_col9\" class=\"data row1 col9\" >61.010</td>\n",
       "      <td id=\"T_42f5f_row1_col10\" class=\"data row1 col10\" >0</td>\n",
       "      <td id=\"T_42f5f_row1_col11\" class=\"data row1 col11\" >0</td>\n",
       "      <td id=\"T_42f5f_row1_col12\" class=\"data row1 col12\" >1</td>\n",
       "      <td id=\"T_42f5f_row1_col13\" class=\"data row1 col13\" >1</td>\n",
       "      <td id=\"T_42f5f_row1_col14\" class=\"data row1 col14\" >0</td>\n",
       "      <td id=\"T_42f5f_row1_col15\" class=\"data row1 col15\" >0</td>\n",
       "    </tr>\n",
       "    <tr>\n",
       "      <th id=\"T_42f5f_level0_row2\" class=\"row_heading level0 row2\" >126</th>\n",
       "      <td id=\"T_42f5f_row2_col0\" class=\"data row2 col0\" >0</td>\n",
       "      <td id=\"T_42f5f_row2_col1\" class=\"data row2 col1\" >84.000</td>\n",
       "      <td id=\"T_42f5f_row2_col2\" class=\"data row2 col2\" >0</td>\n",
       "      <td id=\"T_42f5f_row2_col3\" class=\"data row2 col3\" >73.000</td>\n",
       "      <td id=\"T_42f5f_row2_col4\" class=\"data row2 col4\" >0</td>\n",
       "      <td id=\"T_42f5f_row2_col5\" class=\"data row2 col5\" >73.000</td>\n",
       "      <td id=\"T_42f5f_row2_col6\" class=\"data row2 col6\" >0</td>\n",
       "      <td id=\"T_42f5f_row2_col7\" class=\"data row2 col7\" >75.000</td>\n",
       "      <td id=\"T_42f5f_row2_col8\" class=\"data row2 col8\" >0</td>\n",
       "      <td id=\"T_42f5f_row2_col9\" class=\"data row2 col9\" >73.330</td>\n",
       "      <td id=\"T_42f5f_row2_col10\" class=\"data row2 col10\" >0</td>\n",
       "      <td id=\"T_42f5f_row2_col11\" class=\"data row2 col11\" >1</td>\n",
       "      <td id=\"T_42f5f_row2_col12\" class=\"data row2 col12\" >0</td>\n",
       "      <td id=\"T_42f5f_row2_col13\" class=\"data row2 col13\" >1</td>\n",
       "      <td id=\"T_42f5f_row2_col14\" class=\"data row2 col14\" >0</td>\n",
       "      <td id=\"T_42f5f_row2_col15\" class=\"data row2 col15\" >0</td>\n",
       "    </tr>\n",
       "    <tr>\n",
       "      <th id=\"T_42f5f_level0_row3\" class=\"row_heading level0 row3\" >69</th>\n",
       "      <td id=\"T_42f5f_row3_col0\" class=\"data row3 col0\" >0</td>\n",
       "      <td id=\"T_42f5f_row3_col1\" class=\"data row3 col1\" >69.700</td>\n",
       "      <td id=\"T_42f5f_row3_col2\" class=\"data row3 col2\" >0</td>\n",
       "      <td id=\"T_42f5f_row3_col3\" class=\"data row3 col3\" >47.000</td>\n",
       "      <td id=\"T_42f5f_row3_col4\" class=\"data row3 col4\" >0</td>\n",
       "      <td id=\"T_42f5f_row3_col5\" class=\"data row3 col5\" >72.700</td>\n",
       "      <td id=\"T_42f5f_row3_col6\" class=\"data row3 col6\" >0</td>\n",
       "      <td id=\"T_42f5f_row3_col7\" class=\"data row3 col7\" >79.000</td>\n",
       "      <td id=\"T_42f5f_row3_col8\" class=\"data row3 col8\" >1</td>\n",
       "      <td id=\"T_42f5f_row3_col9\" class=\"data row3 col9\" >59.240</td>\n",
       "      <td id=\"T_42f5f_row3_col10\" class=\"data row3 col10\" >0</td>\n",
       "      <td id=\"T_42f5f_row3_col11\" class=\"data row3 col11\" >1</td>\n",
       "      <td id=\"T_42f5f_row3_col12\" class=\"data row3 col12\" >0</td>\n",
       "      <td id=\"T_42f5f_row3_col13\" class=\"data row3 col13\" >0</td>\n",
       "      <td id=\"T_42f5f_row3_col14\" class=\"data row3 col14\" >0</td>\n",
       "      <td id=\"T_42f5f_row3_col15\" class=\"data row3 col15\" >1</td>\n",
       "    </tr>\n",
       "    <tr>\n",
       "      <th id=\"T_42f5f_level0_row4\" class=\"row_heading level0 row4\" >188</th>\n",
       "      <td id=\"T_42f5f_row4_col0\" class=\"data row4 col0\" >1</td>\n",
       "      <td id=\"T_42f5f_row4_col1\" class=\"data row4 col1\" >78.500</td>\n",
       "      <td id=\"T_42f5f_row4_col2\" class=\"data row4 col2\" >0</td>\n",
       "      <td id=\"T_42f5f_row4_col3\" class=\"data row4 col3\" >65.500</td>\n",
       "      <td id=\"T_42f5f_row4_col4\" class=\"data row4 col4\" >0</td>\n",
       "      <td id=\"T_42f5f_row4_col5\" class=\"data row4 col5\" >67.000</td>\n",
       "      <td id=\"T_42f5f_row4_col6\" class=\"data row4 col6\" >1</td>\n",
       "      <td id=\"T_42f5f_row4_col7\" class=\"data row4 col7\" >95.000</td>\n",
       "      <td id=\"T_42f5f_row4_col8\" class=\"data row4 col8\" >0</td>\n",
       "      <td id=\"T_42f5f_row4_col9\" class=\"data row4 col9\" >64.860</td>\n",
       "      <td id=\"T_42f5f_row4_col10\" class=\"data row4 col10\" >0</td>\n",
       "      <td id=\"T_42f5f_row4_col11\" class=\"data row4 col11\" >0</td>\n",
       "      <td id=\"T_42f5f_row4_col12\" class=\"data row4 col12\" >1</td>\n",
       "      <td id=\"T_42f5f_row4_col13\" class=\"data row4 col13\" >0</td>\n",
       "      <td id=\"T_42f5f_row4_col14\" class=\"data row4 col14\" >0</td>\n",
       "      <td id=\"T_42f5f_row4_col15\" class=\"data row4 col15\" >1</td>\n",
       "    </tr>\n",
       "  </tbody>\n",
       "</table>\n"
      ],
      "text/plain": [
       "<pandas.io.formats.style.Styler at 0x28cb6c29550>"
      ]
     },
     "execution_count": 13,
     "metadata": {},
     "output_type": "execute_result"
    }
   ],
   "source": [
    "# Delete later\n",
    "Data.sample(5, random_state=999).style.set_precision(3)"
   ]
  },
  {
   "cell_type": "markdown",
   "id": "f8fa8ba5",
   "metadata": {},
   "source": [
    "Now that the data is encoded, we will scale the descriptive features, so they are within the range of 0 to 1 to ensure equal weighting. We will store the column names as they will be needed to build up the new data frame with scaled features. Scaling will produce a NumPy array which does not include column names."
   ]
  },
  {
   "cell_type": "code",
   "execution_count": 14,
   "id": "da36f7bc",
   "metadata": {},
   "outputs": [],
   "source": [
    "col_names = Data.columns"
   ]
  },
  {
   "cell_type": "code",
   "execution_count": 15,
   "id": "4b840ff7",
   "metadata": {},
   "outputs": [],
   "source": [
    "from sklearn import preprocessing\n",
    "data_scaler = preprocessing.MinMaxScaler()\n",
    "Data_scaled = data_scaler.fit_transform(Data)"
   ]
  },
  {
   "cell_type": "markdown",
   "id": "72d46bcc",
   "metadata": {},
   "source": [
    "We put the dataset back together using the NumPy array and the previously stored column names. We can see below that the features previously labeled 1 and 0 have stayed that way, and all other features now have values between 1 and 0."
   ]
  },
  {
   "cell_type": "code",
   "execution_count": 16,
   "id": "313ece97",
   "metadata": {},
   "outputs": [
    {
     "data": {
      "text/html": [
       "<style type=\"text/css\">\n",
       "</style>\n",
       "<table id=\"T_c08e7_\">\n",
       "  <thead>\n",
       "    <tr>\n",
       "      <th class=\"blank level0\" >&nbsp;</th>\n",
       "      <th class=\"col_heading level0 col0\" >Gender</th>\n",
       "      <th class=\"col_heading level0 col1\" >Secondary Education Percentage</th>\n",
       "      <th class=\"col_heading level0 col2\" >Secondary Board of Education</th>\n",
       "      <th class=\"col_heading level0 col3\" >Higher Secondary Education Percentage</th>\n",
       "      <th class=\"col_heading level0 col4\" >Higher Secondary Board of Education</th>\n",
       "      <th class=\"col_heading level0 col5\" >Undergraduate Degree Percentage</th>\n",
       "      <th class=\"col_heading level0 col6\" >Work Experience</th>\n",
       "      <th class=\"col_heading level0 col7\" >Employability Test Percentage</th>\n",
       "      <th class=\"col_heading level0 col8\" >Post Graduate Specialisation</th>\n",
       "      <th class=\"col_heading level0 col9\" >MBA Grade Percentage</th>\n",
       "      <th class=\"col_heading level0 col10\" >Higher Secondary Specialisation_Arts</th>\n",
       "      <th class=\"col_heading level0 col11\" >Higher Secondary Specialisation_Commerce</th>\n",
       "      <th class=\"col_heading level0 col12\" >Higher Secondary Specialisation_Science</th>\n",
       "      <th class=\"col_heading level0 col13\" >Undergraduate Degree Type_Comm&Mgmt</th>\n",
       "      <th class=\"col_heading level0 col14\" >Undergraduate Degree Type_Others</th>\n",
       "      <th class=\"col_heading level0 col15\" >Undergraduate Degree Type_Sci&Tech</th>\n",
       "    </tr>\n",
       "  </thead>\n",
       "  <tbody>\n",
       "    <tr>\n",
       "      <th id=\"T_c08e7_level0_row0\" class=\"row_heading level0 row0\" >148</th>\n",
       "      <td id=\"T_c08e7_row0_col0\" class=\"data row0 col0\" >0.000</td>\n",
       "      <td id=\"T_c08e7_row0_col1\" class=\"data row0 col1\" >0.744</td>\n",
       "      <td id=\"T_c08e7_row0_col2\" class=\"data row0 col2\" >0.000</td>\n",
       "      <td id=\"T_c08e7_row0_col3\" class=\"data row0 col3\" >0.807</td>\n",
       "      <td id=\"T_c08e7_row0_col4\" class=\"data row0 col4\" >0.000</td>\n",
       "      <td id=\"T_c08e7_row0_col5\" class=\"data row0 col5\" >0.146</td>\n",
       "      <td id=\"T_c08e7_row0_col6\" class=\"data row0 col6\" >0.000</td>\n",
       "      <td id=\"T_c08e7_row0_col7\" class=\"data row0 col7\" >0.146</td>\n",
       "      <td id=\"T_c08e7_row0_col8\" class=\"data row0 col8\" >0.000</td>\n",
       "      <td id=\"T_c08e7_row0_col9\" class=\"data row0 col9\" >0.482</td>\n",
       "      <td id=\"T_c08e7_row0_col10\" class=\"data row0 col10\" >1.000</td>\n",
       "      <td id=\"T_c08e7_row0_col11\" class=\"data row0 col11\" >0.000</td>\n",
       "      <td id=\"T_c08e7_row0_col12\" class=\"data row0 col12\" >0.000</td>\n",
       "      <td id=\"T_c08e7_row0_col13\" class=\"data row0 col13\" >0.000</td>\n",
       "      <td id=\"T_c08e7_row0_col14\" class=\"data row0 col14\" >1.000</td>\n",
       "      <td id=\"T_c08e7_row0_col15\" class=\"data row0 col15\" >0.000</td>\n",
       "    </tr>\n",
       "    <tr>\n",
       "      <th id=\"T_c08e7_level0_row1\" class=\"row_heading level0 row1\" >191</th>\n",
       "      <td id=\"T_c08e7_row1_col0\" class=\"data row1 col0\" >1.000</td>\n",
       "      <td id=\"T_c08e7_row1_col1\" class=\"data row1 col1\" >0.538</td>\n",
       "      <td id=\"T_c08e7_row1_col2\" class=\"data row1 col2\" >1.000</td>\n",
       "      <td id=\"T_c08e7_row1_col3\" class=\"data row1 col3\" >0.395</td>\n",
       "      <td id=\"T_c08e7_row1_col4\" class=\"data row1 col4\" >0.000</td>\n",
       "      <td id=\"T_c08e7_row1_col5\" class=\"data row1 col5\" >0.537</td>\n",
       "      <td id=\"T_c08e7_row1_col6\" class=\"data row1 col6\" >0.000</td>\n",
       "      <td id=\"T_c08e7_row1_col7\" class=\"data row1 col7\" >0.458</td>\n",
       "      <td id=\"T_c08e7_row1_col8\" class=\"data row1 col8\" >0.000</td>\n",
       "      <td id=\"T_c08e7_row1_col9\" class=\"data row1 col9\" >0.367</td>\n",
       "      <td id=\"T_c08e7_row1_col10\" class=\"data row1 col10\" >0.000</td>\n",
       "      <td id=\"T_c08e7_row1_col11\" class=\"data row1 col11\" >0.000</td>\n",
       "      <td id=\"T_c08e7_row1_col12\" class=\"data row1 col12\" >1.000</td>\n",
       "      <td id=\"T_c08e7_row1_col13\" class=\"data row1 col13\" >1.000</td>\n",
       "      <td id=\"T_c08e7_row1_col14\" class=\"data row1 col14\" >0.000</td>\n",
       "      <td id=\"T_c08e7_row1_col15\" class=\"data row1 col15\" >0.000</td>\n",
       "    </tr>\n",
       "    <tr>\n",
       "      <th id=\"T_c08e7_level0_row2\" class=\"row_heading level0 row2\" >125</th>\n",
       "      <td id=\"T_c08e7_row2_col0\" class=\"data row2 col0\" >0.000</td>\n",
       "      <td id=\"T_c08e7_row2_col1\" class=\"data row2 col1\" >0.889</td>\n",
       "      <td id=\"T_c08e7_row2_col2\" class=\"data row2 col2\" >0.000</td>\n",
       "      <td id=\"T_c08e7_row2_col3\" class=\"data row2 col3\" >0.593</td>\n",
       "      <td id=\"T_c08e7_row2_col4\" class=\"data row2 col4\" >0.000</td>\n",
       "      <td id=\"T_c08e7_row2_col5\" class=\"data row2 col5\" >0.561</td>\n",
       "      <td id=\"T_c08e7_row2_col6\" class=\"data row2 col6\" >0.000</td>\n",
       "      <td id=\"T_c08e7_row2_col7\" class=\"data row2 col7\" >0.521</td>\n",
       "      <td id=\"T_c08e7_row2_col8\" class=\"data row2 col8\" >0.000</td>\n",
       "      <td id=\"T_c08e7_row2_col9\" class=\"data row2 col9\" >0.829</td>\n",
       "      <td id=\"T_c08e7_row2_col10\" class=\"data row2 col10\" >0.000</td>\n",
       "      <td id=\"T_c08e7_row2_col11\" class=\"data row2 col11\" >1.000</td>\n",
       "      <td id=\"T_c08e7_row2_col12\" class=\"data row2 col12\" >0.000</td>\n",
       "      <td id=\"T_c08e7_row2_col13\" class=\"data row2 col13\" >1.000</td>\n",
       "      <td id=\"T_c08e7_row2_col14\" class=\"data row2 col14\" >0.000</td>\n",
       "      <td id=\"T_c08e7_row2_col15\" class=\"data row2 col15\" >0.000</td>\n",
       "    </tr>\n",
       "    <tr>\n",
       "      <th id=\"T_c08e7_level0_row3\" class=\"row_heading level0 row3\" >68</th>\n",
       "      <td id=\"T_c08e7_row3_col0\" class=\"data row3 col0\" >0.000</td>\n",
       "      <td id=\"T_c08e7_row3_col1\" class=\"data row3 col1\" >0.594</td>\n",
       "      <td id=\"T_c08e7_row3_col2\" class=\"data row3 col2\" >0.000</td>\n",
       "      <td id=\"T_c08e7_row3_col3\" class=\"data row3 col3\" >0.165</td>\n",
       "      <td id=\"T_c08e7_row3_col4\" class=\"data row3 col4\" >0.000</td>\n",
       "      <td id=\"T_c08e7_row3_col5\" class=\"data row3 col5\" >0.554</td>\n",
       "      <td id=\"T_c08e7_row3_col6\" class=\"data row3 col6\" >0.000</td>\n",
       "      <td id=\"T_c08e7_row3_col7\" class=\"data row3 col7\" >0.604</td>\n",
       "      <td id=\"T_c08e7_row3_col8\" class=\"data row3 col8\" >1.000</td>\n",
       "      <td id=\"T_c08e7_row3_col9\" class=\"data row3 col9\" >0.301</td>\n",
       "      <td id=\"T_c08e7_row3_col10\" class=\"data row3 col10\" >0.000</td>\n",
       "      <td id=\"T_c08e7_row3_col11\" class=\"data row3 col11\" >1.000</td>\n",
       "      <td id=\"T_c08e7_row3_col12\" class=\"data row3 col12\" >0.000</td>\n",
       "      <td id=\"T_c08e7_row3_col13\" class=\"data row3 col13\" >0.000</td>\n",
       "      <td id=\"T_c08e7_row3_col14\" class=\"data row3 col14\" >0.000</td>\n",
       "      <td id=\"T_c08e7_row3_col15\" class=\"data row3 col15\" >1.000</td>\n",
       "    </tr>\n",
       "    <tr>\n",
       "      <th id=\"T_c08e7_level0_row4\" class=\"row_heading level0 row4\" >187</th>\n",
       "      <td id=\"T_c08e7_row4_col0\" class=\"data row4 col0\" >1.000</td>\n",
       "      <td id=\"T_c08e7_row4_col1\" class=\"data row4 col1\" >0.775</td>\n",
       "      <td id=\"T_c08e7_row4_col2\" class=\"data row4 col2\" >0.000</td>\n",
       "      <td id=\"T_c08e7_row4_col3\" class=\"data row4 col3\" >0.470</td>\n",
       "      <td id=\"T_c08e7_row4_col4\" class=\"data row4 col4\" >0.000</td>\n",
       "      <td id=\"T_c08e7_row4_col5\" class=\"data row4 col5\" >0.415</td>\n",
       "      <td id=\"T_c08e7_row4_col6\" class=\"data row4 col6\" >1.000</td>\n",
       "      <td id=\"T_c08e7_row4_col7\" class=\"data row4 col7\" >0.938</td>\n",
       "      <td id=\"T_c08e7_row4_col8\" class=\"data row4 col8\" >0.000</td>\n",
       "      <td id=\"T_c08e7_row4_col9\" class=\"data row4 col9\" >0.512</td>\n",
       "      <td id=\"T_c08e7_row4_col10\" class=\"data row4 col10\" >0.000</td>\n",
       "      <td id=\"T_c08e7_row4_col11\" class=\"data row4 col11\" >0.000</td>\n",
       "      <td id=\"T_c08e7_row4_col12\" class=\"data row4 col12\" >1.000</td>\n",
       "      <td id=\"T_c08e7_row4_col13\" class=\"data row4 col13\" >0.000</td>\n",
       "      <td id=\"T_c08e7_row4_col14\" class=\"data row4 col14\" >0.000</td>\n",
       "      <td id=\"T_c08e7_row4_col15\" class=\"data row4 col15\" >1.000</td>\n",
       "    </tr>\n",
       "  </tbody>\n",
       "</table>\n"
      ],
      "text/plain": [
       "<pandas.io.formats.style.Styler at 0x28cbc440310>"
      ]
     },
     "execution_count": 16,
     "metadata": {},
     "output_type": "execute_result"
    }
   ],
   "source": [
    "Data_scaled = pd.DataFrame(Data_scaled, columns = col_names)\n",
    "Data_scaled.sample(5, random_state = 999).style.set_precision(3)"
   ]
  },
  {
   "cell_type": "markdown",
   "id": "c565c41b",
   "metadata": {},
   "source": [
    "To be certain that scaling has been done properly, we print out a summary of all columns. The min value is 0 and max value is 1 for each column, so scaling has been successful. "
   ]
  },
  {
   "cell_type": "code",
   "execution_count": 17,
   "id": "d04e1845",
   "metadata": {},
   "outputs": [
    {
     "data": {
      "text/html": [
       "<style type=\"text/css\">\n",
       "</style>\n",
       "<table id=\"T_b2146_\">\n",
       "  <thead>\n",
       "    <tr>\n",
       "      <th class=\"blank level0\" >&nbsp;</th>\n",
       "      <th class=\"col_heading level0 col0\" >Gender</th>\n",
       "      <th class=\"col_heading level0 col1\" >Secondary Education Percentage</th>\n",
       "      <th class=\"col_heading level0 col2\" >Secondary Board of Education</th>\n",
       "      <th class=\"col_heading level0 col3\" >Higher Secondary Education Percentage</th>\n",
       "      <th class=\"col_heading level0 col4\" >Higher Secondary Board of Education</th>\n",
       "      <th class=\"col_heading level0 col5\" >Undergraduate Degree Percentage</th>\n",
       "      <th class=\"col_heading level0 col6\" >Work Experience</th>\n",
       "      <th class=\"col_heading level0 col7\" >Employability Test Percentage</th>\n",
       "      <th class=\"col_heading level0 col8\" >Post Graduate Specialisation</th>\n",
       "      <th class=\"col_heading level0 col9\" >MBA Grade Percentage</th>\n",
       "      <th class=\"col_heading level0 col10\" >Higher Secondary Specialisation_Arts</th>\n",
       "      <th class=\"col_heading level0 col11\" >Higher Secondary Specialisation_Commerce</th>\n",
       "      <th class=\"col_heading level0 col12\" >Higher Secondary Specialisation_Science</th>\n",
       "      <th class=\"col_heading level0 col13\" >Undergraduate Degree Type_Comm&Mgmt</th>\n",
       "      <th class=\"col_heading level0 col14\" >Undergraduate Degree Type_Others</th>\n",
       "      <th class=\"col_heading level0 col15\" >Undergraduate Degree Type_Sci&Tech</th>\n",
       "    </tr>\n",
       "  </thead>\n",
       "  <tbody>\n",
       "    <tr>\n",
       "      <th id=\"T_b2146_level0_row0\" class=\"row_heading level0 row0\" >count</th>\n",
       "      <td id=\"T_b2146_row0_col0\" class=\"data row0 col0\" >215.000</td>\n",
       "      <td id=\"T_b2146_row0_col1\" class=\"data row0 col1\" >215.000</td>\n",
       "      <td id=\"T_b2146_row0_col2\" class=\"data row0 col2\" >215.000</td>\n",
       "      <td id=\"T_b2146_row0_col3\" class=\"data row0 col3\" >215.000</td>\n",
       "      <td id=\"T_b2146_row0_col4\" class=\"data row0 col4\" >215.000</td>\n",
       "      <td id=\"T_b2146_row0_col5\" class=\"data row0 col5\" >215.000</td>\n",
       "      <td id=\"T_b2146_row0_col6\" class=\"data row0 col6\" >215.000</td>\n",
       "      <td id=\"T_b2146_row0_col7\" class=\"data row0 col7\" >215.000</td>\n",
       "      <td id=\"T_b2146_row0_col8\" class=\"data row0 col8\" >215.000</td>\n",
       "      <td id=\"T_b2146_row0_col9\" class=\"data row0 col9\" >215.000</td>\n",
       "      <td id=\"T_b2146_row0_col10\" class=\"data row0 col10\" >215.000</td>\n",
       "      <td id=\"T_b2146_row0_col11\" class=\"data row0 col11\" >215.000</td>\n",
       "      <td id=\"T_b2146_row0_col12\" class=\"data row0 col12\" >215.000</td>\n",
       "      <td id=\"T_b2146_row0_col13\" class=\"data row0 col13\" >215.000</td>\n",
       "      <td id=\"T_b2146_row0_col14\" class=\"data row0 col14\" >215.000</td>\n",
       "      <td id=\"T_b2146_row0_col15\" class=\"data row0 col15\" >215.000</td>\n",
       "    </tr>\n",
       "    <tr>\n",
       "      <th id=\"T_b2146_level0_row1\" class=\"row_heading level0 row1\" >mean</th>\n",
       "      <td id=\"T_b2146_row1_col0\" class=\"data row1 col0\" >0.647</td>\n",
       "      <td id=\"T_b2146_row1_col1\" class=\"data row1 col1\" >0.544</td>\n",
       "      <td id=\"T_b2146_row1_col2\" class=\"data row1 col2\" >0.460</td>\n",
       "      <td id=\"T_b2146_row1_col3\" class=\"data row1 col3\" >0.483</td>\n",
       "      <td id=\"T_b2146_row1_col4\" class=\"data row1 col4\" >0.609</td>\n",
       "      <td id=\"T_b2146_row1_col5\" class=\"data row1 col5\" >0.399</td>\n",
       "      <td id=\"T_b2146_row1_col6\" class=\"data row1 col6\" >0.344</td>\n",
       "      <td id=\"T_b2146_row1_col7\" class=\"data row1 col7\" >0.460</td>\n",
       "      <td id=\"T_b2146_row1_col8\" class=\"data row1 col8\" >0.442</td>\n",
       "      <td id=\"T_b2146_row1_col9\" class=\"data row1 col9\" >0.415</td>\n",
       "      <td id=\"T_b2146_row1_col10\" class=\"data row1 col10\" >0.051</td>\n",
       "      <td id=\"T_b2146_row1_col11\" class=\"data row1 col11\" >0.526</td>\n",
       "      <td id=\"T_b2146_row1_col12\" class=\"data row1 col12\" >0.423</td>\n",
       "      <td id=\"T_b2146_row1_col13\" class=\"data row1 col13\" >0.674</td>\n",
       "      <td id=\"T_b2146_row1_col14\" class=\"data row1 col14\" >0.051</td>\n",
       "      <td id=\"T_b2146_row1_col15\" class=\"data row1 col15\" >0.274</td>\n",
       "    </tr>\n",
       "    <tr>\n",
       "      <th id=\"T_b2146_level0_row2\" class=\"row_heading level0 row2\" >std</th>\n",
       "      <td id=\"T_b2146_row2_col0\" class=\"data row2 col0\" >0.479</td>\n",
       "      <td id=\"T_b2146_row2_col1\" class=\"data row2 col1\" >0.223</td>\n",
       "      <td id=\"T_b2146_row2_col2\" class=\"data row2 col2\" >0.500</td>\n",
       "      <td id=\"T_b2146_row2_col3\" class=\"data row2 col3\" >0.180</td>\n",
       "      <td id=\"T_b2146_row2_col4\" class=\"data row2 col4\" >0.489</td>\n",
       "      <td id=\"T_b2146_row2_col5\" class=\"data row2 col5\" >0.179</td>\n",
       "      <td id=\"T_b2146_row2_col6\" class=\"data row2 col6\" >0.476</td>\n",
       "      <td id=\"T_b2146_row2_col7\" class=\"data row2 col7\" >0.277</td>\n",
       "      <td id=\"T_b2146_row2_col8\" class=\"data row2 col8\" >0.498</td>\n",
       "      <td id=\"T_b2146_row2_col9\" class=\"data row2 col9\" >0.219</td>\n",
       "      <td id=\"T_b2146_row2_col10\" class=\"data row2 col10\" >0.221</td>\n",
       "      <td id=\"T_b2146_row2_col11\" class=\"data row2 col11\" >0.501</td>\n",
       "      <td id=\"T_b2146_row2_col12\" class=\"data row2 col12\" >0.495</td>\n",
       "      <td id=\"T_b2146_row2_col13\" class=\"data row2 col13\" >0.470</td>\n",
       "      <td id=\"T_b2146_row2_col14\" class=\"data row2 col14\" >0.221</td>\n",
       "      <td id=\"T_b2146_row2_col15\" class=\"data row2 col15\" >0.447</td>\n",
       "    </tr>\n",
       "    <tr>\n",
       "      <th id=\"T_b2146_level0_row3\" class=\"row_heading level0 row3\" >min</th>\n",
       "      <td id=\"T_b2146_row3_col0\" class=\"data row3 col0\" >0.000</td>\n",
       "      <td id=\"T_b2146_row3_col1\" class=\"data row3 col1\" >0.000</td>\n",
       "      <td id=\"T_b2146_row3_col2\" class=\"data row3 col2\" >0.000</td>\n",
       "      <td id=\"T_b2146_row3_col3\" class=\"data row3 col3\" >0.000</td>\n",
       "      <td id=\"T_b2146_row3_col4\" class=\"data row3 col4\" >0.000</td>\n",
       "      <td id=\"T_b2146_row3_col5\" class=\"data row3 col5\" >0.000</td>\n",
       "      <td id=\"T_b2146_row3_col6\" class=\"data row3 col6\" >0.000</td>\n",
       "      <td id=\"T_b2146_row3_col7\" class=\"data row3 col7\" >0.000</td>\n",
       "      <td id=\"T_b2146_row3_col8\" class=\"data row3 col8\" >0.000</td>\n",
       "      <td id=\"T_b2146_row3_col9\" class=\"data row3 col9\" >0.000</td>\n",
       "      <td id=\"T_b2146_row3_col10\" class=\"data row3 col10\" >0.000</td>\n",
       "      <td id=\"T_b2146_row3_col11\" class=\"data row3 col11\" >0.000</td>\n",
       "      <td id=\"T_b2146_row3_col12\" class=\"data row3 col12\" >0.000</td>\n",
       "      <td id=\"T_b2146_row3_col13\" class=\"data row3 col13\" >0.000</td>\n",
       "      <td id=\"T_b2146_row3_col14\" class=\"data row3 col14\" >0.000</td>\n",
       "      <td id=\"T_b2146_row3_col15\" class=\"data row3 col15\" >0.000</td>\n",
       "    </tr>\n",
       "    <tr>\n",
       "      <th id=\"T_b2146_level0_row4\" class=\"row_heading level0 row4\" >25%</th>\n",
       "      <td id=\"T_b2146_row4_col0\" class=\"data row4 col0\" >0.000</td>\n",
       "      <td id=\"T_b2146_row4_col1\" class=\"data row4 col1\" >0.406</td>\n",
       "      <td id=\"T_b2146_row4_col2\" class=\"data row4 col2\" >0.000</td>\n",
       "      <td id=\"T_b2146_row4_col3\" class=\"data row4 col3\" >0.394</td>\n",
       "      <td id=\"T_b2146_row4_col4\" class=\"data row4 col4\" >0.000</td>\n",
       "      <td id=\"T_b2146_row4_col5\" class=\"data row4 col5\" >0.268</td>\n",
       "      <td id=\"T_b2146_row4_col6\" class=\"data row4 col6\" >0.000</td>\n",
       "      <td id=\"T_b2146_row4_col7\" class=\"data row4 col7\" >0.208</td>\n",
       "      <td id=\"T_b2146_row4_col8\" class=\"data row4 col8\" >0.000</td>\n",
       "      <td id=\"T_b2146_row4_col9\" class=\"data row4 col9\" >0.252</td>\n",
       "      <td id=\"T_b2146_row4_col10\" class=\"data row4 col10\" >0.000</td>\n",
       "      <td id=\"T_b2146_row4_col11\" class=\"data row4 col11\" >0.000</td>\n",
       "      <td id=\"T_b2146_row4_col12\" class=\"data row4 col12\" >0.000</td>\n",
       "      <td id=\"T_b2146_row4_col13\" class=\"data row4 col13\" >0.000</td>\n",
       "      <td id=\"T_b2146_row4_col14\" class=\"data row4 col14\" >0.000</td>\n",
       "      <td id=\"T_b2146_row4_col15\" class=\"data row4 col15\" >0.000</td>\n",
       "    </tr>\n",
       "    <tr>\n",
       "      <th id=\"T_b2146_level0_row5\" class=\"row_heading level0 row5\" >50%</th>\n",
       "      <td id=\"T_b2146_row5_col0\" class=\"data row5 col0\" >1.000</td>\n",
       "      <td id=\"T_b2146_row5_col1\" class=\"data row5 col1\" >0.538</td>\n",
       "      <td id=\"T_b2146_row5_col2\" class=\"data row5 col2\" >0.000</td>\n",
       "      <td id=\"T_b2146_row5_col3\" class=\"data row5 col3\" >0.461</td>\n",
       "      <td id=\"T_b2146_row5_col4\" class=\"data row5 col4\" >1.000</td>\n",
       "      <td id=\"T_b2146_row5_col5\" class=\"data row5 col5\" >0.390</td>\n",
       "      <td id=\"T_b2146_row5_col6\" class=\"data row5 col6\" >0.000</td>\n",
       "      <td id=\"T_b2146_row5_col7\" class=\"data row5 col7\" >0.438</td>\n",
       "      <td id=\"T_b2146_row5_col8\" class=\"data row5 col8\" >0.000</td>\n",
       "      <td id=\"T_b2146_row5_col9\" class=\"data row5 col9\" >0.404</td>\n",
       "      <td id=\"T_b2146_row5_col10\" class=\"data row5 col10\" >0.000</td>\n",
       "      <td id=\"T_b2146_row5_col11\" class=\"data row5 col11\" >1.000</td>\n",
       "      <td id=\"T_b2146_row5_col12\" class=\"data row5 col12\" >0.000</td>\n",
       "      <td id=\"T_b2146_row5_col13\" class=\"data row5 col13\" >1.000</td>\n",
       "      <td id=\"T_b2146_row5_col14\" class=\"data row5 col14\" >0.000</td>\n",
       "      <td id=\"T_b2146_row5_col15\" class=\"data row5 col15\" >0.000</td>\n",
       "    </tr>\n",
       "    <tr>\n",
       "      <th id=\"T_b2146_level0_row6\" class=\"row_heading level0 row6\" >75%</th>\n",
       "      <td id=\"T_b2146_row6_col0\" class=\"data row6 col0\" >1.000</td>\n",
       "      <td id=\"T_b2146_row6_col1\" class=\"data row6 col1\" >0.718</td>\n",
       "      <td id=\"T_b2146_row6_col2\" class=\"data row6 col2\" >1.000</td>\n",
       "      <td id=\"T_b2146_row6_col3\" class=\"data row6 col3\" >0.593</td>\n",
       "      <td id=\"T_b2146_row6_col4\" class=\"data row6 col4\" >1.000</td>\n",
       "      <td id=\"T_b2146_row6_col5\" class=\"data row6 col5\" >0.537</td>\n",
       "      <td id=\"T_b2146_row6_col6\" class=\"data row6 col6\" >1.000</td>\n",
       "      <td id=\"T_b2146_row6_col7\" class=\"data row6 col7\" >0.698</td>\n",
       "      <td id=\"T_b2146_row6_col8\" class=\"data row6 col8\" >1.000</td>\n",
       "      <td id=\"T_b2146_row6_col9\" class=\"data row6 col9\" >0.564</td>\n",
       "      <td id=\"T_b2146_row6_col10\" class=\"data row6 col10\" >0.000</td>\n",
       "      <td id=\"T_b2146_row6_col11\" class=\"data row6 col11\" >1.000</td>\n",
       "      <td id=\"T_b2146_row6_col12\" class=\"data row6 col12\" >1.000</td>\n",
       "      <td id=\"T_b2146_row6_col13\" class=\"data row6 col13\" >1.000</td>\n",
       "      <td id=\"T_b2146_row6_col14\" class=\"data row6 col14\" >0.000</td>\n",
       "      <td id=\"T_b2146_row6_col15\" class=\"data row6 col15\" >1.000</td>\n",
       "    </tr>\n",
       "    <tr>\n",
       "      <th id=\"T_b2146_level0_row7\" class=\"row_heading level0 row7\" >max</th>\n",
       "      <td id=\"T_b2146_row7_col0\" class=\"data row7 col0\" >1.000</td>\n",
       "      <td id=\"T_b2146_row7_col1\" class=\"data row7 col1\" >1.000</td>\n",
       "      <td id=\"T_b2146_row7_col2\" class=\"data row7 col2\" >1.000</td>\n",
       "      <td id=\"T_b2146_row7_col3\" class=\"data row7 col3\" >1.000</td>\n",
       "      <td id=\"T_b2146_row7_col4\" class=\"data row7 col4\" >1.000</td>\n",
       "      <td id=\"T_b2146_row7_col5\" class=\"data row7 col5\" >1.000</td>\n",
       "      <td id=\"T_b2146_row7_col6\" class=\"data row7 col6\" >1.000</td>\n",
       "      <td id=\"T_b2146_row7_col7\" class=\"data row7 col7\" >1.000</td>\n",
       "      <td id=\"T_b2146_row7_col8\" class=\"data row7 col8\" >1.000</td>\n",
       "      <td id=\"T_b2146_row7_col9\" class=\"data row7 col9\" >1.000</td>\n",
       "      <td id=\"T_b2146_row7_col10\" class=\"data row7 col10\" >1.000</td>\n",
       "      <td id=\"T_b2146_row7_col11\" class=\"data row7 col11\" >1.000</td>\n",
       "      <td id=\"T_b2146_row7_col12\" class=\"data row7 col12\" >1.000</td>\n",
       "      <td id=\"T_b2146_row7_col13\" class=\"data row7 col13\" >1.000</td>\n",
       "      <td id=\"T_b2146_row7_col14\" class=\"data row7 col14\" >1.000</td>\n",
       "      <td id=\"T_b2146_row7_col15\" class=\"data row7 col15\" >1.000</td>\n",
       "    </tr>\n",
       "  </tbody>\n",
       "</table>\n"
      ],
      "text/plain": [
       "<pandas.io.formats.style.Styler at 0x28cbb73b910>"
      ]
     },
     "execution_count": 17,
     "metadata": {},
     "output_type": "execute_result"
    }
   ],
   "source": [
    "Data_scaled.describe().style.set_precision(3)"
   ]
  },
  {
   "cell_type": "markdown",
   "id": "eea8769e",
   "metadata": {},
   "source": [
    "### Feature Selection <a id='fs'></a>"
   ]
  },
  {
   "cell_type": "markdown",
   "id": "85d3e46d",
   "metadata": {},
   "source": [
    "#### KNN Model"
   ]
  },
  {
   "cell_type": "markdown",
   "id": "40ff43d1",
   "metadata": {},
   "source": [
    "For feature selection of the KNN model, we will use the f-score method to compare each descriptive feature with the target feature using F-distribution. \n",
    "\n",
    "First, we will assess the performance of the full set of features using repeat stratified k-folds with 3 repeats and accuracy as our scoring metric. K-folds is used as the dataset is quite small (212 variables) which is not enough for hold-out sampling."
   ]
  },
  {
   "cell_type": "code",
   "execution_count": 18,
   "id": "2148f9d0",
   "metadata": {},
   "outputs": [],
   "source": [
    "from sklearn.neighbors import KNeighborsClassifier\n",
    "\n",
    "from sklearn.model_selection import cross_val_score, RepeatedStratifiedKFold\n",
    "from sklearn import feature_selection as fs"
   ]
  },
  {
   "cell_type": "code",
   "execution_count": 19,
   "id": "ae86b038",
   "metadata": {},
   "outputs": [],
   "source": [
    "KNN_model = KNeighborsClassifier()\n",
    "cv_method = RepeatedStratifiedKFold(n_splits=5, \n",
    "                                     n_repeats=3,\n",
    "                                     random_state=999)"
   ]
  },
  {
   "cell_type": "code",
   "execution_count": 20,
   "id": "07cb368d",
   "metadata": {},
   "outputs": [],
   "source": [
    "scoring_metric = 'accuracy'"
   ]
  },
  {
   "cell_type": "code",
   "execution_count": 21,
   "id": "37960ce3",
   "metadata": {},
   "outputs": [],
   "source": [
    "cv_results_full = cross_val_score(estimator=KNN_model,\n",
    "                             X=Data,\n",
    "                             y=target, \n",
    "                             cv=cv_method, \n",
    "                             scoring=scoring_metric)"
   ]
  },
  {
   "cell_type": "code",
   "execution_count": 22,
   "id": "51f1e165",
   "metadata": {},
   "outputs": [
    {
     "data": {
      "text/plain": [
       "array([0.8372093 , 0.76744186, 0.81395349, 0.93023256, 0.86046512,\n",
       "       0.81395349, 0.90697674, 0.8372093 , 0.8372093 , 0.81395349,\n",
       "       0.88372093, 0.81395349, 0.88372093, 0.8372093 , 0.76744186])"
      ]
     },
     "execution_count": 22,
     "metadata": {},
     "output_type": "execute_result"
    }
   ],
   "source": [
    "cv_results_full"
   ]
  },
  {
   "cell_type": "code",
   "execution_count": 23,
   "id": "0923036e",
   "metadata": {},
   "outputs": [
    {
     "data": {
      "text/plain": [
       "0.84"
      ]
     },
     "execution_count": 23,
     "metadata": {},
     "output_type": "execute_result"
    }
   ],
   "source": [
    "cv_results_full.mean().round(3)"
   ]
  },
  {
   "cell_type": "markdown",
   "id": "34f81532",
   "metadata": {},
   "source": [
    "This gives 84% accuracy using the full set of features, which is the number of correct predictions divided by the full set of predictions."
   ]
  },
  {
   "cell_type": "markdown",
   "id": "16846a6c",
   "metadata": {},
   "source": [
    "Next, we will select various numbers of features and determine if they give a higher accuracy than using all features."
   ]
  },
  {
   "cell_type": "code",
   "execution_count": 24,
   "id": "649a64e1",
   "metadata": {},
   "outputs": [],
   "source": [
    "num_features = 5"
   ]
  },
  {
   "cell_type": "code",
   "execution_count": 25,
   "id": "b39ec0aa",
   "metadata": {},
   "outputs": [],
   "source": [
    "fs_fit_fscore = fs.SelectKBest(fs.f_classif, k=num_features)\n",
    "fs_fit_fscore.fit_transform(Data_scaled, target)\n",
    "fs_indices_fscore = np.argsort(np.nan_to_num(fs_fit_fscore.scores_))[::-1][0:num_features]"
   ]
  },
  {
   "cell_type": "markdown",
   "id": "cb484480",
   "metadata": {},
   "source": [
    "Starting with 5 features, the most important feature is Secondary Education Percentage. The first three features have a much higher importance (over 60%) than the other 2 features. This may indicate that having just 3 features selected is adequate for modeling."
   ]
  },
  {
   "cell_type": "code",
   "execution_count": 26,
   "id": "65213d0f",
   "metadata": {},
   "outputs": [
    {
     "data": {
      "text/plain": [
       "array(['Secondary Education Percentage',\n",
       "       'Higher Secondary Education Percentage',\n",
       "       'Undergraduate Degree Percentage', 'Work Experience',\n",
       "       'Post Graduate Specialisation'], dtype=object)"
      ]
     },
     "execution_count": 26,
     "metadata": {},
     "output_type": "execute_result"
    }
   ],
   "source": [
    "best_features_fscore = Data_scaled.columns[fs_indices_fscore].values\n",
    "best_features_fscore"
   ]
  },
  {
   "cell_type": "code",
   "execution_count": 27,
   "id": "1d08389b",
   "metadata": {},
   "outputs": [
    {
     "data": {
      "text/plain": [
       "array([124.84250634,  67.74518757,  63.71917614,  17.57165962,\n",
       "        14.27951129])"
      ]
     },
     "execution_count": 27,
     "metadata": {},
     "output_type": "execute_result"
    }
   ],
   "source": [
    "feature_importances_fscore = fs_fit_fscore.scores_[fs_indices_fscore]\n",
    "feature_importances_fscore"
   ]
  },
  {
   "cell_type": "code",
   "execution_count": 28,
   "id": "d146ef18",
   "metadata": {},
   "outputs": [],
   "source": [
    "import matplotlib.pyplot as plt\n",
    "%matplotlib inline \n",
    "%config InlineBackend.figure_format = 'retina'\n",
    "plt.style.use(\"ggplot\")\n",
    "\n",
    "def plot_imp(best_features, scores, method_name):   \n",
    "    plt.barh(best_features, scores)\n",
    "    plt.title(method_name + ' Feature Importances')\n",
    "    plt.xlabel(\"Importance\")\n",
    "    plt.ylabel(\"Features\")\n",
    "    plt.show()"
   ]
  },
  {
   "cell_type": "code",
   "execution_count": 29,
   "id": "efe20218",
   "metadata": {
    "scrolled": true
   },
   "outputs": [
    {
     "data": {
      "image/png": "[encoded data removed]",
      "text/plain": [
       "<Figure size 432x288 with 1 Axes>"
      ]
     },
     "metadata": {
      "image/png": {
       "height": 281,
       "width": 574
      }
     },
     "output_type": "display_data"
    }
   ],
   "source": [
    "plot_imp(best_features_fscore, feature_importances_fscore, 'F-Score')"
   ]
  },
  {
   "cell_type": "markdown",
   "id": "c2867ac7",
   "metadata": {},
   "source": [
    "The data is transformed from a pandas data frame to a numpy array as accuracy cross-validation only works on a numpy array."
   ]
  },
  {
   "cell_type": "code",
   "execution_count": 30,
   "id": "7df729e6",
   "metadata": {},
   "outputs": [
    {
     "data": {
      "text/plain": [
       "numpy.ndarray"
      ]
     },
     "execution_count": 30,
     "metadata": {},
     "output_type": "execute_result"
    }
   ],
   "source": [
    "D1= pd.DataFrame(Data_scaled).to_numpy()\n",
    "type(D1)"
   ]
  },
  {
   "cell_type": "code",
   "execution_count": 31,
   "id": "23be0830",
   "metadata": {},
   "outputs": [
    {
     "data": {
      "text/plain": [
       "(215, 5)"
      ]
     },
     "execution_count": 31,
     "metadata": {},
     "output_type": "execute_result"
    }
   ],
   "source": [
    "D1[:, fs_indices_fscore].shape"
   ]
  },
  {
   "cell_type": "markdown",
   "id": "473e8638",
   "metadata": {},
   "source": [
    "Five selected features gives 84.5% accuracy."
   ]
  },
  {
   "cell_type": "code",
   "execution_count": 32,
   "id": "b0239f32",
   "metadata": {},
   "outputs": [
    {
     "data": {
      "text/plain": [
       "0.845"
      ]
     },
     "execution_count": 32,
     "metadata": {},
     "output_type": "execute_result"
    }
   ],
   "source": [
    "cv_results_fscore = cross_val_score(estimator=KNN_model,\n",
    "                             X=D1[:, fs_indices_fscore],\n",
    "                             y=target, \n",
    "                             cv=cv_method, \n",
    "                             scoring=scoring_metric)\n",
    "cv_results_fscore.mean().round(3)"
   ]
  },
  {
   "cell_type": "markdown",
   "id": "15700173",
   "metadata": {},
   "source": [
    "We try feature selection again, this time with only 3 features. "
   ]
  },
  {
   "cell_type": "code",
   "execution_count": 33,
   "id": "cef1e962",
   "metadata": {},
   "outputs": [],
   "source": [
    "num_features = 3"
   ]
  },
  {
   "cell_type": "code",
   "execution_count": 34,
   "id": "402d4f43",
   "metadata": {},
   "outputs": [],
   "source": [
    "fs_fit_fscore = fs.SelectKBest(fs.f_classif, k=num_features)\n",
    "fs_fit_fscore.fit_transform(Data_scaled, target)\n",
    "fs_indices_fscore = np.argsort(np.nan_to_num(fs_fit_fscore.scores_))[::-1][0:num_features]"
   ]
  },
  {
   "cell_type": "code",
   "execution_count": 35,
   "id": "c8f95ac7",
   "metadata": {},
   "outputs": [
    {
     "data": {
      "text/plain": [
       "array(['Secondary Education Percentage',\n",
       "       'Higher Secondary Education Percentage',\n",
       "       'Undergraduate Degree Percentage'], dtype=object)"
      ]
     },
     "execution_count": 35,
     "metadata": {},
     "output_type": "execute_result"
    }
   ],
   "source": [
    "best_features_fscore = Data_scaled.columns[fs_indices_fscore].values\n",
    "best_features_fscore"
   ]
  },
  {
   "cell_type": "code",
   "execution_count": 36,
   "id": "07991417",
   "metadata": {},
   "outputs": [
    {
     "data": {
      "text/plain": [
       "array([124.84250634,  67.74518757,  63.71917614])"
      ]
     },
     "execution_count": 36,
     "metadata": {},
     "output_type": "execute_result"
    }
   ],
   "source": [
    "feature_importances_fscore = fs_fit_fscore.scores_[fs_indices_fscore]\n",
    "feature_importances_fscore"
   ]
  },
  {
   "cell_type": "code",
   "execution_count": 37,
   "id": "c452bf88",
   "metadata": {},
   "outputs": [
    {
     "data": {
      "image/png": "[encoded data removed]",
      "text/plain": [
       "<Figure size 432x288 with 1 Axes>"
      ]
     },
     "metadata": {
      "image/png": {
       "height": 281,
       "width": 574
      }
     },
     "output_type": "display_data"
    }
   ],
   "source": [
    "%matplotlib inline \n",
    "%config InlineBackend.figure_format = 'retina'\n",
    "plt.style.use(\"ggplot\")\n",
    "\n",
    "def plot_imp(best_features, scores, method_name):   \n",
    "    plt.barh(best_features, scores)\n",
    "    plt.title(method_name + ' Feature Importances')\n",
    "    plt.xlabel(\"Importance\")\n",
    "    plt.ylabel(\"Features\")\n",
    "    plt.show()\n",
    "    \n",
    "plot_imp(best_features_fscore, feature_importances_fscore, 'F-Score')"
   ]
  },
  {
   "cell_type": "markdown",
   "id": "f6e5b55d",
   "metadata": {},
   "source": [
    "This results in an accuracy of 85.3%, which is slightly higher than both full feature selection and 5 feature selection. 4 feature selection gives 84% accuracy, 6 feature selection gives 80.8% accuracy and 7 feature selection gives 79.8% accuracy. These are not shown for conciseness. So, for the KNN model, we will be using only 3 features: Secondary Education Percentage, Higher Secondary Education Percentage, and Undergraduate Degree Percentage."
   ]
  },
  {
   "cell_type": "code",
   "execution_count": 38,
   "id": "6c4026db",
   "metadata": {},
   "outputs": [
    {
     "data": {
      "text/plain": [
       "0.853"
      ]
     },
     "execution_count": 38,
     "metadata": {},
     "output_type": "execute_result"
    }
   ],
   "source": [
    "cv_results_fscore = cross_val_score(estimator=KNN_model,\n",
    "                             X=D1[:, fs_indices_fscore],\n",
    "                             y=target, \n",
    "                             cv=cv_method, \n",
    "                             scoring=scoring_metric)\n",
    "cv_results_fscore.mean().round(3)"
   ]
  },
  {
   "cell_type": "markdown",
   "id": "e0f5057b",
   "metadata": {},
   "source": [
    "### Logistic Regression <a id='lr'></a>"
   ]
  },
  {
   "cell_type": "markdown",
   "id": "5721279b",
   "metadata": {},
   "source": [
    "### K Nearest Neighbors <a id='knn'></a>\n"
   ]
  },
  {
   "cell_type": "markdown",
   "id": "b58b37a7",
   "metadata": {},
   "source": [
    "From feature selection, 3 features, Secondary Education Percentage, Higher Secondary Education Percentage, and Undergraduate Degree Percentage, were chosen as the most important features and they will be used in the KNN model below. First, we create a new data frame, Data_fs, that consists of just the three columns mentioned above."
   ]
  },
  {
   "cell_type": "code",
   "execution_count": 35,
   "id": "bd657d03",
   "metadata": {},
   "outputs": [],
   "source": [
    "Data_fs = Data_scaled[['Secondary Education Percentage', 'Higher Secondary Education Percentage', 'Undergraduate Degree Percentage']]"
   ]
  },
  {
   "cell_type": "markdown",
   "id": "61abd522",
   "metadata": {},
   "source": [
    "Then we set the train test split for the model with 70% for testing and 30% for training. Stratify parameter is set to target as the target class is unbalanced, with twice as many 1 values as 0 values. By having it stratified, the proportion of 1s and 0s will stay the same even after the data is split into training and testing."
   ]
  },
  {
   "cell_type": "code",
   "execution_count": 36,
   "id": "a173e37e",
   "metadata": {},
   "outputs": [],
   "source": [
    "from sklearn.model_selection import train_test_split\n",
    "D_train, D_test, t_train, t_test = train_test_split(Data_fs, target, test_size =0.3,\n",
    "                                                   stratify=target, random_state=999)"
   ]
  },
  {
   "cell_type": "markdown",
   "id": "f0ca0b24",
   "metadata": {},
   "source": [
    "There are two parameters we can adjust in the KNN classifier model, n_neighbors and p value. We will test out a wide range of n_neighbors (from 1 to 13) to determine which has the best performance. Worth noting is that only 10 neighbors were initially tested and the best performer was k=2. So, a few additional k values were added to be sure that we were capturing the most accurate model. Additionally, we will use both Manhattan distance (p=1) and Euclidean distance (p=2) as the p-values."
   ]
  },
  {
   "cell_type": "code",
   "execution_count": 37,
   "id": "54ff9207",
   "metadata": {},
   "outputs": [],
   "source": [
    "params_KNN = {'n_neighbors': [1, 2, 3, 4, 5, 6, 7, 8, 9, 10, 11, 12, 13], \n",
    "              'p': [1, 2]}"
   ]
  },
  {
   "cell_type": "code",
   "execution_count": 38,
   "id": "b8b1e2de",
   "metadata": {},
   "outputs": [],
   "source": [
    "from sklearn.model_selection import GridSearchCV\n",
    "\n",
    "gs_KNN = GridSearchCV(estimator=KNeighborsClassifier(), \n",
    "                      param_grid=params_KNN, \n",
    "                      cv=cv_method,\n",
    "                      verbose=1,\n",
    "                      scoring='accuracy', \n",
    "                      return_train_score=True)"
   ]
  },
  {
   "cell_type": "code",
   "execution_count": 39,
   "id": "87ec2b79",
   "metadata": {},
   "outputs": [
    {
     "name": "stdout",
     "output_type": "stream",
     "text": [
      "Fitting 15 folds for each of 26 candidates, totalling 390 fits\n"
     ]
    }
   ],
   "source": [
    "gs_KNN.fit(Data_fs, target);"
   ]
  },
  {
   "cell_type": "markdown",
   "id": "c3f795db",
   "metadata": {},
   "source": [
    "The best parameters for the model are found to be k = 11 neighbors and p = 2 Euclidean distance. The accuracy of these two parameters is 85.7%."
   ]
  },
  {
   "cell_type": "code",
   "execution_count": 40,
   "id": "e7a81038",
   "metadata": {
    "scrolled": true
   },
   "outputs": [
    {
     "data": {
      "text/plain": [
       "{'n_neighbors': 11, 'p': 2}"
      ]
     },
     "execution_count": 40,
     "metadata": {},
     "output_type": "execute_result"
    }
   ],
   "source": [
    "gs_KNN.best_params_"
   ]
  },
  {
   "cell_type": "code",
   "execution_count": 41,
   "id": "736cfc3b",
   "metadata": {
    "scrolled": true
   },
   "outputs": [
    {
     "data": {
      "text/plain": [
       "0.859"
      ]
     },
     "execution_count": 41,
     "metadata": {},
     "output_type": "execute_result"
    }
   ],
   "source": [
    "gs_KNN.best_score_.round(3)"
   ]
  },
  {
   "cell_type": "code",
   "execution_count": 42,
   "id": "6bca2da8",
   "metadata": {},
   "outputs": [],
   "source": [
    "results_KNN = pd.DataFrame(gs_KNN.cv_results_['params'])\n",
    "results_KNN['test_score'] = gs_KNN.cv_results_['mean_test_score']\n",
    "results_KNN['metric'] = results_KNN['p'].replace([1,2], [\"Manhattan\", \"Euclidean\"])"
   ]
  },
  {
   "cell_type": "markdown",
   "id": "dbe0beef",
   "metadata": {},
   "source": [
    "The results of the hyper-parameter tuning are shown in the plot below. k = 11 has the highest accuracy for both Manhattan and Euclidean models and k = 2 has the lowest accuracy for both models."
   ]
  },
  {
   "cell_type": "code",
   "execution_count": 45,
   "id": "479149fc",
   "metadata": {},
   "outputs": [
    {
     "data": {
      "image/png": "[encoded data removed]",
      "text/plain": [
       "<Figure size 432x288 with 1 Axes>"
      ]
     },
     "metadata": {
      "image/png": {
       "height": 281,
       "width": 394
      }
     },
     "output_type": "display_data"
    }
   ],
   "source": [
    "%matplotlib inline \n",
    "%config InlineBackend.figure_format = 'retina'\n",
    "plt.style.use(\"ggplot\")\n",
    "\n",
    "for i in [\"Manhattan\", \"Euclidean\"]:\n",
    "    temp = results_KNN[results_KNN['metric'] == i]\n",
    "    plt.plot(temp['n_neighbors'], temp['test_score'], marker = '.', label = i)\n",
    "    \n",
    "plt.legend()\n",
    "plt.xlabel('Number of Neighbors')\n",
    "plt.ylabel(\"Mean CV Score\")\n",
    "plt.title(\"KNN Performance Comparison\")\n",
    "plt.show()"
   ]
  },
  {
   "cell_type": "markdown",
   "id": "1738a5b5",
   "metadata": {},
   "source": [
    "### Decision Tree <a id='dt'></a>"
   ]
  },
  {
   "cell_type": "markdown",
   "id": "2b596ce5",
   "metadata": {},
   "source": [
    "### Random Forest <a id='rf'></a>"
   ]
  },
  {
   "cell_type": "markdown",
   "id": "cea9c543",
   "metadata": {},
   "source": [
    "### Naive Bayes <a id='nb'></a>"
   ]
  },
  {
   "cell_type": "code",
   "execution_count": 42,
   "id": "54dad31f",
   "metadata": {},
   "outputs": [],
   "source": [
    "from spFSR import SpFSR\n",
    "from sklearn.naive_bayes import GaussianNB\n",
    "gnb = GaussianNB()\n",
    "num_features = 5\n",
    "sp_engine = SpFSR(x=D1, y=target, pred_type='c', wrapper=gnb, scoring='accuracy')\n",
    "np.random.seed(999)\n"
   ]
  },
  {
   "cell_type": "code",
   "execution_count": 43,
   "id": "9ffc28ad",
   "metadata": {},
   "outputs": [
    {
     "name": "stderr",
     "output_type": "stream",
     "text": [
      "SpFSR-INFO: Wrapper: GaussianNB()\n",
      "SpFSR-INFO: Hot start: True\n",
      "SpFSR-INFO: Hot start range: 0.2\n",
      "SpFSR-INFO: Feature weighting: False\n",
      "SpFSR-INFO: Scoring metric: accuracy\n",
      "SpFSR-INFO: Number of jobs: 1\n",
      "SpFSR-INFO: Number of observations in the dataset: 215\n",
      "SpFSR-INFO: Number of observations used: 215\n",
      "SpFSR-INFO: Number of features available: 16\n",
      "SpFSR-INFO: Number of features to select: 5\n",
      "SpFSR-INFO: iter_no: 0, num_ft: 5, value: 0.819, st_dev: 0.039, best: 0.819 @ iter_no 0\n",
      "SpFSR-INFO: iter_no: 10, num_ft: 5, value: 0.828, st_dev: 0.04, best: 0.843 @ iter_no 6\n",
      "SpFSR-INFO: ===> iter_no: 10, same feature stall limit reached, initializing search...\n",
      "SpFSR-INFO: iter_no: 20, num_ft: 5, value: 0.845, st_dev: 0.051, best: 0.845 @ iter_no 12\n",
      "SpFSR-INFO: ===> iter_no: 25, same feature stall limit reached, initializing search...\n",
      "SpFSR-INFO: iter_no: 30, num_ft: 5, value: 0.817, st_dev: 0.05, best: 0.845 @ iter_no 12\n",
      "SpFSR-INFO: ===> iter_no: 35, same feature stall limit reached, initializing search...\n",
      "SpFSR-INFO: iter_no: 40, num_ft: 5, value: 0.853, st_dev: 0.052, best: 0.856 @ iter_no 37\n",
      "SpFSR-INFO: iter_no: 50, num_ft: 5, value: 0.839, st_dev: 0.052, best: 0.856 @ iter_no 37\n",
      "SpFSR-INFO: ===> iter_no: 57, same feature stall limit reached, initializing search...\n",
      "SpFSR-INFO: iter_no: 60, num_ft: 5, value: 0.853, st_dev: 0.039, best: 0.856 @ iter_no 37\n",
      "SpFSR-INFO: iter_no: 70, num_ft: 5, value: 0.789, st_dev: 0.054, best: 0.857 @ iter_no 66\n",
      "SpFSR-INFO: ===> iter_no: 76, same feature stall limit reached, initializing search...\n",
      "SpFSR-INFO: iter_no: 80, num_ft: 5, value: 0.843, st_dev: 0.045, best: 0.857 @ iter_no 66\n",
      "SpFSR-INFO: ===> iter_no: 85, same feature stall limit reached, initializing search...\n",
      "SpFSR-INFO: iter_no: 90, num_ft: 5, value: 0.84, st_dev: 0.041, best: 0.857 @ iter_no 66\n",
      "SpFSR-INFO: iter_no: 100, num_ft: 5, value: 0.847, st_dev: 0.059, best: 0.857 @ iter_no 66\n",
      "SpFSR-INFO: SpFSR completed in 0.22 minutes.\n",
      "SpFSR-INFO: Best value = 0.857 with 5 features and 100 total iterations.\n",
      "\n"
     ]
    },
    {
     "data": {
      "text/plain": [
       "[1, 5, 0, 3, 2]"
      ]
     },
     "execution_count": 43,
     "metadata": {},
     "output_type": "execute_result"
    }
   ],
   "source": [
    "sp_output = sp_engine.run(num_features=num_features).results\n",
    "fs_indices_spfsr = sp_output.get('selected_features')\n",
    "fs_indices_spfsr\n"
   ]
  },
  {
   "cell_type": "code",
   "execution_count": 44,
   "id": "067b21fc",
   "metadata": {},
   "outputs": [
    {
     "data": {
      "text/plain": [
       "[1, 5, 0, 3, 2]"
      ]
     },
     "execution_count": 44,
     "metadata": {},
     "output_type": "execute_result"
    }
   ],
   "source": [
    "fs_indices_spfsr = sp_output.get('selected_features')\n",
    "fs_indices_spfsr\n"
   ]
  },
  {
   "cell_type": "code",
   "execution_count": 46,
   "id": "859474a6",
   "metadata": {},
   "outputs": [
    {
     "data": {
      "text/plain": [
       "Index(['Secondary Education Percentage', 'Higher Secondary Specialisation',\n",
       "       'Gender', 'Higher Secondary Education Percentage',\n",
       "       'Secondary Board of Education'],\n",
       "      dtype='object')"
      ]
     },
     "execution_count": 46,
     "metadata": {},
     "output_type": "execute_result"
    }
   ],
   "source": [
    "best_features_spfsr = placement.columns[fs_indices_spfsr]\n",
    "best_features_spfsr\n"
   ]
  },
  {
   "cell_type": "code",
   "execution_count": 47,
   "id": "98c33bb0",
   "metadata": {},
   "outputs": [
    {
     "data": {
      "text/plain": [
       "array([ 2.02987257e-01,  8.54909397e-02,  7.17493013e-02,  3.09701732e-02,\n",
       "       -2.00105609e-04])"
      ]
     },
     "execution_count": 47,
     "metadata": {},
     "output_type": "execute_result"
    }
   ],
   "source": [
    "feature_importances_spfsr = sp_output.get('selected_ft_importance')\n",
    "feature_importances_spfsr\n"
   ]
  },
  {
   "cell_type": "code",
   "execution_count": 48,
   "id": "c5736d43",
   "metadata": {},
   "outputs": [
    {
     "data": {
      "image/png": "[encoded data removed]",
      "text/plain": [
       "<Figure size 432x288 with 1 Axes>"
      ]
     },
     "metadata": {
      "image/png": {
       "height": 281,
       "width": 574
      }
     },
     "output_type": "display_data"
    }
   ],
   "source": [
    "plot_imp(best_features_spfsr, feature_importances_spfsr, 'spFSR')\n"
   ]
  },
  {
   "cell_type": "code",
   "execution_count": 49,
   "id": "8ff19508",
   "metadata": {},
   "outputs": [
    {
     "data": {
      "text/plain": [
       "0.856"
      ]
     },
     "execution_count": 49,
     "metadata": {},
     "output_type": "execute_result"
    }
   ],
   "source": [
    "cv_results_spfsr = cross_val_score(estimator=gnb,\n",
    "                             X=D1[:, fs_indices_spfsr],\n",
    "                             y=target, \n",
    "                             cv=cv_method, \n",
    "                             scoring=scoring_metric)\n",
    "cv_results_spfsr.mean().round(3)"
   ]
  },
  {
   "cell_type": "code",
   "execution_count": 52,
   "id": "eefb3e9f",
   "metadata": {},
   "outputs": [
    {
     "name": "stdout",
     "output_type": "stream",
     "text": [
      "Full Set of Features: 0.84\n",
      "F-Score: 0.853\n",
      "spFSR: 0.856\n"
     ]
    }
   ],
   "source": [
    "print('Full Set of Features:', cv_results_full.mean().round(3))\n",
    "print('F-Score:', cv_results_fscore.mean().round(3))\n",
    "print('spFSR:', cv_results_spfsr.mean().round(3)) "
   ]
  },
  {
   "cell_type": "code",
   "execution_count": 53,
   "id": "cd1585bd",
   "metadata": {},
   "outputs": [],
   "source": [
    "Data_fs = Data_scaled[['Secondary Education Percentage', 'Higher Secondary Education Percentage', 'Gender']]"
   ]
  },
  {
   "cell_type": "code",
   "execution_count": 55,
   "id": "91ccfc17",
   "metadata": {},
   "outputs": [
    {
     "name": "stdout",
     "output_type": "stream",
     "text": [
      "            x distribution\n",
      "342 -0.276524  transformed\n",
      "321  3.216755  exponential\n",
      "247  1.297923  transformed\n",
      "514 -1.678249  transformed\n",
      "343  0.204341  exponential\n",
      "386  0.486638  exponential\n",
      "304  0.883091  exponential\n",
      "772  0.015391  exponential\n",
      "889  0.184597  transformed\n",
      "554  0.076667  exponential\n"
     ]
    }
   ],
   "source": [
    "import numpy as np\n",
    "from sklearn.preprocessing import PowerTransformer\n",
    "\n",
    "np.random.seed(999)\n",
    "\n",
    "sample_size = 1000\n",
    "x_exponential = np.random.exponential(2, sample_size).reshape(-1, 1)\n",
    "x_transformed = PowerTransformer().fit_transform(x_exponential)\n",
    "\n",
    "df1 = pd.DataFrame(x_exponential)\n",
    "df1['distribution'] = 'exponential'\n",
    "\n",
    "df2 = pd.DataFrame(x_transformed)\n",
    "df2['distribution'] = 'transformed'\n",
    "\n",
    "# combine the two data frames into one to be used for plotting\n",
    "df = pd.concat([df1, df2], axis=0)\n",
    "df.rename(columns={0: 'x'}, inplace=True)\n",
    "\n",
    "print(df.sample(n=10))"
   ]
  },
  {
   "cell_type": "code",
   "execution_count": 56,
   "id": "45c57481",
   "metadata": {},
   "outputs": [
    {
     "data": {
      "image/png": "[encoded data removed]",
      "text/plain": [
       "<Figure size 432x288 with 1 Axes>"
      ]
     },
     "metadata": {
      "image/png": {
       "height": 281,
       "width": 391
      }
     },
     "output_type": "display_data"
    }
   ],
   "source": [
    "for i in ['exponential', 'transformed']:\n",
    "    temp = df[df['distribution']==i]\n",
    "    plt.hist(temp['x'], alpha = 0.9, bins =30, label = i)\n",
    "\n",
    "plt.xlabel('x (binned)')\n",
    "plt.ylabel('Number of Records')\n",
    "plt.title('Power Transformation Example')\n",
    "plt.legend()\n",
    "plt.show()"
   ]
  },
  {
   "cell_type": "code",
   "execution_count": 73,
   "id": "39165fce",
   "metadata": {},
   "outputs": [
    {
     "name": "stdout",
     "output_type": "stream",
     "text": [
      "Fitting 15 folds for each of 100 candidates, totalling 1500 fits\n"
     ]
    }
   ],
   "source": [
    "from sklearn.naive_bayes import GaussianNB\n",
    "from sklearn.model_selection import GridSearchCV\n",
    "\n",
    "np.random.seed(999)\n",
    "\n",
    "nb_classifier = GaussianNB()\n",
    "\n",
    "params_NB = {'var_smoothing': np.logspace(0,-9, num=100)}\n",
    "\n",
    "gs_NB = GridSearchCV(estimator=nb_classifier, \n",
    "                     param_grid=params_NB, \n",
    "                     cv=cv_method,\n",
    "                     verbose=1, \n",
    "                     scoring='accuracy')\n",
    "\n",
    "Data_transformed = PowerTransformer().fit_transform(D1)\n",
    "\n",
    "gs_NB.fit(Data_transformed, target);\n"
   ]
  },
  {
   "cell_type": "code",
   "execution_count": 74,
   "id": "2d594c9e",
   "metadata": {},
   "outputs": [
    {
     "data": {
      "text/plain": [
       "{'var_smoothing': 0.1}"
      ]
     },
     "execution_count": 74,
     "metadata": {},
     "output_type": "execute_result"
    }
   ],
   "source": [
    "gs_NB.best_params_\n"
   ]
  },
  {
   "cell_type": "code",
   "execution_count": 75,
   "id": "4d052bef",
   "metadata": {},
   "outputs": [
    {
     "data": {
      "text/plain": [
       "0.8263565891472867"
      ]
     },
     "execution_count": 75,
     "metadata": {},
     "output_type": "execute_result"
    }
   ],
   "source": [
    "gs_NB.best_score_\n"
   ]
  },
  {
   "cell_type": "code",
   "execution_count": 72,
   "id": "67ca2200",
   "metadata": {},
   "outputs": [],
   "source": [
    "results_NB = pd.DataFrame(gs_NB.cv_results_['params'])\n",
    "results_NB['test_score'] = gs_NB.cv_results_['mean_test_score']\n"
   ]
  },
  {
   "cell_type": "code",
   "execution_count": 76,
   "id": "059444b8",
   "metadata": {
    "scrolled": true
   },
   "outputs": [
    {
     "data": {
      "image/png": "[encoded data removed]",
      "text/plain": [
       "<Figure size 432x288 with 1 Axes>"
      ]
     },
     "metadata": {
      "image/png": {
       "height": 281,
       "width": 400
      }
     },
     "output_type": "display_data"
    }
   ],
   "source": [
    "plt.plot(results_NB['var_smoothing'], results_NB['test_score'], marker = '.')    \n",
    "plt.xlabel('Var. Smoothing')\n",
    "plt.ylabel(\"Mean CV Score\")\n",
    "plt.title(\"NB Performance Comparison\")\n",
    "plt.show()"
   ]
  },
  {
   "cell_type": "markdown",
   "id": "7177324c",
   "metadata": {},
   "source": [
    "We observe that the best variance smoothing parameter for NB is around 0.1, though the difference between other values in terms of the mean CV score is very small per the range of the y-axis."
   ]
  },
  {
   "cell_type": "markdown",
   "id": "22fd6463",
   "metadata": {},
   "source": [
    "### Model Comparison <a id='mc'></a>"
   ]
  },
  {
   "cell_type": "markdown",
   "id": "e59efd26",
   "metadata": {},
   "source": [
    "## Critique and Limitations <a id='cl'></a>"
   ]
  },
  {
   "cell_type": "markdown",
   "id": "dd96d363",
   "metadata": {},
   "source": [
    "## Summary and Conclusions <a id='sc'></a>"
   ]
  },
  {
   "cell_type": "markdown",
   "id": "41c46447",
   "metadata": {},
   "source": [
    "### Project Summary <a id='ps'></a>"
   ]
  },
  {
   "cell_type": "markdown",
   "id": "92964d47",
   "metadata": {},
   "source": [
    "### Summary of Findings <a id='sf'></a>"
   ]
  },
  {
   "cell_type": "markdown",
   "id": "a9438379",
   "metadata": {},
   "source": [
    "### Conclusions <a id='con'></a>"
   ]
  },
  {
   "cell_type": "markdown",
   "id": "1d3bdf35",
   "metadata": {},
   "source": [
    "## References <a id='ref'></a>"
   ]
  }
 ],
 "metadata": {
  "kernelspec": {
   "display_name": "Python 3 (ipykernel)",
   "language": "python",
   "name": "python3"
  },
  "language_info": {
   "codemirror_mode": {
    "name": "ipython",
    "version": 3
   },
   "file_extension": ".py",
   "mimetype": "text/x-python",
   "name": "python",
   "nbconvert_exporter": "python",
   "pygments_lexer": "ipython3",
   "version": "3.9.7"
  }
 },
 "nbformat": 4,
 "nbformat_minor": 5
}
