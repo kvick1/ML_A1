{
 "cells": [
  {
   "cell_type": "markdown",
   "id": "6b7e4fc6",
   "metadata": {},
   "source": [
    "# Predicting Employment of Students at an University Campus \n",
    "## Phase 2: Predictive Modeling\n",
    "### Group 46\n",
    "### Zhaojin Liu s3206722, Martin Thu s3494324, Klara Vickov s3873315"
   ]
  },
  {
   "cell_type": "markdown",
   "id": "0fd6b893",
   "metadata": {},
   "source": [
    "## Table of Contents\n",
    "- [Introduction](#intro)\n",
    "    - [Phase 1 Summary](#sum)\n",
    "    - [Report Overview](#ro)\n",
    "    - [Overview of Methodology](#om)\n",
    "- [Predictive Modeling](#model)\n",
    "    - [One-Hot Encoding and Scaling](#ohe)\n",
    "    - [Feature Selection](#fs)\n",
    "    - [Linear Regression](#lr)\n",
    "    - [K Nearest Neighbors](#knn)\n",
    "    - [Decision Tree](#dt)\n",
    "    - [Random Forest](#rf)\n",
    "    - [Naive Bayes](#nb)\n",
    "    - [Model Comparison](#mc)\n",
    "- [Critique and Limitations](#cl)\n",
    "- [Summary and Conclusions](#sc)\n",
    "    - [Project Summary](#ps)\n",
    "    - [Summary of Findings](#sf)\n",
    "    - [Conclusions](#con)\n",
    "- [References](#ref)"
   ]
  },
  {
   "cell_type": "markdown",
   "id": "93014694",
   "metadata": {},
   "source": [
    "## Introduction <a id='intro'></a>"
   ]
  },
  {
   "cell_type": "markdown",
   "id": "8f530caa",
   "metadata": {},
   "source": [
    "### Phase 1 Summary <a id='sum'></a>\n",
    "During phase 1 of the project, we pre-processed, explored, and visualized our chosen dataset that looks at academic information of students at Jain University in India and determines whether they received placement after university or not. \n",
    "\n",
    "The pre-processing involved checking for missing/incorrect values, outliers, changing feature names, and dropping ID-like columns. Then, we separated our target feature, status, from the descriptive features.\n",
    "\n",
    "For exploring and visualizing, we looked at various one-variable, two-variable, and three-variable graphs and plots to determine what kind of relationships exist between features. Some interesting takeaways from our explorations were that male students have a higher chance of received placement, students with higher undergraduate and postgraduate GPAs are more likely to be placed, and a higher employability test percentage leads to higher chances of getting placed. A literature review backed up some of this data by showing that GPA, gender, and previous work experience contribute to higher employability for graduates.\n",
    "\n",
    "We will load the dataset that was used in phase 1 of the project."
   ]
  },
  {
   "cell_type": "code",
   "execution_count": 1,
   "id": "9625a85b",
   "metadata": {},
   "outputs": [],
   "source": [
    "import pandas as pd\n",
    "import numpy as np\n",
    "import warnings\n",
    "warnings.filterwarnings(\"ignore\")\n",
    "\n",
    "pd.set_option('display.max_columns', None) "
   ]
  },
  {
   "cell_type": "code",
   "execution_count": 2,
   "id": "64735cd5",
   "metadata": {},
   "outputs": [
    {
     "data": {
      "text/html": [
       "<style type=\"text/css\">\n",
       "</style>\n",
       "<table id=\"T_c1efa_\">\n",
       "  <thead>\n",
       "    <tr>\n",
       "      <th class=\"blank level0\" >&nbsp;</th>\n",
       "      <th class=\"col_heading level0 col0\" >Gender</th>\n",
       "      <th class=\"col_heading level0 col1\" >Secondary Education Percentage</th>\n",
       "      <th class=\"col_heading level0 col2\" >Secondary Board of Education</th>\n",
       "      <th class=\"col_heading level0 col3\" >Higher Secondary Education Percentage</th>\n",
       "      <th class=\"col_heading level0 col4\" >Higher Secondary Board of Education</th>\n",
       "      <th class=\"col_heading level0 col5\" >Higher Secondary Specialisation</th>\n",
       "      <th class=\"col_heading level0 col6\" >Undergraduate Degree Percentage</th>\n",
       "      <th class=\"col_heading level0 col7\" >Undergraduate Degree Type</th>\n",
       "      <th class=\"col_heading level0 col8\" >Work Experience</th>\n",
       "      <th class=\"col_heading level0 col9\" >Employability Test Percentage</th>\n",
       "      <th class=\"col_heading level0 col10\" >Post Graduate Specialisation</th>\n",
       "      <th class=\"col_heading level0 col11\" >MBA Grade Percentage</th>\n",
       "      <th class=\"col_heading level0 col12\" >Status</th>\n",
       "    </tr>\n",
       "  </thead>\n",
       "  <tbody>\n",
       "    <tr>\n",
       "      <th id=\"T_c1efa_level0_row0\" class=\"row_heading level0 row0\" >1</th>\n",
       "      <td id=\"T_c1efa_row0_col0\" class=\"data row0 col0\" >M</td>\n",
       "      <td id=\"T_c1efa_row0_col1\" class=\"data row0 col1\" >67.000</td>\n",
       "      <td id=\"T_c1efa_row0_col2\" class=\"data row0 col2\" >Others</td>\n",
       "      <td id=\"T_c1efa_row0_col3\" class=\"data row0 col3\" >91.000</td>\n",
       "      <td id=\"T_c1efa_row0_col4\" class=\"data row0 col4\" >Others</td>\n",
       "      <td id=\"T_c1efa_row0_col5\" class=\"data row0 col5\" >Commerce</td>\n",
       "      <td id=\"T_c1efa_row0_col6\" class=\"data row0 col6\" >58.000</td>\n",
       "      <td id=\"T_c1efa_row0_col7\" class=\"data row0 col7\" >Sci&Tech</td>\n",
       "      <td id=\"T_c1efa_row0_col8\" class=\"data row0 col8\" >No</td>\n",
       "      <td id=\"T_c1efa_row0_col9\" class=\"data row0 col9\" >55.000</td>\n",
       "      <td id=\"T_c1efa_row0_col10\" class=\"data row0 col10\" >Mkt&HR</td>\n",
       "      <td id=\"T_c1efa_row0_col11\" class=\"data row0 col11\" >58.800</td>\n",
       "      <td id=\"T_c1efa_row0_col12\" class=\"data row0 col12\" >Placed</td>\n",
       "    </tr>\n",
       "    <tr>\n",
       "      <th id=\"T_c1efa_level0_row1\" class=\"row_heading level0 row1\" >2</th>\n",
       "      <td id=\"T_c1efa_row1_col0\" class=\"data row1 col0\" >M</td>\n",
       "      <td id=\"T_c1efa_row1_col1\" class=\"data row1 col1\" >79.330</td>\n",
       "      <td id=\"T_c1efa_row1_col2\" class=\"data row1 col2\" >Central</td>\n",
       "      <td id=\"T_c1efa_row1_col3\" class=\"data row1 col3\" >78.330</td>\n",
       "      <td id=\"T_c1efa_row1_col4\" class=\"data row1 col4\" >Others</td>\n",
       "      <td id=\"T_c1efa_row1_col5\" class=\"data row1 col5\" >Science</td>\n",
       "      <td id=\"T_c1efa_row1_col6\" class=\"data row1 col6\" >77.480</td>\n",
       "      <td id=\"T_c1efa_row1_col7\" class=\"data row1 col7\" >Sci&Tech</td>\n",
       "      <td id=\"T_c1efa_row1_col8\" class=\"data row1 col8\" >Yes</td>\n",
       "      <td id=\"T_c1efa_row1_col9\" class=\"data row1 col9\" >86.500</td>\n",
       "      <td id=\"T_c1efa_row1_col10\" class=\"data row1 col10\" >Mkt&Fin</td>\n",
       "      <td id=\"T_c1efa_row1_col11\" class=\"data row1 col11\" >66.280</td>\n",
       "      <td id=\"T_c1efa_row1_col12\" class=\"data row1 col12\" >Placed</td>\n",
       "    </tr>\n",
       "    <tr>\n",
       "      <th id=\"T_c1efa_level0_row2\" class=\"row_heading level0 row2\" >3</th>\n",
       "      <td id=\"T_c1efa_row2_col0\" class=\"data row2 col0\" >M</td>\n",
       "      <td id=\"T_c1efa_row2_col1\" class=\"data row2 col1\" >65.000</td>\n",
       "      <td id=\"T_c1efa_row2_col2\" class=\"data row2 col2\" >Central</td>\n",
       "      <td id=\"T_c1efa_row2_col3\" class=\"data row2 col3\" >68.000</td>\n",
       "      <td id=\"T_c1efa_row2_col4\" class=\"data row2 col4\" >Central</td>\n",
       "      <td id=\"T_c1efa_row2_col5\" class=\"data row2 col5\" >Arts</td>\n",
       "      <td id=\"T_c1efa_row2_col6\" class=\"data row2 col6\" >64.000</td>\n",
       "      <td id=\"T_c1efa_row2_col7\" class=\"data row2 col7\" >Comm&Mgmt</td>\n",
       "      <td id=\"T_c1efa_row2_col8\" class=\"data row2 col8\" >No</td>\n",
       "      <td id=\"T_c1efa_row2_col9\" class=\"data row2 col9\" >75.000</td>\n",
       "      <td id=\"T_c1efa_row2_col10\" class=\"data row2 col10\" >Mkt&Fin</td>\n",
       "      <td id=\"T_c1efa_row2_col11\" class=\"data row2 col11\" >57.800</td>\n",
       "      <td id=\"T_c1efa_row2_col12\" class=\"data row2 col12\" >Placed</td>\n",
       "    </tr>\n",
       "    <tr>\n",
       "      <th id=\"T_c1efa_level0_row3\" class=\"row_heading level0 row3\" >4</th>\n",
       "      <td id=\"T_c1efa_row3_col0\" class=\"data row3 col0\" >M</td>\n",
       "      <td id=\"T_c1efa_row3_col1\" class=\"data row3 col1\" >56.000</td>\n",
       "      <td id=\"T_c1efa_row3_col2\" class=\"data row3 col2\" >Central</td>\n",
       "      <td id=\"T_c1efa_row3_col3\" class=\"data row3 col3\" >52.000</td>\n",
       "      <td id=\"T_c1efa_row3_col4\" class=\"data row3 col4\" >Central</td>\n",
       "      <td id=\"T_c1efa_row3_col5\" class=\"data row3 col5\" >Science</td>\n",
       "      <td id=\"T_c1efa_row3_col6\" class=\"data row3 col6\" >52.000</td>\n",
       "      <td id=\"T_c1efa_row3_col7\" class=\"data row3 col7\" >Sci&Tech</td>\n",
       "      <td id=\"T_c1efa_row3_col8\" class=\"data row3 col8\" >No</td>\n",
       "      <td id=\"T_c1efa_row3_col9\" class=\"data row3 col9\" >66.000</td>\n",
       "      <td id=\"T_c1efa_row3_col10\" class=\"data row3 col10\" >Mkt&HR</td>\n",
       "      <td id=\"T_c1efa_row3_col11\" class=\"data row3 col11\" >59.430</td>\n",
       "      <td id=\"T_c1efa_row3_col12\" class=\"data row3 col12\" >Not Placed</td>\n",
       "    </tr>\n",
       "    <tr>\n",
       "      <th id=\"T_c1efa_level0_row4\" class=\"row_heading level0 row4\" >5</th>\n",
       "      <td id=\"T_c1efa_row4_col0\" class=\"data row4 col0\" >M</td>\n",
       "      <td id=\"T_c1efa_row4_col1\" class=\"data row4 col1\" >85.800</td>\n",
       "      <td id=\"T_c1efa_row4_col2\" class=\"data row4 col2\" >Central</td>\n",
       "      <td id=\"T_c1efa_row4_col3\" class=\"data row4 col3\" >73.600</td>\n",
       "      <td id=\"T_c1efa_row4_col4\" class=\"data row4 col4\" >Central</td>\n",
       "      <td id=\"T_c1efa_row4_col5\" class=\"data row4 col5\" >Commerce</td>\n",
       "      <td id=\"T_c1efa_row4_col6\" class=\"data row4 col6\" >73.300</td>\n",
       "      <td id=\"T_c1efa_row4_col7\" class=\"data row4 col7\" >Comm&Mgmt</td>\n",
       "      <td id=\"T_c1efa_row4_col8\" class=\"data row4 col8\" >No</td>\n",
       "      <td id=\"T_c1efa_row4_col9\" class=\"data row4 col9\" >96.800</td>\n",
       "      <td id=\"T_c1efa_row4_col10\" class=\"data row4 col10\" >Mkt&Fin</td>\n",
       "      <td id=\"T_c1efa_row4_col11\" class=\"data row4 col11\" >55.500</td>\n",
       "      <td id=\"T_c1efa_row4_col12\" class=\"data row4 col12\" >Placed</td>\n",
       "    </tr>\n",
       "  </tbody>\n",
       "</table>\n"
      ],
      "text/plain": [
       "<pandas.io.formats.style.Styler at 0x13d4abc1d30>"
      ]
     },
     "execution_count": 2,
     "metadata": {},
     "output_type": "execute_result"
    }
   ],
   "source": [
    "placement = pd.read_csv(\"placement_phase2.csv\", sep = \"\\t\", index_col = [0])\n",
    "placement.head().style.set_precision(3)"
   ]
  },
  {
   "cell_type": "markdown",
   "id": "0242b13c",
   "metadata": {},
   "source": [
    "### Report Overview <a id='ro'></a>\n",
    "For phase 2, we will begin by encoding categorical features, including the target feature, and scaling the necessary descriptive features. Then we will use feature selection to select the best descriptive features of the dataset. Next, we will fit K-Nearest Neighbors, Decision Tree, Random Forest, Linear Regression, and Naive Bayes models to our data, and compare the models to see which one is of best fit. Then we will critique our results before summarizing the whole project and drawing relevant conclusions."
   ]
  },
  {
   "cell_type": "markdown",
   "id": "cfbc143e",
   "metadata": {},
   "source": [
    "### Overview of Methodology <a id='om'></a>"
   ]
  },
  {
   "cell_type": "markdown",
   "id": "2580f30b",
   "metadata": {},
   "source": [
    "## Predictive Modeling <a id='model'></a>"
   ]
  },
  {
   "cell_type": "markdown",
   "id": "cc12face",
   "metadata": {},
   "source": [
    "### One-Hot Encoding and Scaling <a id='ohe'></a>\n",
    "Before doing any modeling or feature selection, we must encoded all categorical features into numerical features so they can be modeled.\n",
    "\n",
    "First, we will separate the target feature, status, from the rest of the descriptive features."
   ]
  },
  {
   "cell_type": "code",
   "execution_count": 3,
   "id": "bd54d38f",
   "metadata": {},
   "outputs": [],
   "source": [
    "Data = placement.drop(columns='Status')\n",
    "target = placement['Status']"
   ]
  },
  {
   "cell_type": "markdown",
   "id": "ab264a43",
   "metadata": {},
   "source": [
    "We will encode the target feature first. Those that are placed will be encoded as 1 and those that are not placed will be encoded as 0. One thing to keep in mind here is that the two target classes are not balanced, with twice as many placed ('1') values as not placed ('0') values."
   ]
  },
  {
   "cell_type": "code",
   "execution_count": 4,
   "id": "c8baaae5",
   "metadata": {},
   "outputs": [
    {
     "data": {
      "text/plain": [
       "Placed\n",
       "1         148\n",
       "0          67\n",
       "dtype: int64"
      ]
     },
     "execution_count": 4,
     "metadata": {},
     "output_type": "execute_result"
    }
   ],
   "source": [
    "target = pd.get_dummies(target, drop_first = True)\n",
    "target.value_counts()"
   ]
  },
  {
   "cell_type": "markdown",
   "id": "64b8a5d9",
   "metadata": {},
   "source": [
    "Next we will encode all the categorical features."
   ]
  },
  {
   "cell_type": "markdown",
   "id": "d3153b78",
   "metadata": {},
   "source": [
    "Here we print the levels of each categorical variable. Gender, Secondary Board of Education, Higher Secondary Board of Education, Work Experience, Post Graduate Specialisation are two-level variables and will be encoded as 1 or 0 in one variable. On the other hand, Higher Secondary Specialisation and Undergraduate Degree Type are three-level variables and will be encoded into three separate variables."
   ]
  },
  {
   "cell_type": "code",
   "execution_count": 5,
   "id": "20da2a7d",
   "metadata": {},
   "outputs": [
    {
     "name": "stdout",
     "output_type": "stream",
     "text": [
      "Gender\n",
      "M    139\n",
      "F     76\n",
      "Name: Gender, dtype: int64 \n",
      "\n",
      "Secondary Board of Education\n",
      "Central    116\n",
      "Others      99\n",
      "Name: Secondary Board of Education, dtype: int64 \n",
      "\n",
      "Higher Secondary Board of Education\n",
      "Others     131\n",
      "Central     84\n",
      "Name: Higher Secondary Board of Education, dtype: int64 \n",
      "\n",
      "Higher Secondary Specialisation\n",
      "Commerce    113\n",
      "Science      91\n",
      "Arts         11\n",
      "Name: Higher Secondary Specialisation, dtype: int64 \n",
      "\n",
      "Undergraduate Degree Type\n",
      "Comm&Mgmt    145\n",
      "Sci&Tech      59\n",
      "Others        11\n",
      "Name: Undergraduate Degree Type, dtype: int64 \n",
      "\n",
      "Work Experience\n",
      "No     141\n",
      "Yes     74\n",
      "Name: Work Experience, dtype: int64 \n",
      "\n",
      "Post Graduate Specialisation\n",
      "Mkt&Fin    120\n",
      "Mkt&HR      95\n",
      "Name: Post Graduate Specialisation, dtype: int64 \n",
      "\n"
     ]
    }
   ],
   "source": [
    "for col in Data.columns[Data.dtypes==object]:\n",
    "    print(col)\n",
    "    print(Data[col].value_counts(), \"\\n\")"
   ]
  },
  {
   "cell_type": "code",
   "execution_count": 6,
   "id": "4dcce152",
   "metadata": {},
   "outputs": [],
   "source": [
    "cat_cols = Data.columns[Data.dtypes==object].to_list()"
   ]
  },
  {
   "cell_type": "code",
   "execution_count": 7,
   "id": "dc43bb49",
   "metadata": {},
   "outputs": [],
   "source": [
    "for col in cat_cols:\n",
    "    if (Data[col].nunique() == 2):\n",
    "        Data[col] = pd.get_dummies(Data[col], drop_first=True)\n",
    "\n",
    "Data = pd.get_dummies(Data)"
   ]
  },
  {
   "cell_type": "markdown",
   "id": "3f4f5973",
   "metadata": {},
   "source": [
    "Below we can see that all the value have been properly encoded into 1 and 0. For Gender, Male is 1 and Female is 0. For Secondary Board of Education, Central is 1 and Others is 0. For Higher Secondary Board of Education, Others is 1 and Central is 0. For Work Experience, Yes is 1 and No is 0. For Post Graduate Specialisation, Mkt&Fin is 1 and Mkt&HR is 0."
   ]
  },
  {
   "cell_type": "code",
   "execution_count": 8,
   "id": "dc811324",
   "metadata": {},
   "outputs": [
    {
     "name": "stdout",
     "output_type": "stream",
     "text": [
      "Gender\n",
      "1    139\n",
      "0     76\n",
      "Name: Gender, dtype: int64 \n",
      "\n",
      "Secondary Board of Education\n",
      "0    116\n",
      "1     99\n",
      "Name: Secondary Board of Education, dtype: int64 \n",
      "\n",
      "Higher Secondary Board of Education\n",
      "1    131\n",
      "0     84\n",
      "Name: Higher Secondary Board of Education, dtype: int64 \n",
      "\n",
      "Work Experience\n",
      "0    141\n",
      "1     74\n",
      "Name: Work Experience, dtype: int64 \n",
      "\n",
      "Post Graduate Specialisation\n",
      "0    120\n",
      "1     95\n",
      "Name: Post Graduate Specialisation, dtype: int64 \n",
      "\n",
      "Higher Secondary Specialisation_Arts\n",
      "0    204\n",
      "1     11\n",
      "Name: Higher Secondary Specialisation_Arts, dtype: int64 \n",
      "\n",
      "Higher Secondary Specialisation_Commerce\n",
      "1    113\n",
      "0    102\n",
      "Name: Higher Secondary Specialisation_Commerce, dtype: int64 \n",
      "\n",
      "Higher Secondary Specialisation_Science\n",
      "0    124\n",
      "1     91\n",
      "Name: Higher Secondary Specialisation_Science, dtype: int64 \n",
      "\n",
      "Undergraduate Degree Type_Comm&Mgmt\n",
      "1    145\n",
      "0     70\n",
      "Name: Undergraduate Degree Type_Comm&Mgmt, dtype: int64 \n",
      "\n",
      "Undergraduate Degree Type_Others\n",
      "0    204\n",
      "1     11\n",
      "Name: Undergraduate Degree Type_Others, dtype: int64 \n",
      "\n",
      "Undergraduate Degree Type_Sci&Tech\n",
      "0    156\n",
      "1     59\n",
      "Name: Undergraduate Degree Type_Sci&Tech, dtype: int64 \n",
      "\n"
     ]
    }
   ],
   "source": [
    "for col in Data.columns:\n",
    "    if Data[col].nunique() == 2 or Data[col].nunique() == 3:\n",
    "        print(col)\n",
    "        print(Data[col].value_counts(), \"\\n\")"
   ]
  },
  {
   "cell_type": "code",
   "execution_count": 9,
   "id": "40f0cd6a",
   "metadata": {},
   "outputs": [
    {
     "data": {
      "text/html": [
       "<style type=\"text/css\">\n",
       "</style>\n",
       "<table id=\"T_25f65_\">\n",
       "  <thead>\n",
       "    <tr>\n",
       "      <th class=\"blank level0\" >&nbsp;</th>\n",
       "      <th class=\"col_heading level0 col0\" >Gender</th>\n",
       "      <th class=\"col_heading level0 col1\" >Secondary Education Percentage</th>\n",
       "      <th class=\"col_heading level0 col2\" >Secondary Board of Education</th>\n",
       "      <th class=\"col_heading level0 col3\" >Higher Secondary Education Percentage</th>\n",
       "      <th class=\"col_heading level0 col4\" >Higher Secondary Board of Education</th>\n",
       "      <th class=\"col_heading level0 col5\" >Undergraduate Degree Percentage</th>\n",
       "      <th class=\"col_heading level0 col6\" >Work Experience</th>\n",
       "      <th class=\"col_heading level0 col7\" >Employability Test Percentage</th>\n",
       "      <th class=\"col_heading level0 col8\" >Post Graduate Specialisation</th>\n",
       "      <th class=\"col_heading level0 col9\" >MBA Grade Percentage</th>\n",
       "      <th class=\"col_heading level0 col10\" >Higher Secondary Specialisation_Arts</th>\n",
       "      <th class=\"col_heading level0 col11\" >Higher Secondary Specialisation_Commerce</th>\n",
       "      <th class=\"col_heading level0 col12\" >Higher Secondary Specialisation_Science</th>\n",
       "      <th class=\"col_heading level0 col13\" >Undergraduate Degree Type_Comm&Mgmt</th>\n",
       "      <th class=\"col_heading level0 col14\" >Undergraduate Degree Type_Others</th>\n",
       "      <th class=\"col_heading level0 col15\" >Undergraduate Degree Type_Sci&Tech</th>\n",
       "    </tr>\n",
       "  </thead>\n",
       "  <tbody>\n",
       "    <tr>\n",
       "      <th id=\"T_25f65_level0_row0\" class=\"row_heading level0 row0\" >149</th>\n",
       "      <td id=\"T_25f65_row0_col0\" class=\"data row0 col0\" >0</td>\n",
       "      <td id=\"T_25f65_row0_col1\" class=\"data row0 col1\" >77.000</td>\n",
       "      <td id=\"T_25f65_row0_col2\" class=\"data row0 col2\" >0</td>\n",
       "      <td id=\"T_25f65_row0_col3\" class=\"data row0 col3\" >86.000</td>\n",
       "      <td id=\"T_25f65_row0_col4\" class=\"data row0 col4\" >0</td>\n",
       "      <td id=\"T_25f65_row0_col5\" class=\"data row0 col5\" >56.000</td>\n",
       "      <td id=\"T_25f65_row0_col6\" class=\"data row0 col6\" >0</td>\n",
       "      <td id=\"T_25f65_row0_col7\" class=\"data row0 col7\" >57.000</td>\n",
       "      <td id=\"T_25f65_row0_col8\" class=\"data row0 col8\" >0</td>\n",
       "      <td id=\"T_25f65_row0_col9\" class=\"data row0 col9\" >64.080</td>\n",
       "      <td id=\"T_25f65_row0_col10\" class=\"data row0 col10\" >1</td>\n",
       "      <td id=\"T_25f65_row0_col11\" class=\"data row0 col11\" >0</td>\n",
       "      <td id=\"T_25f65_row0_col12\" class=\"data row0 col12\" >0</td>\n",
       "      <td id=\"T_25f65_row0_col13\" class=\"data row0 col13\" >0</td>\n",
       "      <td id=\"T_25f65_row0_col14\" class=\"data row0 col14\" >1</td>\n",
       "      <td id=\"T_25f65_row0_col15\" class=\"data row0 col15\" >0</td>\n",
       "    </tr>\n",
       "    <tr>\n",
       "      <th id=\"T_25f65_level0_row1\" class=\"row_heading level0 row1\" >192</th>\n",
       "      <td id=\"T_25f65_row1_col0\" class=\"data row1 col0\" >1</td>\n",
       "      <td id=\"T_25f65_row1_col1\" class=\"data row1 col1\" >67.000</td>\n",
       "      <td id=\"T_25f65_row1_col2\" class=\"data row1 col2\" >1</td>\n",
       "      <td id=\"T_25f65_row1_col3\" class=\"data row1 col3\" >61.000</td>\n",
       "      <td id=\"T_25f65_row1_col4\" class=\"data row1 col4\" >0</td>\n",
       "      <td id=\"T_25f65_row1_col5\" class=\"data row1 col5\" >72.000</td>\n",
       "      <td id=\"T_25f65_row1_col6\" class=\"data row1 col6\" >0</td>\n",
       "      <td id=\"T_25f65_row1_col7\" class=\"data row1 col7\" >72.000</td>\n",
       "      <td id=\"T_25f65_row1_col8\" class=\"data row1 col8\" >0</td>\n",
       "      <td id=\"T_25f65_row1_col9\" class=\"data row1 col9\" >61.010</td>\n",
       "      <td id=\"T_25f65_row1_col10\" class=\"data row1 col10\" >0</td>\n",
       "      <td id=\"T_25f65_row1_col11\" class=\"data row1 col11\" >0</td>\n",
       "      <td id=\"T_25f65_row1_col12\" class=\"data row1 col12\" >1</td>\n",
       "      <td id=\"T_25f65_row1_col13\" class=\"data row1 col13\" >1</td>\n",
       "      <td id=\"T_25f65_row1_col14\" class=\"data row1 col14\" >0</td>\n",
       "      <td id=\"T_25f65_row1_col15\" class=\"data row1 col15\" >0</td>\n",
       "    </tr>\n",
       "    <tr>\n",
       "      <th id=\"T_25f65_level0_row2\" class=\"row_heading level0 row2\" >126</th>\n",
       "      <td id=\"T_25f65_row2_col0\" class=\"data row2 col0\" >0</td>\n",
       "      <td id=\"T_25f65_row2_col1\" class=\"data row2 col1\" >84.000</td>\n",
       "      <td id=\"T_25f65_row2_col2\" class=\"data row2 col2\" >0</td>\n",
       "      <td id=\"T_25f65_row2_col3\" class=\"data row2 col3\" >73.000</td>\n",
       "      <td id=\"T_25f65_row2_col4\" class=\"data row2 col4\" >0</td>\n",
       "      <td id=\"T_25f65_row2_col5\" class=\"data row2 col5\" >73.000</td>\n",
       "      <td id=\"T_25f65_row2_col6\" class=\"data row2 col6\" >0</td>\n",
       "      <td id=\"T_25f65_row2_col7\" class=\"data row2 col7\" >75.000</td>\n",
       "      <td id=\"T_25f65_row2_col8\" class=\"data row2 col8\" >0</td>\n",
       "      <td id=\"T_25f65_row2_col9\" class=\"data row2 col9\" >73.330</td>\n",
       "      <td id=\"T_25f65_row2_col10\" class=\"data row2 col10\" >0</td>\n",
       "      <td id=\"T_25f65_row2_col11\" class=\"data row2 col11\" >1</td>\n",
       "      <td id=\"T_25f65_row2_col12\" class=\"data row2 col12\" >0</td>\n",
       "      <td id=\"T_25f65_row2_col13\" class=\"data row2 col13\" >1</td>\n",
       "      <td id=\"T_25f65_row2_col14\" class=\"data row2 col14\" >0</td>\n",
       "      <td id=\"T_25f65_row2_col15\" class=\"data row2 col15\" >0</td>\n",
       "    </tr>\n",
       "    <tr>\n",
       "      <th id=\"T_25f65_level0_row3\" class=\"row_heading level0 row3\" >69</th>\n",
       "      <td id=\"T_25f65_row3_col0\" class=\"data row3 col0\" >0</td>\n",
       "      <td id=\"T_25f65_row3_col1\" class=\"data row3 col1\" >69.700</td>\n",
       "      <td id=\"T_25f65_row3_col2\" class=\"data row3 col2\" >0</td>\n",
       "      <td id=\"T_25f65_row3_col3\" class=\"data row3 col3\" >47.000</td>\n",
       "      <td id=\"T_25f65_row3_col4\" class=\"data row3 col4\" >0</td>\n",
       "      <td id=\"T_25f65_row3_col5\" class=\"data row3 col5\" >72.700</td>\n",
       "      <td id=\"T_25f65_row3_col6\" class=\"data row3 col6\" >0</td>\n",
       "      <td id=\"T_25f65_row3_col7\" class=\"data row3 col7\" >79.000</td>\n",
       "      <td id=\"T_25f65_row3_col8\" class=\"data row3 col8\" >1</td>\n",
       "      <td id=\"T_25f65_row3_col9\" class=\"data row3 col9\" >59.240</td>\n",
       "      <td id=\"T_25f65_row3_col10\" class=\"data row3 col10\" >0</td>\n",
       "      <td id=\"T_25f65_row3_col11\" class=\"data row3 col11\" >1</td>\n",
       "      <td id=\"T_25f65_row3_col12\" class=\"data row3 col12\" >0</td>\n",
       "      <td id=\"T_25f65_row3_col13\" class=\"data row3 col13\" >0</td>\n",
       "      <td id=\"T_25f65_row3_col14\" class=\"data row3 col14\" >0</td>\n",
       "      <td id=\"T_25f65_row3_col15\" class=\"data row3 col15\" >1</td>\n",
       "    </tr>\n",
       "    <tr>\n",
       "      <th id=\"T_25f65_level0_row4\" class=\"row_heading level0 row4\" >188</th>\n",
       "      <td id=\"T_25f65_row4_col0\" class=\"data row4 col0\" >1</td>\n",
       "      <td id=\"T_25f65_row4_col1\" class=\"data row4 col1\" >78.500</td>\n",
       "      <td id=\"T_25f65_row4_col2\" class=\"data row4 col2\" >0</td>\n",
       "      <td id=\"T_25f65_row4_col3\" class=\"data row4 col3\" >65.500</td>\n",
       "      <td id=\"T_25f65_row4_col4\" class=\"data row4 col4\" >0</td>\n",
       "      <td id=\"T_25f65_row4_col5\" class=\"data row4 col5\" >67.000</td>\n",
       "      <td id=\"T_25f65_row4_col6\" class=\"data row4 col6\" >1</td>\n",
       "      <td id=\"T_25f65_row4_col7\" class=\"data row4 col7\" >95.000</td>\n",
       "      <td id=\"T_25f65_row4_col8\" class=\"data row4 col8\" >0</td>\n",
       "      <td id=\"T_25f65_row4_col9\" class=\"data row4 col9\" >64.860</td>\n",
       "      <td id=\"T_25f65_row4_col10\" class=\"data row4 col10\" >0</td>\n",
       "      <td id=\"T_25f65_row4_col11\" class=\"data row4 col11\" >0</td>\n",
       "      <td id=\"T_25f65_row4_col12\" class=\"data row4 col12\" >1</td>\n",
       "      <td id=\"T_25f65_row4_col13\" class=\"data row4 col13\" >0</td>\n",
       "      <td id=\"T_25f65_row4_col14\" class=\"data row4 col14\" >0</td>\n",
       "      <td id=\"T_25f65_row4_col15\" class=\"data row4 col15\" >1</td>\n",
       "    </tr>\n",
       "  </tbody>\n",
       "</table>\n"
      ],
      "text/plain": [
       "<pandas.io.formats.style.Styler at 0x13d488cbcd0>"
      ]
     },
     "execution_count": 9,
     "metadata": {},
     "output_type": "execute_result"
    }
   ],
   "source": [
    "# Delete later\n",
    "Data.sample(5, random_state=999).style.set_precision(3)"
   ]
  },
  {
   "cell_type": "markdown",
   "id": "f8fa8ba5",
   "metadata": {},
   "source": [
    "Now that the data is encoded, we will scale the descriptive features, so they are within the range of 0 to 1 to ensure equal weighting. We will store the column names as they will be needed to build up the new data frame with scaled features. Scaling will produce a NumPy array which does not include column names."
   ]
  },
  {
   "cell_type": "code",
   "execution_count": 10,
   "id": "da36f7bc",
   "metadata": {},
   "outputs": [],
   "source": [
    "col_names = Data.columns"
   ]
  },
  {
   "cell_type": "code",
   "execution_count": 11,
   "id": "4b840ff7",
   "metadata": {},
   "outputs": [],
   "source": [
    "from sklearn import preprocessing\n",
    "data_scaler = preprocessing.MinMaxScaler()\n",
    "Data_scaled = data_scaler.fit_transform(Data)"
   ]
  },
  {
   "cell_type": "markdown",
   "id": "72d46bcc",
   "metadata": {},
   "source": [
    "We put the dataset back together using the NumPy array and the previously stored column names. We can see below that the features previously labeled 1 and 0 have stayed that way, and all other features now have values between 1 and 0."
   ]
  },
  {
   "cell_type": "code",
   "execution_count": 12,
   "id": "313ece97",
   "metadata": {},
   "outputs": [
    {
     "data": {
      "text/html": [
       "<style type=\"text/css\">\n",
       "</style>\n",
       "<table id=\"T_86adf_\">\n",
       "  <thead>\n",
       "    <tr>\n",
       "      <th class=\"blank level0\" >&nbsp;</th>\n",
       "      <th class=\"col_heading level0 col0\" >Gender</th>\n",
       "      <th class=\"col_heading level0 col1\" >Secondary Education Percentage</th>\n",
       "      <th class=\"col_heading level0 col2\" >Secondary Board of Education</th>\n",
       "      <th class=\"col_heading level0 col3\" >Higher Secondary Education Percentage</th>\n",
       "      <th class=\"col_heading level0 col4\" >Higher Secondary Board of Education</th>\n",
       "      <th class=\"col_heading level0 col5\" >Undergraduate Degree Percentage</th>\n",
       "      <th class=\"col_heading level0 col6\" >Work Experience</th>\n",
       "      <th class=\"col_heading level0 col7\" >Employability Test Percentage</th>\n",
       "      <th class=\"col_heading level0 col8\" >Post Graduate Specialisation</th>\n",
       "      <th class=\"col_heading level0 col9\" >MBA Grade Percentage</th>\n",
       "      <th class=\"col_heading level0 col10\" >Higher Secondary Specialisation_Arts</th>\n",
       "      <th class=\"col_heading level0 col11\" >Higher Secondary Specialisation_Commerce</th>\n",
       "      <th class=\"col_heading level0 col12\" >Higher Secondary Specialisation_Science</th>\n",
       "      <th class=\"col_heading level0 col13\" >Undergraduate Degree Type_Comm&Mgmt</th>\n",
       "      <th class=\"col_heading level0 col14\" >Undergraduate Degree Type_Others</th>\n",
       "      <th class=\"col_heading level0 col15\" >Undergraduate Degree Type_Sci&Tech</th>\n",
       "    </tr>\n",
       "  </thead>\n",
       "  <tbody>\n",
       "    <tr>\n",
       "      <th id=\"T_86adf_level0_row0\" class=\"row_heading level0 row0\" >148</th>\n",
       "      <td id=\"T_86adf_row0_col0\" class=\"data row0 col0\" >0.000</td>\n",
       "      <td id=\"T_86adf_row0_col1\" class=\"data row0 col1\" >0.744</td>\n",
       "      <td id=\"T_86adf_row0_col2\" class=\"data row0 col2\" >0.000</td>\n",
       "      <td id=\"T_86adf_row0_col3\" class=\"data row0 col3\" >0.807</td>\n",
       "      <td id=\"T_86adf_row0_col4\" class=\"data row0 col4\" >0.000</td>\n",
       "      <td id=\"T_86adf_row0_col5\" class=\"data row0 col5\" >0.146</td>\n",
       "      <td id=\"T_86adf_row0_col6\" class=\"data row0 col6\" >0.000</td>\n",
       "      <td id=\"T_86adf_row0_col7\" class=\"data row0 col7\" >0.146</td>\n",
       "      <td id=\"T_86adf_row0_col8\" class=\"data row0 col8\" >0.000</td>\n",
       "      <td id=\"T_86adf_row0_col9\" class=\"data row0 col9\" >0.482</td>\n",
       "      <td id=\"T_86adf_row0_col10\" class=\"data row0 col10\" >1.000</td>\n",
       "      <td id=\"T_86adf_row0_col11\" class=\"data row0 col11\" >0.000</td>\n",
       "      <td id=\"T_86adf_row0_col12\" class=\"data row0 col12\" >0.000</td>\n",
       "      <td id=\"T_86adf_row0_col13\" class=\"data row0 col13\" >0.000</td>\n",
       "      <td id=\"T_86adf_row0_col14\" class=\"data row0 col14\" >1.000</td>\n",
       "      <td id=\"T_86adf_row0_col15\" class=\"data row0 col15\" >0.000</td>\n",
       "    </tr>\n",
       "    <tr>\n",
       "      <th id=\"T_86adf_level0_row1\" class=\"row_heading level0 row1\" >191</th>\n",
       "      <td id=\"T_86adf_row1_col0\" class=\"data row1 col0\" >1.000</td>\n",
       "      <td id=\"T_86adf_row1_col1\" class=\"data row1 col1\" >0.538</td>\n",
       "      <td id=\"T_86adf_row1_col2\" class=\"data row1 col2\" >1.000</td>\n",
       "      <td id=\"T_86adf_row1_col3\" class=\"data row1 col3\" >0.395</td>\n",
       "      <td id=\"T_86adf_row1_col4\" class=\"data row1 col4\" >0.000</td>\n",
       "      <td id=\"T_86adf_row1_col5\" class=\"data row1 col5\" >0.537</td>\n",
       "      <td id=\"T_86adf_row1_col6\" class=\"data row1 col6\" >0.000</td>\n",
       "      <td id=\"T_86adf_row1_col7\" class=\"data row1 col7\" >0.458</td>\n",
       "      <td id=\"T_86adf_row1_col8\" class=\"data row1 col8\" >0.000</td>\n",
       "      <td id=\"T_86adf_row1_col9\" class=\"data row1 col9\" >0.367</td>\n",
       "      <td id=\"T_86adf_row1_col10\" class=\"data row1 col10\" >0.000</td>\n",
       "      <td id=\"T_86adf_row1_col11\" class=\"data row1 col11\" >0.000</td>\n",
       "      <td id=\"T_86adf_row1_col12\" class=\"data row1 col12\" >1.000</td>\n",
       "      <td id=\"T_86adf_row1_col13\" class=\"data row1 col13\" >1.000</td>\n",
       "      <td id=\"T_86adf_row1_col14\" class=\"data row1 col14\" >0.000</td>\n",
       "      <td id=\"T_86adf_row1_col15\" class=\"data row1 col15\" >0.000</td>\n",
       "    </tr>\n",
       "    <tr>\n",
       "      <th id=\"T_86adf_level0_row2\" class=\"row_heading level0 row2\" >125</th>\n",
       "      <td id=\"T_86adf_row2_col0\" class=\"data row2 col0\" >0.000</td>\n",
       "      <td id=\"T_86adf_row2_col1\" class=\"data row2 col1\" >0.889</td>\n",
       "      <td id=\"T_86adf_row2_col2\" class=\"data row2 col2\" >0.000</td>\n",
       "      <td id=\"T_86adf_row2_col3\" class=\"data row2 col3\" >0.593</td>\n",
       "      <td id=\"T_86adf_row2_col4\" class=\"data row2 col4\" >0.000</td>\n",
       "      <td id=\"T_86adf_row2_col5\" class=\"data row2 col5\" >0.561</td>\n",
       "      <td id=\"T_86adf_row2_col6\" class=\"data row2 col6\" >0.000</td>\n",
       "      <td id=\"T_86adf_row2_col7\" class=\"data row2 col7\" >0.521</td>\n",
       "      <td id=\"T_86adf_row2_col8\" class=\"data row2 col8\" >0.000</td>\n",
       "      <td id=\"T_86adf_row2_col9\" class=\"data row2 col9\" >0.829</td>\n",
       "      <td id=\"T_86adf_row2_col10\" class=\"data row2 col10\" >0.000</td>\n",
       "      <td id=\"T_86adf_row2_col11\" class=\"data row2 col11\" >1.000</td>\n",
       "      <td id=\"T_86adf_row2_col12\" class=\"data row2 col12\" >0.000</td>\n",
       "      <td id=\"T_86adf_row2_col13\" class=\"data row2 col13\" >1.000</td>\n",
       "      <td id=\"T_86adf_row2_col14\" class=\"data row2 col14\" >0.000</td>\n",
       "      <td id=\"T_86adf_row2_col15\" class=\"data row2 col15\" >0.000</td>\n",
       "    </tr>\n",
       "    <tr>\n",
       "      <th id=\"T_86adf_level0_row3\" class=\"row_heading level0 row3\" >68</th>\n",
       "      <td id=\"T_86adf_row3_col0\" class=\"data row3 col0\" >0.000</td>\n",
       "      <td id=\"T_86adf_row3_col1\" class=\"data row3 col1\" >0.594</td>\n",
       "      <td id=\"T_86adf_row3_col2\" class=\"data row3 col2\" >0.000</td>\n",
       "      <td id=\"T_86adf_row3_col3\" class=\"data row3 col3\" >0.165</td>\n",
       "      <td id=\"T_86adf_row3_col4\" class=\"data row3 col4\" >0.000</td>\n",
       "      <td id=\"T_86adf_row3_col5\" class=\"data row3 col5\" >0.554</td>\n",
       "      <td id=\"T_86adf_row3_col6\" class=\"data row3 col6\" >0.000</td>\n",
       "      <td id=\"T_86adf_row3_col7\" class=\"data row3 col7\" >0.604</td>\n",
       "      <td id=\"T_86adf_row3_col8\" class=\"data row3 col8\" >1.000</td>\n",
       "      <td id=\"T_86adf_row3_col9\" class=\"data row3 col9\" >0.301</td>\n",
       "      <td id=\"T_86adf_row3_col10\" class=\"data row3 col10\" >0.000</td>\n",
       "      <td id=\"T_86adf_row3_col11\" class=\"data row3 col11\" >1.000</td>\n",
       "      <td id=\"T_86adf_row3_col12\" class=\"data row3 col12\" >0.000</td>\n",
       "      <td id=\"T_86adf_row3_col13\" class=\"data row3 col13\" >0.000</td>\n",
       "      <td id=\"T_86adf_row3_col14\" class=\"data row3 col14\" >0.000</td>\n",
       "      <td id=\"T_86adf_row3_col15\" class=\"data row3 col15\" >1.000</td>\n",
       "    </tr>\n",
       "    <tr>\n",
       "      <th id=\"T_86adf_level0_row4\" class=\"row_heading level0 row4\" >187</th>\n",
       "      <td id=\"T_86adf_row4_col0\" class=\"data row4 col0\" >1.000</td>\n",
       "      <td id=\"T_86adf_row4_col1\" class=\"data row4 col1\" >0.775</td>\n",
       "      <td id=\"T_86adf_row4_col2\" class=\"data row4 col2\" >0.000</td>\n",
       "      <td id=\"T_86adf_row4_col3\" class=\"data row4 col3\" >0.470</td>\n",
       "      <td id=\"T_86adf_row4_col4\" class=\"data row4 col4\" >0.000</td>\n",
       "      <td id=\"T_86adf_row4_col5\" class=\"data row4 col5\" >0.415</td>\n",
       "      <td id=\"T_86adf_row4_col6\" class=\"data row4 col6\" >1.000</td>\n",
       "      <td id=\"T_86adf_row4_col7\" class=\"data row4 col7\" >0.938</td>\n",
       "      <td id=\"T_86adf_row4_col8\" class=\"data row4 col8\" >0.000</td>\n",
       "      <td id=\"T_86adf_row4_col9\" class=\"data row4 col9\" >0.512</td>\n",
       "      <td id=\"T_86adf_row4_col10\" class=\"data row4 col10\" >0.000</td>\n",
       "      <td id=\"T_86adf_row4_col11\" class=\"data row4 col11\" >0.000</td>\n",
       "      <td id=\"T_86adf_row4_col12\" class=\"data row4 col12\" >1.000</td>\n",
       "      <td id=\"T_86adf_row4_col13\" class=\"data row4 col13\" >0.000</td>\n",
       "      <td id=\"T_86adf_row4_col14\" class=\"data row4 col14\" >0.000</td>\n",
       "      <td id=\"T_86adf_row4_col15\" class=\"data row4 col15\" >1.000</td>\n",
       "    </tr>\n",
       "  </tbody>\n",
       "</table>\n"
      ],
      "text/plain": [
       "<pandas.io.formats.style.Styler at 0x13d4ba9d2b0>"
      ]
     },
     "execution_count": 12,
     "metadata": {},
     "output_type": "execute_result"
    }
   ],
   "source": [
    "Data_scaled = pd.DataFrame(Data_scaled, columns = col_names)\n",
    "Data_scaled.sample(5, random_state = 999).style.set_precision(3)"
   ]
  },
  {
   "cell_type": "markdown",
   "id": "c565c41b",
   "metadata": {},
   "source": [
    "To be certain that scaling has been done properly, we print out a summary of all columns. The min value is 0 and max value is 1 for each column, so scaling has been successful. "
   ]
  },
  {
   "cell_type": "code",
   "execution_count": 13,
   "id": "d04e1845",
   "metadata": {},
   "outputs": [
    {
     "data": {
      "text/html": [
       "<style type=\"text/css\">\n",
       "</style>\n",
       "<table id=\"T_f28bf_\">\n",
       "  <thead>\n",
       "    <tr>\n",
       "      <th class=\"blank level0\" >&nbsp;</th>\n",
       "      <th class=\"col_heading level0 col0\" >Gender</th>\n",
       "      <th class=\"col_heading level0 col1\" >Secondary Education Percentage</th>\n",
       "      <th class=\"col_heading level0 col2\" >Secondary Board of Education</th>\n",
       "      <th class=\"col_heading level0 col3\" >Higher Secondary Education Percentage</th>\n",
       "      <th class=\"col_heading level0 col4\" >Higher Secondary Board of Education</th>\n",
       "      <th class=\"col_heading level0 col5\" >Undergraduate Degree Percentage</th>\n",
       "      <th class=\"col_heading level0 col6\" >Work Experience</th>\n",
       "      <th class=\"col_heading level0 col7\" >Employability Test Percentage</th>\n",
       "      <th class=\"col_heading level0 col8\" >Post Graduate Specialisation</th>\n",
       "      <th class=\"col_heading level0 col9\" >MBA Grade Percentage</th>\n",
       "      <th class=\"col_heading level0 col10\" >Higher Secondary Specialisation_Arts</th>\n",
       "      <th class=\"col_heading level0 col11\" >Higher Secondary Specialisation_Commerce</th>\n",
       "      <th class=\"col_heading level0 col12\" >Higher Secondary Specialisation_Science</th>\n",
       "      <th class=\"col_heading level0 col13\" >Undergraduate Degree Type_Comm&Mgmt</th>\n",
       "      <th class=\"col_heading level0 col14\" >Undergraduate Degree Type_Others</th>\n",
       "      <th class=\"col_heading level0 col15\" >Undergraduate Degree Type_Sci&Tech</th>\n",
       "    </tr>\n",
       "  </thead>\n",
       "  <tbody>\n",
       "    <tr>\n",
       "      <th id=\"T_f28bf_level0_row0\" class=\"row_heading level0 row0\" >count</th>\n",
       "      <td id=\"T_f28bf_row0_col0\" class=\"data row0 col0\" >215.000</td>\n",
       "      <td id=\"T_f28bf_row0_col1\" class=\"data row0 col1\" >215.000</td>\n",
       "      <td id=\"T_f28bf_row0_col2\" class=\"data row0 col2\" >215.000</td>\n",
       "      <td id=\"T_f28bf_row0_col3\" class=\"data row0 col3\" >215.000</td>\n",
       "      <td id=\"T_f28bf_row0_col4\" class=\"data row0 col4\" >215.000</td>\n",
       "      <td id=\"T_f28bf_row0_col5\" class=\"data row0 col5\" >215.000</td>\n",
       "      <td id=\"T_f28bf_row0_col6\" class=\"data row0 col6\" >215.000</td>\n",
       "      <td id=\"T_f28bf_row0_col7\" class=\"data row0 col7\" >215.000</td>\n",
       "      <td id=\"T_f28bf_row0_col8\" class=\"data row0 col8\" >215.000</td>\n",
       "      <td id=\"T_f28bf_row0_col9\" class=\"data row0 col9\" >215.000</td>\n",
       "      <td id=\"T_f28bf_row0_col10\" class=\"data row0 col10\" >215.000</td>\n",
       "      <td id=\"T_f28bf_row0_col11\" class=\"data row0 col11\" >215.000</td>\n",
       "      <td id=\"T_f28bf_row0_col12\" class=\"data row0 col12\" >215.000</td>\n",
       "      <td id=\"T_f28bf_row0_col13\" class=\"data row0 col13\" >215.000</td>\n",
       "      <td id=\"T_f28bf_row0_col14\" class=\"data row0 col14\" >215.000</td>\n",
       "      <td id=\"T_f28bf_row0_col15\" class=\"data row0 col15\" >215.000</td>\n",
       "    </tr>\n",
       "    <tr>\n",
       "      <th id=\"T_f28bf_level0_row1\" class=\"row_heading level0 row1\" >mean</th>\n",
       "      <td id=\"T_f28bf_row1_col0\" class=\"data row1 col0\" >0.647</td>\n",
       "      <td id=\"T_f28bf_row1_col1\" class=\"data row1 col1\" >0.544</td>\n",
       "      <td id=\"T_f28bf_row1_col2\" class=\"data row1 col2\" >0.460</td>\n",
       "      <td id=\"T_f28bf_row1_col3\" class=\"data row1 col3\" >0.483</td>\n",
       "      <td id=\"T_f28bf_row1_col4\" class=\"data row1 col4\" >0.609</td>\n",
       "      <td id=\"T_f28bf_row1_col5\" class=\"data row1 col5\" >0.399</td>\n",
       "      <td id=\"T_f28bf_row1_col6\" class=\"data row1 col6\" >0.344</td>\n",
       "      <td id=\"T_f28bf_row1_col7\" class=\"data row1 col7\" >0.460</td>\n",
       "      <td id=\"T_f28bf_row1_col8\" class=\"data row1 col8\" >0.442</td>\n",
       "      <td id=\"T_f28bf_row1_col9\" class=\"data row1 col9\" >0.415</td>\n",
       "      <td id=\"T_f28bf_row1_col10\" class=\"data row1 col10\" >0.051</td>\n",
       "      <td id=\"T_f28bf_row1_col11\" class=\"data row1 col11\" >0.526</td>\n",
       "      <td id=\"T_f28bf_row1_col12\" class=\"data row1 col12\" >0.423</td>\n",
       "      <td id=\"T_f28bf_row1_col13\" class=\"data row1 col13\" >0.674</td>\n",
       "      <td id=\"T_f28bf_row1_col14\" class=\"data row1 col14\" >0.051</td>\n",
       "      <td id=\"T_f28bf_row1_col15\" class=\"data row1 col15\" >0.274</td>\n",
       "    </tr>\n",
       "    <tr>\n",
       "      <th id=\"T_f28bf_level0_row2\" class=\"row_heading level0 row2\" >std</th>\n",
       "      <td id=\"T_f28bf_row2_col0\" class=\"data row2 col0\" >0.479</td>\n",
       "      <td id=\"T_f28bf_row2_col1\" class=\"data row2 col1\" >0.223</td>\n",
       "      <td id=\"T_f28bf_row2_col2\" class=\"data row2 col2\" >0.500</td>\n",
       "      <td id=\"T_f28bf_row2_col3\" class=\"data row2 col3\" >0.180</td>\n",
       "      <td id=\"T_f28bf_row2_col4\" class=\"data row2 col4\" >0.489</td>\n",
       "      <td id=\"T_f28bf_row2_col5\" class=\"data row2 col5\" >0.179</td>\n",
       "      <td id=\"T_f28bf_row2_col6\" class=\"data row2 col6\" >0.476</td>\n",
       "      <td id=\"T_f28bf_row2_col7\" class=\"data row2 col7\" >0.277</td>\n",
       "      <td id=\"T_f28bf_row2_col8\" class=\"data row2 col8\" >0.498</td>\n",
       "      <td id=\"T_f28bf_row2_col9\" class=\"data row2 col9\" >0.219</td>\n",
       "      <td id=\"T_f28bf_row2_col10\" class=\"data row2 col10\" >0.221</td>\n",
       "      <td id=\"T_f28bf_row2_col11\" class=\"data row2 col11\" >0.501</td>\n",
       "      <td id=\"T_f28bf_row2_col12\" class=\"data row2 col12\" >0.495</td>\n",
       "      <td id=\"T_f28bf_row2_col13\" class=\"data row2 col13\" >0.470</td>\n",
       "      <td id=\"T_f28bf_row2_col14\" class=\"data row2 col14\" >0.221</td>\n",
       "      <td id=\"T_f28bf_row2_col15\" class=\"data row2 col15\" >0.447</td>\n",
       "    </tr>\n",
       "    <tr>\n",
       "      <th id=\"T_f28bf_level0_row3\" class=\"row_heading level0 row3\" >min</th>\n",
       "      <td id=\"T_f28bf_row3_col0\" class=\"data row3 col0\" >0.000</td>\n",
       "      <td id=\"T_f28bf_row3_col1\" class=\"data row3 col1\" >0.000</td>\n",
       "      <td id=\"T_f28bf_row3_col2\" class=\"data row3 col2\" >0.000</td>\n",
       "      <td id=\"T_f28bf_row3_col3\" class=\"data row3 col3\" >0.000</td>\n",
       "      <td id=\"T_f28bf_row3_col4\" class=\"data row3 col4\" >0.000</td>\n",
       "      <td id=\"T_f28bf_row3_col5\" class=\"data row3 col5\" >0.000</td>\n",
       "      <td id=\"T_f28bf_row3_col6\" class=\"data row3 col6\" >0.000</td>\n",
       "      <td id=\"T_f28bf_row3_col7\" class=\"data row3 col7\" >0.000</td>\n",
       "      <td id=\"T_f28bf_row3_col8\" class=\"data row3 col8\" >0.000</td>\n",
       "      <td id=\"T_f28bf_row3_col9\" class=\"data row3 col9\" >0.000</td>\n",
       "      <td id=\"T_f28bf_row3_col10\" class=\"data row3 col10\" >0.000</td>\n",
       "      <td id=\"T_f28bf_row3_col11\" class=\"data row3 col11\" >0.000</td>\n",
       "      <td id=\"T_f28bf_row3_col12\" class=\"data row3 col12\" >0.000</td>\n",
       "      <td id=\"T_f28bf_row3_col13\" class=\"data row3 col13\" >0.000</td>\n",
       "      <td id=\"T_f28bf_row3_col14\" class=\"data row3 col14\" >0.000</td>\n",
       "      <td id=\"T_f28bf_row3_col15\" class=\"data row3 col15\" >0.000</td>\n",
       "    </tr>\n",
       "    <tr>\n",
       "      <th id=\"T_f28bf_level0_row4\" class=\"row_heading level0 row4\" >25%</th>\n",
       "      <td id=\"T_f28bf_row4_col0\" class=\"data row4 col0\" >0.000</td>\n",
       "      <td id=\"T_f28bf_row4_col1\" class=\"data row4 col1\" >0.406</td>\n",
       "      <td id=\"T_f28bf_row4_col2\" class=\"data row4 col2\" >0.000</td>\n",
       "      <td id=\"T_f28bf_row4_col3\" class=\"data row4 col3\" >0.394</td>\n",
       "      <td id=\"T_f28bf_row4_col4\" class=\"data row4 col4\" >0.000</td>\n",
       "      <td id=\"T_f28bf_row4_col5\" class=\"data row4 col5\" >0.268</td>\n",
       "      <td id=\"T_f28bf_row4_col6\" class=\"data row4 col6\" >0.000</td>\n",
       "      <td id=\"T_f28bf_row4_col7\" class=\"data row4 col7\" >0.208</td>\n",
       "      <td id=\"T_f28bf_row4_col8\" class=\"data row4 col8\" >0.000</td>\n",
       "      <td id=\"T_f28bf_row4_col9\" class=\"data row4 col9\" >0.252</td>\n",
       "      <td id=\"T_f28bf_row4_col10\" class=\"data row4 col10\" >0.000</td>\n",
       "      <td id=\"T_f28bf_row4_col11\" class=\"data row4 col11\" >0.000</td>\n",
       "      <td id=\"T_f28bf_row4_col12\" class=\"data row4 col12\" >0.000</td>\n",
       "      <td id=\"T_f28bf_row4_col13\" class=\"data row4 col13\" >0.000</td>\n",
       "      <td id=\"T_f28bf_row4_col14\" class=\"data row4 col14\" >0.000</td>\n",
       "      <td id=\"T_f28bf_row4_col15\" class=\"data row4 col15\" >0.000</td>\n",
       "    </tr>\n",
       "    <tr>\n",
       "      <th id=\"T_f28bf_level0_row5\" class=\"row_heading level0 row5\" >50%</th>\n",
       "      <td id=\"T_f28bf_row5_col0\" class=\"data row5 col0\" >1.000</td>\n",
       "      <td id=\"T_f28bf_row5_col1\" class=\"data row5 col1\" >0.538</td>\n",
       "      <td id=\"T_f28bf_row5_col2\" class=\"data row5 col2\" >0.000</td>\n",
       "      <td id=\"T_f28bf_row5_col3\" class=\"data row5 col3\" >0.461</td>\n",
       "      <td id=\"T_f28bf_row5_col4\" class=\"data row5 col4\" >1.000</td>\n",
       "      <td id=\"T_f28bf_row5_col5\" class=\"data row5 col5\" >0.390</td>\n",
       "      <td id=\"T_f28bf_row5_col6\" class=\"data row5 col6\" >0.000</td>\n",
       "      <td id=\"T_f28bf_row5_col7\" class=\"data row5 col7\" >0.438</td>\n",
       "      <td id=\"T_f28bf_row5_col8\" class=\"data row5 col8\" >0.000</td>\n",
       "      <td id=\"T_f28bf_row5_col9\" class=\"data row5 col9\" >0.404</td>\n",
       "      <td id=\"T_f28bf_row5_col10\" class=\"data row5 col10\" >0.000</td>\n",
       "      <td id=\"T_f28bf_row5_col11\" class=\"data row5 col11\" >1.000</td>\n",
       "      <td id=\"T_f28bf_row5_col12\" class=\"data row5 col12\" >0.000</td>\n",
       "      <td id=\"T_f28bf_row5_col13\" class=\"data row5 col13\" >1.000</td>\n",
       "      <td id=\"T_f28bf_row5_col14\" class=\"data row5 col14\" >0.000</td>\n",
       "      <td id=\"T_f28bf_row5_col15\" class=\"data row5 col15\" >0.000</td>\n",
       "    </tr>\n",
       "    <tr>\n",
       "      <th id=\"T_f28bf_level0_row6\" class=\"row_heading level0 row6\" >75%</th>\n",
       "      <td id=\"T_f28bf_row6_col0\" class=\"data row6 col0\" >1.000</td>\n",
       "      <td id=\"T_f28bf_row6_col1\" class=\"data row6 col1\" >0.718</td>\n",
       "      <td id=\"T_f28bf_row6_col2\" class=\"data row6 col2\" >1.000</td>\n",
       "      <td id=\"T_f28bf_row6_col3\" class=\"data row6 col3\" >0.593</td>\n",
       "      <td id=\"T_f28bf_row6_col4\" class=\"data row6 col4\" >1.000</td>\n",
       "      <td id=\"T_f28bf_row6_col5\" class=\"data row6 col5\" >0.537</td>\n",
       "      <td id=\"T_f28bf_row6_col6\" class=\"data row6 col6\" >1.000</td>\n",
       "      <td id=\"T_f28bf_row6_col7\" class=\"data row6 col7\" >0.698</td>\n",
       "      <td id=\"T_f28bf_row6_col8\" class=\"data row6 col8\" >1.000</td>\n",
       "      <td id=\"T_f28bf_row6_col9\" class=\"data row6 col9\" >0.564</td>\n",
       "      <td id=\"T_f28bf_row6_col10\" class=\"data row6 col10\" >0.000</td>\n",
       "      <td id=\"T_f28bf_row6_col11\" class=\"data row6 col11\" >1.000</td>\n",
       "      <td id=\"T_f28bf_row6_col12\" class=\"data row6 col12\" >1.000</td>\n",
       "      <td id=\"T_f28bf_row6_col13\" class=\"data row6 col13\" >1.000</td>\n",
       "      <td id=\"T_f28bf_row6_col14\" class=\"data row6 col14\" >0.000</td>\n",
       "      <td id=\"T_f28bf_row6_col15\" class=\"data row6 col15\" >1.000</td>\n",
       "    </tr>\n",
       "    <tr>\n",
       "      <th id=\"T_f28bf_level0_row7\" class=\"row_heading level0 row7\" >max</th>\n",
       "      <td id=\"T_f28bf_row7_col0\" class=\"data row7 col0\" >1.000</td>\n",
       "      <td id=\"T_f28bf_row7_col1\" class=\"data row7 col1\" >1.000</td>\n",
       "      <td id=\"T_f28bf_row7_col2\" class=\"data row7 col2\" >1.000</td>\n",
       "      <td id=\"T_f28bf_row7_col3\" class=\"data row7 col3\" >1.000</td>\n",
       "      <td id=\"T_f28bf_row7_col4\" class=\"data row7 col4\" >1.000</td>\n",
       "      <td id=\"T_f28bf_row7_col5\" class=\"data row7 col5\" >1.000</td>\n",
       "      <td id=\"T_f28bf_row7_col6\" class=\"data row7 col6\" >1.000</td>\n",
       "      <td id=\"T_f28bf_row7_col7\" class=\"data row7 col7\" >1.000</td>\n",
       "      <td id=\"T_f28bf_row7_col8\" class=\"data row7 col8\" >1.000</td>\n",
       "      <td id=\"T_f28bf_row7_col9\" class=\"data row7 col9\" >1.000</td>\n",
       "      <td id=\"T_f28bf_row7_col10\" class=\"data row7 col10\" >1.000</td>\n",
       "      <td id=\"T_f28bf_row7_col11\" class=\"data row7 col11\" >1.000</td>\n",
       "      <td id=\"T_f28bf_row7_col12\" class=\"data row7 col12\" >1.000</td>\n",
       "      <td id=\"T_f28bf_row7_col13\" class=\"data row7 col13\" >1.000</td>\n",
       "      <td id=\"T_f28bf_row7_col14\" class=\"data row7 col14\" >1.000</td>\n",
       "      <td id=\"T_f28bf_row7_col15\" class=\"data row7 col15\" >1.000</td>\n",
       "    </tr>\n",
       "  </tbody>\n",
       "</table>\n"
      ],
      "text/plain": [
       "<pandas.io.formats.style.Styler at 0x13d48425be0>"
      ]
     },
     "execution_count": 13,
     "metadata": {},
     "output_type": "execute_result"
    }
   ],
   "source": [
    "Data_scaled.describe().style.set_precision(3)"
   ]
  },
  {
   "cell_type": "markdown",
   "id": "eea8769e",
   "metadata": {},
   "source": [
    "### Feature Selection <a id='fs'></a>"
   ]
  },
  {
   "cell_type": "code",
   "execution_count": 26,
   "id": "c708a7ae",
   "metadata": {},
   "outputs": [],
   "source": [
    "from sklearn.feature_selection import f_classif\n",
    "from sklearn.model_selection import cross_val_score, RepeatedStratifiedKFold\n",
    "from sklearn.linear_model import LogisticRegression\n",
    "from sklearn import feature_selection as fs\n",
    "\n",
    "logisticRegr = LogisticRegression(random_state=999)\n",
    "\n",
    "X = Data_scaled\n",
    "y = target"
   ]
  },
  {
   "cell_type": "code",
   "execution_count": 27,
   "id": "03834702",
   "metadata": {},
   "outputs": [],
   "source": [
    "cv_method = RepeatedStratifiedKFold(n_splits=5, \n",
    "                                     n_repeats=3,\n",
    "                                     random_state=999)"
   ]
  },
  {
   "cell_type": "code",
   "execution_count": 28,
   "id": "50a5b249",
   "metadata": {},
   "outputs": [],
   "source": [
    "scoring_metric = 'accuracy'"
   ]
  },
  {
   "cell_type": "code",
   "execution_count": 29,
   "id": "82cfd0ee",
   "metadata": {},
   "outputs": [
    {
     "data": {
      "text/plain": [
       "array([0.8372093 , 0.81395349, 0.86046512, 0.79069767, 0.8372093 ,\n",
       "       0.86046512, 0.95348837, 0.86046512, 0.8372093 , 0.88372093,\n",
       "       0.93023256, 0.88372093, 0.86046512, 0.79069767, 0.86046512])"
      ]
     },
     "execution_count": 29,
     "metadata": {},
     "output_type": "execute_result"
    }
   ],
   "source": [
    "cv_results_full = cross_val_score(estimator=logisticRegr,\n",
    "                             X=X,\n",
    "                             y=y, \n",
    "                             cv=cv_method, \n",
    "                             scoring=scoring_metric)\n",
    "cv_results_full\n"
   ]
  },
  {
   "cell_type": "code",
   "execution_count": 30,
   "id": "0cf0aeb3",
   "metadata": {},
   "outputs": [
    {
     "data": {
      "text/plain": [
       "0.857"
      ]
     },
     "execution_count": 30,
     "metadata": {},
     "output_type": "execute_result"
    }
   ],
   "source": [
    "cv_results_full.mean().round(3)\n"
   ]
  },
  {
   "cell_type": "code",
   "execution_count": 31,
   "id": "15ad5d4a",
   "metadata": {},
   "outputs": [],
   "source": [
    "num_features = 5"
   ]
  },
  {
   "cell_type": "code",
   "execution_count": 33,
   "id": "18d850f4",
   "metadata": {},
   "outputs": [
    {
     "data": {
      "text/plain": [
       "array([1, 3, 5, 6, 8], dtype=int64)"
      ]
     },
     "execution_count": 33,
     "metadata": {},
     "output_type": "execute_result"
    }
   ],
   "source": [
    "fs_fit_fscore = fs.SelectKBest(fs.f_classif, k=num_features)\n",
    "fs_fit_fscore.fit_transform(X, y)\n",
    "fs_indices_fscore = np.argsort(np.nan_to_num(fs_fit_fscore.scores_))[::-1][0:num_features]\n",
    "fs_indices_fscore\n"
   ]
  },
  {
   "cell_type": "code",
   "execution_count": 35,
   "id": "f3a0f2c1",
   "metadata": {},
   "outputs": [
    {
     "data": {
      "text/plain": [
       "array(['Secondary Education Percentage',\n",
       "       'Higher Secondary Education Percentage',\n",
       "       'Higher Secondary Specialisation',\n",
       "       'Undergraduate Degree Percentage', 'Work Experience'], dtype=object)"
      ]
     },
     "execution_count": 35,
     "metadata": {},
     "output_type": "execute_result"
    }
   ],
   "source": [
    "best_features_fscore = placement.columns[fs_indices_fscore].values\n",
    "best_features_fscore\n"
   ]
  },
  {
   "cell_type": "code",
   "execution_count": 36,
   "id": "c2d2eed2",
   "metadata": {},
   "outputs": [
    {
     "data": {
      "text/plain": [
       "array([124.84250634,  67.74518757,  63.71917614,  17.57165962,\n",
       "        14.27951129])"
      ]
     },
     "execution_count": 36,
     "metadata": {},
     "output_type": "execute_result"
    }
   ],
   "source": [
    "feature_importances_fscore = fs_fit_fscore.scores_[fs_indices_fscore]\n",
    "feature_importances_fscore\n"
   ]
  },
  {
   "cell_type": "code",
   "execution_count": 38,
   "id": "1f9eb210",
   "metadata": {},
   "outputs": [],
   "source": [
    "import matplotlib.pyplot as plt\n",
    "%matplotlib inline \n",
    "%config InlineBackend.figure_format = 'retina'\n",
    "plt.style.use(\"ggplot\")\n",
    "\n",
    "def plot_imp(best_features, scores, method_name):   \n",
    "    plt.barh(best_features, scores)\n",
    "    plt.title(method_name + ' Feature Importances')\n",
    "    plt.xlabel(\"Importance\")\n",
    "    plt.ylabel(\"Features\")\n",
    "    plt.show()\n",
    "    "
   ]
  },
  {
   "cell_type": "code",
   "execution_count": 39,
   "id": "3b99149d",
   "metadata": {},
   "outputs": [
    {
     "data": {
      "image/png": "[encoded data removed]",
      "text/plain": [
       "<Figure size 432x288 with 1 Axes>"
      ]
     },
     "metadata": {
      "image/png": {
       "height": 281,
       "width": 574
      }
     },
     "output_type": "display_data"
    }
   ],
   "source": [
    "plot_imp(best_features_fscore, feature_importances_fscore, 'F-Score')\n"
   ]
  },
  {
   "cell_type": "markdown",
   "id": "e0f5057b",
   "metadata": {},
   "source": [
    "### Logistic Regression <a id='lr'></a>"
   ]
  },
  {
   "cell_type": "code",
   "execution_count": null,
   "id": "a1ec5ddd",
   "metadata": {},
   "outputs": [],
   "source": []
  },
  {
   "cell_type": "code",
   "execution_count": null,
   "id": "7d53a58b",
   "metadata": {},
   "outputs": [],
   "source": []
  },
  {
   "cell_type": "code",
   "execution_count": null,
   "id": "941edb7c",
   "metadata": {},
   "outputs": [],
   "source": []
  },
  {
   "cell_type": "code",
   "execution_count": null,
   "id": "c7698e2f",
   "metadata": {},
   "outputs": [],
   "source": []
  },
  {
   "cell_type": "code",
   "execution_count": null,
   "id": "547b9496",
   "metadata": {},
   "outputs": [],
   "source": []
  },
  {
   "cell_type": "code",
   "execution_count": null,
   "id": "12d9ed0e",
   "metadata": {},
   "outputs": [],
   "source": []
  },
  {
   "cell_type": "code",
   "execution_count": null,
   "id": "fb387a78",
   "metadata": {},
   "outputs": [],
   "source": []
  },
  {
   "cell_type": "code",
   "execution_count": null,
   "id": "879a6a52",
   "metadata": {},
   "outputs": [],
   "source": []
  },
  {
   "cell_type": "markdown",
   "id": "5721279b",
   "metadata": {},
   "source": [
    "### K Nearest Neighbors <a id='knn'></a>"
   ]
  },
  {
   "cell_type": "markdown",
   "id": "1738a5b5",
   "metadata": {},
   "source": [
    "### Decision Tree <a id='dt'></a>"
   ]
  },
  {
   "cell_type": "markdown",
   "id": "2b596ce5",
   "metadata": {},
   "source": [
    "### Random Forest <a id='rf'></a>"
   ]
  },
  {
   "cell_type": "markdown",
   "id": "cea9c543",
   "metadata": {},
   "source": [
    "### Naive Bayes <a id='nb'></a>"
   ]
  },
  {
   "cell_type": "markdown",
   "id": "22fd6463",
   "metadata": {},
   "source": [
    "### Model Comparison <a id='mc'></a>"
   ]
  },
  {
   "cell_type": "markdown",
   "id": "e59efd26",
   "metadata": {},
   "source": [
    "## Critique and Limitations <a id='cl'></a>"
   ]
  },
  {
   "cell_type": "markdown",
   "id": "dd96d363",
   "metadata": {},
   "source": [
    "## Summary and Conclusions <a id='sc'></a>"
   ]
  },
  {
   "cell_type": "markdown",
   "id": "41c46447",
   "metadata": {},
   "source": [
    "### Project Summary <a id='ps'></a>"
   ]
  },
  {
   "cell_type": "markdown",
   "id": "92964d47",
   "metadata": {},
   "source": [
    "### Summary of Findings <a id='sf'></a>"
   ]
  },
  {
   "cell_type": "markdown",
   "id": "a9438379",
   "metadata": {},
   "source": [
    "### Conclusions <a id='con'></a>"
   ]
  },
  {
   "cell_type": "markdown",
   "id": "1d3bdf35",
   "metadata": {},
   "source": [
    "## References <a id='ref'></a>"
   ]
  }
 ],
 "metadata": {
  "kernelspec": {
   "display_name": "Python 3 (ipykernel)",
   "language": "python",
   "name": "python3"
  },
  "language_info": {
   "codemirror_mode": {
    "name": "ipython",
    "version": 3
   },
   "file_extension": ".py",
   "mimetype": "text/x-python",
   "name": "python",
   "nbconvert_exporter": "python",
   "pygments_lexer": "ipython3",
   "version": "3.9.7"
  }
 },
 "nbformat": 4,
 "nbformat_minor": 5
}
